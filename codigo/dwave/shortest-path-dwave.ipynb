{
 "cells": [
  {
   "cell_type": "code",
   "execution_count": null,
   "id": "4d49d666-f25b-4ac0-b1ce-e8036d55f15f",
   "metadata": {
    "collapsed": false
   },
   "outputs": [],
   "source": [
    "# Graph (Primer)\n",
    "num_nodes = 4\n",
    "start_node = 0\n",
    "end_node = num_nodes - 1\n",
    "edges = [(0, 1), (0, 2), (1, 2), (1, 3), (2, 3)]\n",
    "weights = {(0, 1): 5, (0, 2): 8, (1, 2): 2, (1, 3): 7, (2, 3): 4}\n",
    "P = sum(weights.values()) + 1\n",
    "graph_layout = {0: [-1, 0], 1: [0, 1], 2: [0, -1], 3: [1, 0]}"
   ]
  },
  {
   "cell_type": "code",
   "execution_count": null,
   "id": "0f85aad5-f132-49c9-a223-5b7b025e0d5a",
   "metadata": {
    "collapsed": false
   },
   "outputs": [],
   "source": [
    "# Graph (Segundo)\n",
    "num_nodes = 6\n",
    "start_node = 0\n",
    "end_node = num_nodes - 1\n",
    "edges = [(0, 1), (0, 2), (0, 3), (1, 2), (1, 3),\n",
    "         (2, 3), (2, 4), (3, 4), (3, 5), (4, 3), (4, 5)]\n",
    "weights = {(0, 1): 2, (0, 2): 1, (0, 3): 5, (1, 2): 2, (1, 3): 3,\n",
    "           (2, 3): 3, (2, 4): 1, (3, 4): 1, (3, 5): 5, (4, 3): 1, (4, 5): 2}\n",
    "P = sum(weights.values()) + 1\n",
    "graph_layout = {0: [-1, 0], 1: [0, 1], 2: [0, -1],\n",
    "                3: [1, 1], 4: [1, -1], 5: [2, 0]}"
   ]
  },
  {
   "cell_type": "code",
   "execution_count": null,
   "id": "b959a783-6f7b-44ae-93df-7e7e11cfd787",
   "metadata": {
    "collapsed": false
   },
   "outputs": [],
   "source": [
    "# Graph (Zhiqiang)\n",
    "num_nodes = 4\n",
    "start_node = 0\n",
    "end_node = num_nodes - 1\n",
    "edges = [(0, 1), (0, 2), (1, 3), (2, 3)]\n",
    "weights = {(0, 1): 3, (0, 2): 6, (1, 3): 9, (2, 3): 1}\n",
    "P = sum(weights.values()) + 1\n",
    "graph_layout = {0: [-1, 0], 1: [0, 1], 2: [0, -1], 3: [1, 0]}"
   ]
  },
  {
   "cell_type": "code",
   "execution_count": null,
   "id": "d76f3b62-5708-40c6-a08f-6da7bf9e1fa8",
   "metadata": {
    "collapsed": false
   },
   "outputs": [],
   "source": [
    "import networkx as nx\n",
    "import matplotlib.pyplot as plt\n",
    "\n",
    "# Imprime un grafo dirigido pesado\n",
    "# Entrada\n",
    "#     graph_nodes: Lista de nodos del grafo\n",
    "#     graph_edges: Diccionario {vértice: peso} donde vértice es (n1, n2)\n",
    "#     layout:      Para especificar la posición de los nodos\n",
    "def print_graph(graph_nodes, graph_edges, layout=None):\n",
    "    G = nx.DiGraph()\n",
    "\n",
    "    # Nodes\n",
    "    G.add_nodes_from(graph_nodes)\n",
    "\n",
    "    # Edges\n",
    "    for pair, weight in graph_edges.items():\n",
    "        G.add_edge(pair[0], pair[1], weight=weight)\n",
    "\n",
    "    # Print graph\n",
    "    if layout is None:\n",
    "        layout = nx.spring_layout(G)\n",
    "\n",
    "    plt.figure(3, figsize=(6, 2))\n",
    "    nx.draw(G, layout, with_labels=True, node_size=600)\n",
    "    edge_labels = nx.get_edge_attributes(G, \"weight\")\n",
    "    nx.draw_networkx_edge_labels(G, pos=layout, edge_labels=edge_labels)\n",
    "    # plt.savefig(\"../../latex/resultados/img/segundo_grafo.png\")\n",
    "\n",
    "print_graph(range(num_nodes), weights, layout=graph_layout)"
   ]
  },
  {
   "cell_type": "code",
   "execution_count": null,
   "id": "b96e1329-7d12-445a-b33a-ffc83b6f48cc",
   "metadata": {
    "collapsed": false
   },
   "outputs": [],
   "source": [
    "from dimod import BinaryQuadraticModel\n",
    "# Initialize model\n",
    "bqm = BinaryQuadraticModel(\"BINARY\")"
   ]
  },
  {
   "cell_type": "code",
   "execution_count": null,
   "id": "7851132c-c59f-4407-968a-92ac56ace84b",
   "metadata": {
    "collapsed": false
   },
   "outputs": [],
   "source": [
    "# Cost function\n",
    "for e in range(len(edges)):\n",
    "    bqm.add_variable(edges[e], weights[edges[e]])"
   ]
  },
  {
   "cell_type": "code",
   "execution_count": null,
   "id": "d009f088-c137-40e5-bf58-8989ce3de07c",
   "metadata": {
    "collapsed": false
   },
   "outputs": [],
   "source": [
    "# Constraint: Starting node (The path has to start)\n",
    "c_start = []\n",
    "for e in range(len(edges)):\n",
    "    i, j = edges[e]  # i->j\n",
    "    if i == start_node:\n",
    "        c_start.append((edges[e], 1))\n",
    "\n",
    "# (\\sum_{c} c[0]*c[1]) + constant = 0\n",
    "bqm.add_linear_equality_constraint(c_start, constant=-1, lagrange_multiplier=P)"
   ]
  },
  {
   "cell_type": "code",
   "execution_count": null,
   "id": "8fd60298-c365-4ac3-9752-4d37cbc36d69",
   "metadata": {
    "collapsed": false
   },
   "outputs": [],
   "source": [
    "# Constraint: Ending node\n",
    "c_end = []\n",
    "for e in range(len(edges)):\n",
    "    i, j = edges[e]  # i->j\n",
    "    if j == end_node:\n",
    "        c_end.append((edges[e], 1))\n",
    "\n",
    "bqm.add_linear_equality_constraint(c_end, constant=-1, lagrange_multiplier=P)"
   ]
  },
  {
   "cell_type": "code",
   "execution_count": null,
   "id": "75697424-1267-4fc1-be4a-367826655d3d",
   "metadata": {
    "collapsed": false
   },
   "outputs": [],
   "source": [
    "# Constraints: Intermediate nodes\n",
    "for node in range(1, end_node):\n",
    "    c_inter = []\n",
    "    for e in range(len(edges)):\n",
    "        i, j = edges[e]\n",
    "        if j == node:\n",
    "            c_inter.append((edges[e], 1))  # Entering edges\n",
    "        elif i == node:\n",
    "            c_inter.append((edges[e], -1))  # Exiting edges\n",
    "\n",
    "    bqm.add_linear_equality_constraint(c_inter, constant=0,\n",
    "                                       lagrange_multiplier=P)"
   ]
  },
  {
   "cell_type": "code",
   "execution_count": null,
   "id": "0b38ad51-0dae-4703-a485-447808d139e1",
   "metadata": {
    "collapsed": false
   },
   "outputs": [],
   "source": [
    "from dwave.system import DWaveSampler, EmbeddingComposite\n",
    "# Execute program\n",
    "sampler = EmbeddingComposite(DWaveSampler())\n",
    "sampleset = sampler.sample(bqm, num_reads=1024)\n",
    "print(sampleset)"
   ]
  },
  {
   "cell_type": "code",
   "execution_count": null,
   "id": "ff5c371f-990a-4387-84ee-0685f5d9730f",
   "metadata": {
    "collapsed": false
   },
   "outputs": [],
   "source": [
    "# Obtener únicamente primer resultado\n",
    "sample = sampleset.first.sample\n",
    "print(sample)"
   ]
  }
 ],
 "metadata": {
  "kernelspec": {
   "argv": [
    "python",
    "-m",
    "ipykernel_launcher",
    "-f",
    "{connection_file}"
   ],
   "display_name": "Python 3 (ipykernel)",
   "env": null,
   "interrupt_mode": "signal",
   "language": "python",
   "metadata": {
    "debugger": true
   },
   "name": "python3"
  },
  "language_info": {
   "codemirror_mode": {
    "name": "ipython",
    "version": 3
   },
   "file_extension": ".py",
   "mimetype": "text/x-python",
   "name": "python",
   "nbconvert_exporter": "python",
   "pygments_lexer": "ipython3",
   "version": "3.8.16"
  },
  "name": "shortest-path-dwave.ipynb"
 },
 "nbformat": 4,
 "nbformat_minor": 5
}
