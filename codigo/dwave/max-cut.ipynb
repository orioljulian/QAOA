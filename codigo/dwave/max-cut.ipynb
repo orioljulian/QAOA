{
 "cells": [
  {
   "cell_type": "code",
   "execution_count": 4,
   "id": "e4e1b2a7-3fb2-4d5a-b90f-d12772c3822c",
   "metadata": {
    "collapsed": false
   },
   "outputs": [],
   "source": [
    "# Graph\n",
    "num_nodes = 4\n",
    "edges = [(0, 1), (1, 2), (2, 3), (3, 0)]\n",
    "graph_layout = {0: [-1, 0], 1: [0, 1], 2: [1, 0], 3: [0, -1]}"
   ]
  },
  {
   "cell_type": "code",
   "execution_count": 5,
   "id": "6f4e71a7-7fb6-4789-84b4-e7ef44f9c63a",
   "metadata": {
    "collapsed": false
   },
   "outputs": [
    {
     "data": {
      "image/png": "[encoded data removed]",
      "text/plain": [
       "<Figure size 600x200 with 1 Axes>"
      ]
     },
     "metadata": {},
     "output_type": "display_data"
    }
   ],
   "source": [
    "import networkx as nx\n",
    "import matplotlib.pyplot as plt\n",
    "\n",
    "# Imprime un grafo dirigido pesado\n",
    "# Entrada\n",
    "#     graph_nodes: Lista de nodos del grafo\n",
    "#     graph_edges: Diccionario {vértice: peso} donde vértice es (n1, n2)\n",
    "#     layout:      Para especificar la posición de los nodos\n",
    "def print_graph(graph_nodes, graph_edges, layout=None):\n",
    "    G = nx.Graph()\n",
    "\n",
    "    # Nodes\n",
    "    G.add_nodes_from(graph_nodes)\n",
    "\n",
    "    # Edges\n",
    "    for pair in graph_edges:\n",
    "        G.add_edge(pair[0], pair[1])\n",
    "\n",
    "    # Print graph\n",
    "    if layout is None:\n",
    "        layout = nx.spring_layout(G)\n",
    "\n",
    "    plt.figure(3, figsize=(6, 2))\n",
    "    nx.draw(G, layout, with_labels=True, node_size=600)\n",
    "\n",
    "print_graph(range(num_nodes), edges, layout=graph_layout)"
   ]
  },
  {
   "cell_type": "code",
   "execution_count": 10,
   "id": "6d3ac9c2-449a-459b-b424-5bd54db041f9",
   "metadata": {
    "collapsed": false
   },
   "outputs": [],
   "source": [
    "from dimod import BinaryQuadraticModel\n",
    "# Initialize model\n",
    "bqm = BinaryQuadraticModel(\"SPIN\")"
   ]
  },
  {
   "cell_type": "code",
   "execution_count": 11,
   "id": "8bbd0394-c4b6-492f-89d5-10366a9c63ac",
   "metadata": {
    "collapsed": false
   },
   "outputs": [],
   "source": [
    "# Cost function\n",
    "for e in range(len(edges)):\n",
    "    i, j = edges[e]\n",
    "    bqm.add_quadratic(i, j, 1)"
   ]
  },
  {
   "cell_type": "code",
   "execution_count": 12,
   "id": "7f644025-9c24-47c1-8a5d-03bd8872578a",
   "metadata": {
    "collapsed": false
   },
   "outputs": [
    {
     "name": "stdout",
     "output_type": "stream",
     "text": [
      "   0  1  2  3 energy num_oc. chain_.\n",
      "0 +1 -1 +1 -1   -4.0     546     0.0\n",
      "1 -1 +1 -1 +1   -4.0     477     0.0\n",
      "2 +1 -1 -1 -1    0.0       1     0.0\n",
      "['SPIN', 3 rows, 1024 samples, 4 variables]\n"
     ]
    }
   ],
   "source": [
    "from dwave.system import DWaveSampler, EmbeddingComposite\n",
    "# Execute program\n",
    "sampler = EmbeddingComposite(DWaveSampler())\n",
    "sampleset = sampler.sample(bqm, num_reads=1024)\n",
    "print(sampleset)"
   ]
  }
 ],
 "metadata": {
  "kernelspec": {
   "argv": [
    "python",
    "-m",
    "ipykernel_launcher",
    "-f",
    "{connection_file}"
   ],
   "display_name": "Python 3 (ipykernel)",
   "env": null,
   "interrupt_mode": "signal",
   "language": "python",
   "metadata": {
    "debugger": true
   },
   "name": "python3"
  },
  "name": "max-cut.ipynb"
 },
 "nbformat": 4,
 "nbformat_minor": 5
}
