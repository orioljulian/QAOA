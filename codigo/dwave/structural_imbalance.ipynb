{
 "cells": [
  {
   "cell_type": "code",
   "execution_count": 2,
   "id": "1cb7124f-dcf8-417d-8448-96f84c254cf9",
   "metadata": {
    "collapsed": false
   },
   "outputs": [
    {
     "name": "stdout",
     "output_type": "stream",
     "text": [
      "Friendly relationships: \n",
      "\tAlice & Bob\n",
      "\tAlice & Eve\n",
      "\tAlice & Wally\n",
      "\tBob & Wally\n",
      "\tEve & Wally\n",
      "Hostile relationships: \n",
      "\tBob & Eve\n"
     ]
    }
   ],
   "source": [
    "import networkx as nx\n",
    "import random\n",
    "\n",
    "G = nx.complete_graph(4)\n",
    "G.add_edges_from([(u, v, {'sign': 2*random.randint(0, 1) - 1}) for u, v in G.edges])\n",
    "nx.relabel_nodes(G, {0: 'Alice', 1: 'Bob', 2: 'Eve', 3: 'Wally'}, copy=False)\n",
    "\n",
    "print('Friendly relationships: \\n\\t' + '\\n\\t'.join(list(x + \" & \" + y for (x, y, sign) in G.edges(data='sign') if (sign == 1))))\n",
    "print('Hostile relationships: \\n\\t' + '\\n\\t'.join(list(x + \" & \" + y for (x, y, sign) in G.edges(data='sign') if (sign == -1))))"
   ]
  },
  {
   "cell_type": "code",
   "execution_count": 3,
   "id": "a6245666-8fb4-48f4-8ddc-bffe107e509f",
   "metadata": {
    "collapsed": false
   },
   "outputs": [],
   "source": [
    "from dwave.system import DWaveSampler, EmbeddingComposite\n",
    "\n",
    "sampler = EmbeddingComposite(DWaveSampler())"
   ]
  },
  {
   "cell_type": "code",
   "execution_count": 4,
   "id": "287a6c42-6f70-4319-8608-e6f09010ca95",
   "metadata": {
    "collapsed": false
   },
   "outputs": [
    {
     "name": "stdout",
     "output_type": "stream",
     "text": [
      "Set 1: \n",
      "\tAlice\n",
      "\tBob\n",
      "\tEve\n",
      "\tWally\n",
      "Set 2: \n",
      "\t\n",
      "Frustrated relationships: \n",
      "\tBob & Eve\n"
     ]
    }
   ],
   "source": [
    "import dwave_networkx as dnx\n",
    "\n",
    "imbalance, bicoloring = dnx.structural_imbalance(G, sampler)\n",
    "\n",
    "for edge in G.edges:\n",
    "    G.edges[edge]['frustrated'] = edge in imbalance\n",
    "\n",
    "for node in G.nodes:\n",
    "    G.nodes[node]['color'] = bicoloring[node]\n",
    "\n",
    "print('Set 1: \\n\\t' + '\\n\\t'.join(list(person for (person, color) in bicoloring.items() if (color == 0))))\n",
    "print('Set 2: \\n\\t' + '\\n\\t'.join(list(person for (person, color) in bicoloring.items() if (color == 1))))\n",
    "print('Frustrated relationships: \\n\\t' + '\\n\\t'.join(list(x + \" & \" + y for (x, y) in imbalance.keys())))"
   ]
  }
 ],
 "metadata": {
  "kernelspec": {
   "argv": [
    "python",
    "-m",
    "ipykernel_launcher",
    "-f",
    "{connection_file}"
   ],
   "display_name": "Python 3 (ipykernel)",
   "env": null,
   "interrupt_mode": "signal",
   "language": "python",
   "metadata": {
    "debugger": true
   },
   "name": "python3"
  },
  "name": "structural_imbalance.ipynb"
 },
 "nbformat": 4,
 "nbformat_minor": 5
}
