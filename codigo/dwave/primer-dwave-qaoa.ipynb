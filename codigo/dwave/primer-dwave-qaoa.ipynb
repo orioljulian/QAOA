{
 "cells": [
  {
   "cell_type": "code",
   "execution_count": 4,
   "id": "4d49d666-f25b-4ac0-b1ce-e8036d55f15f",
   "metadata": {
    "collapsed": false
   },
   "outputs": [],
   "source": [
    "# Graph\n",
    "num_nodes = 4\n",
    "start_node = 0\n",
    "end_node = num_nodes - 1\n",
    "edges = [(0, 1), (0, 2), (1, 2), (1, 3), (2, 3)]\n",
    "weights = {(0, 1): 5, (0, 2): 8, (1, 2): 2, (1, 3): 7, (2, 3): 4}\n",
    "P = sum(weights.values()) + 1"
   ]
  },
  {
   "cell_type": "code",
   "execution_count": 5,
   "id": "d76f3b62-5708-40c6-a08f-6da7bf9e1fa8",
   "metadata": {
    "collapsed": false
   },
   "outputs": [
    {
     "data": {
      "image/png": "[encoded data removed]",
      "text/plain": [
       "<Figure size 600x200 with 1 Axes>"
      ]
     },
     "metadata": {},
     "output_type": "display_data"
    }
   ],
   "source": [
    "import networkx as nx\n",
    "import matplotlib.pyplot as plt\n",
    "\n",
    "# Imprime un grafo dirigido pesado\n",
    "# Entrada\n",
    "#     graph_nodes: Lista de nodos del grafo\n",
    "#     graph_edges: Diccionario {vértice: peso} donde vértice es (n1, n2)\n",
    "#     layout:      Para especificar la posición de los nodos\n",
    "def print_graph(graph_nodes, graph_edges, layout=None):\n",
    "    G = nx.DiGraph()\n",
    "\n",
    "    # Nodes\n",
    "    G.add_nodes_from(graph_nodes)\n",
    "\n",
    "    # Edges\n",
    "    for pair, weight in graph_edges.items():\n",
    "        G.add_edge(pair[0], pair[1], weight=weight)\n",
    "\n",
    "    # Print graph\n",
    "    if layout is None:\n",
    "        layout = nx.spring_layout(G)\n",
    "\n",
    "    plt.figure(3, figsize=(6, 2))\n",
    "    nx.draw(G, layout, with_labels=True, node_size=600)\n",
    "    edge_labels = nx.get_edge_attributes(G, \"weight\")\n",
    "    nx.draw_networkx_edge_labels(G, pos=layout, edge_labels=edge_labels)\n",
    "\n",
    "print_graph(range(num_nodes), weights, layout={0: [-1, 0], 1: [0, 1],\n",
    "                                               2: [0, -1], 3: [1, 0]})"
   ]
  },
  {
   "cell_type": "code",
   "execution_count": 6,
   "id": "b96e1329-7d12-445a-b33a-ffc83b6f48cc",
   "metadata": {
    "collapsed": false
   },
   "outputs": [],
   "source": [
    "from dimod import BinaryQuadraticModel\n",
    "# Initialize model\n",
    "bqm = BinaryQuadraticModel(\"BINARY\")"
   ]
  },
  {
   "cell_type": "code",
   "execution_count": 7,
   "id": "7851132c-c59f-4407-968a-92ac56ace84b",
   "metadata": {
    "collapsed": false
   },
   "outputs": [],
   "source": [
    "# Cost function\n",
    "for e in range(len(edges)):\n",
    "    bqm.add_variable(edges[e], weights[edges[e]])"
   ]
  },
  {
   "cell_type": "code",
   "execution_count": 8,
   "id": "d009f088-c137-40e5-bf58-8989ce3de07c",
   "metadata": {
    "collapsed": false
   },
   "outputs": [],
   "source": [
    "# Constraint: Starting node (The path has to start)\n",
    "c_start = []\n",
    "for e in range(len(edges)):\n",
    "    i, j = edges[e]  # i->j\n",
    "    if i == start_node:\n",
    "        c_start.append((edges[e], 1))\n",
    "\n",
    "# (\\sum_{c} c[0]*c[1]) + constant = 0\n",
    "bqm.add_linear_equality_constraint(c_start, constant=-1, lagrange_multiplier=P)"
   ]
  },
  {
   "cell_type": "code",
   "execution_count": 9,
   "id": "8fd60298-c365-4ac3-9752-4d37cbc36d69",
   "metadata": {
    "collapsed": false
   },
   "outputs": [],
   "source": [
    "# Constraint: Ending node\n",
    "c_end = []\n",
    "for e in range(len(edges)):\n",
    "    i, j = edges[e]  # i->j\n",
    "    if j == end_node:\n",
    "        c_end.append((edges[e], 1))\n",
    "\n",
    "bqm.add_linear_equality_constraint(c_end, constant=-1, lagrange_multiplier=P)"
   ]
  },
  {
   "cell_type": "code",
   "execution_count": 10,
   "id": "75697424-1267-4fc1-be4a-367826655d3d",
   "metadata": {
    "collapsed": false
   },
   "outputs": [],
   "source": [
    "# Constraints: Intermediate nodes\n",
    "for node in range(1, end_node):\n",
    "    c_inter = []\n",
    "    for e in range(len(edges)):\n",
    "        i, j = edges[e]\n",
    "        if j == node:\n",
    "            c_inter.append((edges[e], 1))  # Entering edges\n",
    "        elif i == node:\n",
    "            c_inter.append((edges[e], -1))  # Exiting edges\n",
    "\n",
    "    bqm.add_linear_equality_constraint(c_inter, constant=0,\n",
    "                                       lagrange_multiplier=P)"
   ]
  },
  {
   "cell_type": "code",
   "execution_count": 11,
   "id": "0b38ad51-0dae-4703-a485-447808d139e1",
   "metadata": {
    "collapsed": false
   },
   "outputs": [
    {
     "name": "stdout",
     "output_type": "stream",
     "text": [
      "  (0, 1) (0, 2) (1, 2) (1, 3) (2, 3) energy num_oc. chain_.\n",
      "0      1      0      1      0      1   11.0     290     0.0\n",
      "1      0      1      0      0      1   12.0     408     0.0\n",
      "2      1      0      0      1      0   12.0     316     0.0\n",
      "3      0      0      0      0      0   54.0       3     0.0\n",
      "4      0      0      0      0      1   58.0       1     0.0\n",
      "5      1      0      0      0      0   59.0       2     0.0\n",
      "6      1      0      1      0      0   61.0       1     0.0\n",
      "7      0      1      0      0      0   62.0       1     0.0\n",
      "9      0      1      0      0      0   62.0       1     0.2\n",
      "8      0      1      1      0      1   68.0       1     0.0\n",
      "['BINARY', 10 rows, 1024 samples, 5 variables]\n"
     ]
    }
   ],
   "source": [
    "from dwave.system import DWaveSampler, EmbeddingComposite\n",
    "# Execute program\n",
    "sampler = EmbeddingComposite(DWaveSampler())\n",
    "sampleset = sampler.sample(bqm, num_reads=1024)\n",
    "print(sampleset)"
   ]
  }
 ],
 "metadata": {
  "kernelspec": {
   "argv": [
    "python",
    "-m",
    "ipykernel_launcher",
    "-f",
    "{connection_file}"
   ],
   "display_name": "Python 3 (ipykernel)",
   "env": null,
   "interrupt_mode": "signal",
   "language": "python",
   "metadata": {
    "debugger": true
   },
   "name": "python3"
  },
  "name": "primer-dwave-qaoa.ipynb"
 },
 "nbformat": 4,
 "nbformat_minor": 5
}
