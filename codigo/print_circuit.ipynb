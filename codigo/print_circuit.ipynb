{
 "cells": [
  {
   "cell_type": "code",
   "execution_count": null,
   "id": "d28b60fa-e95f-49bf-983b-64c8119bf09b",
   "metadata": {
    "collapsed": false
   },
   "outputs": [],
   "source": [
    "# Función de coste binaria con valores {-1, 1}\n",
    "# g(z) = \"\\\n",
    "#     +11 * z_0 - 17.5 * z_1 - 28 * z_2 - 17 * z_3 + 11.5 * z_4 \\\n",
    "#     +13.5 * (-z_0*z_2 + z_1*z_2 + z_2*z_3 - z_2*z_4 + z_0*z_1 - z_0*z_3 - z_1*z_4) \\\n",
    "#     +(6.75*z_3**2 + 6.75*z_4**2 + 13.5*(z_0**2 + z_1**2 + z_2**28)) \\\n",
    "#     +26.5\"\n",
    "\n",
    "# Grafo\n",
    "edges = {(0, 1): 5, (0, 2): 8, (1, 2): 2, (1, 3): 7, (2, 3): 4}\n",
    "num_nodes = 4\n",
    "\n",
    "# Hp = 11*Z0 - 17.5*Z1 - 28*Z2 - 17*Z3 + 11.5*Z4 +\n",
    "#      13.5*(-Z0*Z2 + Z1*Z2 + Z2*Z3 - Z2*Z4 + Z0*Z1 - Z0*Z3 - Z1*Z4)\n",
    "\n",
    "# Coeficientes lineales de Hp (11 * Z0 - 17.5 * Z1...)\n",
    "linear_coefs = [11, -17.5, -28, -17, 11.5]\n",
    "\n",
    "# Coeficientes cuadráticos Ej: {(2, 3): 13.5} -> 13.5 * Z2 * Z3\n",
    "quadra_coefs = {(0, 2): -13.5, (1, 2): 13.5, (2, 3): 13.5, (2, 4): -13.5,\n",
    "                (0, 1): 13.5, (0, 3): -13.5, (1, 4): -13.5}"
   ]
  },
  {
   "cell_type": "code",
   "execution_count": null,
   "id": "79a2d6fe-fa4a-4605-8230-3bcbc74cf7d3",
   "metadata": {
    "collapsed": false
   },
   "outputs": [],
   "source": [
    "from qiskit import QuantumCircuit\n",
    "from qiskit.circuit import Parameter\n",
    "\n",
    "def add_new_parameter(parameters, parameter_name):\n",
    "    idx = -1\n",
    "    for i, existing_parameter in enumerate(parameters):\n",
    "        if existing_parameter.name == parameter_name:\n",
    "            idx = i\n",
    "\n",
    "    if idx == -1:\n",
    "        parameters.append(Parameter(parameter_name))\n",
    "\n",
    "    return idx\n",
    "\n",
    "def generate_qaoa_circuit(theta):\n",
    "    assert len(theta) % 2 == 0, \"Error in parameters (Beta, Gamma)\"\n",
    "\n",
    "    nqubits = len(edges)  # Tantos qubits como aristas tenga el grafo\n",
    "    circuit = QuantumCircuit(nqubits)\n",
    "\n",
    "    layers = int(len(theta) / 2)\n",
    "    beta = theta[:layers]\n",
    "    gamma = theta[layers:]\n",
    "\n",
    "    # |v0>\n",
    "    for i in range(nqubits):\n",
    "        circuit.h(i)\n",
    "\n",
    "    parameters = []\n",
    "    for p in range(layers):\n",
    "        circuit.barrier()\n",
    "\n",
    "        # Hp\n",
    "        for q_idx, coef in enumerate(linear_coefs):\n",
    "            idx = add_new_parameter(parameters, f\"{coef}\")\n",
    "            circuit.rz(parameters[idx], q_idx)\n",
    "        for q_idxs, coef in quadra_coefs.items():\n",
    "            idx = add_new_parameter(parameters, f\"{coef}*$\\\\gamma_{p}$\")\n",
    "            circuit.rzz(parameters[idx], q_idxs[0], q_idxs[1])\n",
    "\n",
    "        circuit.barrier()\n",
    "\n",
    "        # Hm\n",
    "        for q_idx in range(nqubits):\n",
    "            idx = add_new_parameter(parameters, f\"2*$\\\\beta_{p}$\")\n",
    "            circuit.rx(parameters[idx], q_idx)\n",
    "\n",
    "    circuit.measure_all()\n",
    "    return circuit"
   ]
  },
  {
   "cell_type": "code",
   "execution_count": null,
   "id": "e6b250a4-daf1-4556-8ad3-40386d685d3a",
   "metadata": {
    "collapsed": false
   },
   "outputs": [],
   "source": [
    "import matplotlib.pyplot as plt\n",
    "\n",
    "num_layers = 4\n",
    "#generate_qaoa_circuit(list(range(num_layers))).draw(filename=\"../latex/resultados/img/primer_grafo/sin_restriccion_extra/circuito_mod-paper.png\")\n",
    "generate_qaoa_circuit(list(range(num_layers))).draw()"
   ]
  }
 ],
 "metadata": {
  "kernelspec": {
   "argv": [
    "python",
    "-m",
    "ipykernel_launcher",
    "-f",
    "{connection_file}"
   ],
   "display_name": "Python 3 (ipykernel)",
   "env": null,
   "interrupt_mode": "signal",
   "language": "python",
   "metadata": {
    "debugger": true
   },
   "name": "python3"
  },
  "name": "print_circuit.ipynb"
 },
 "nbformat": 4,
 "nbformat_minor": 5
}
