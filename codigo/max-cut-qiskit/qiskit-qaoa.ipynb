{
 "cells": [
  {
   "cell_type": "code",
   "execution_count": null,
   "id": "7d7b9699-4c51-48fb-98a1-56fad35915cf",
   "metadata": {
    "collapsed": false
   },
   "outputs": [],
   "source": [
    "import networkx as nx\n",
    "import matplotlib.pyplot as plt\n",
    "from qiskit import QuantumCircuit, ClassicalRegister, QuantumRegister\n",
    "from qiskit import Aer, execute\n",
    "\n",
    "GRAPH_NAME = \"Qiskit original\"\n",
    "G = nx.Graph()\n",
    "G.add_nodes_from([0, 1, 2, 3])\n",
    "G.add_edges_from([(0, 1), (1, 2), (2, 3), (3, 0)])\n",
    "nx.draw(G, with_labels=True, alpha=0.8, node_size=500)"
   ]
  },
  {
   "cell_type": "code",
   "execution_count": null,
   "id": "24c9a836-0126-4cd9-835e-e007a6990910",
   "metadata": {
    "collapsed": false
   },
   "outputs": [],
   "source": [
    "create_qaoa_circ(G, [1.0, 1.0]).draw(filename=\"../latex/img/circuits/qiskit/qiskit_circuit_p-1_1.0.png\")\n",
    "create_qaoa_circ(G, [2.0, 2.0]).draw(filename=\"../latex/img/circuits/qiskit/qiskit_circuit_p-1_2.0.png\")\n",
    "create_qaoa_circ(G, [1.0, 1.0, 1.0, 1.0]).draw(filename=\"../latex/img/circuits/qiskit/qiskit_circuit_p-2_1.0.png\")\n",
    "create_qaoa_circ(G, [2.0, 2.0, 2.0, 2.0]).draw(filename=\"../latex/img/circuits/qiskit/qiskit_circuit_p-2_2.0.png\")\n",
    "create_qaoa_circ(G, [1.0, 1.0, 1.0, 1.0, 1.0, 1.0]).draw(filename=\"../latex/img/circuits/qiskit/qiskit_circuit_p-3_1.0.png\")\n",
    "create_qaoa_circ(G, [2.0, 2.0, 2.0, 2.0, 2.0, 2.0]).draw(filename=\"../latex/img/circuits/qiskit/qiskit_circuit_p-3_2.0.png\")"
   ]
  },
  {
   "cell_type": "code",
   "execution_count": null,
   "id": "47aac391-f309-41af-a63a-85d9395de1c9",
   "metadata": {
    "collapsed": false
   },
   "outputs": [],
   "source": [
    "def maxcut_obj(x, G):\n",
    "    obj = 0\n",
    "    for i, j in G.edges():\n",
    "        if x[i] != x[j]:\n",
    "            obj -= 1\n",
    "    return obj\n",
    "\n",
    "def compute_expectation(counts, G):\n",
    "    avg = 0\n",
    "    sum_count = 0\n",
    "\n",
    "    for bitstr, count in counts.items():\n",
    "        obj = maxcut_obj(bitstr[::-1], G)\n",
    "        avg += obj * count\n",
    "        sum_count += count\n",
    "\n",
    "    return avg/sum_count\n",
    "\n",
    "def create_qaoa_circ(G, theta):\n",
    "    nqubits = len(G.nodes())\n",
    "    p = len(theta)//2 # num layers\n",
    "    qc = QuantumCircuit(nqubits)\n",
    "\n",
    "    beta = theta[:p]\n",
    "    gamma = theta[p:]\n",
    "\n",
    "    # |v0>\n",
    "    for i in range(0, nqubits):\n",
    "        qc.h(i)\n",
    "\n",
    "    for irep in range(0, p):\n",
    "        qc.barrier()\n",
    "\n",
    "        # Hp\n",
    "        for pair in list(G.edges()):\n",
    "            qc.rzz(2 * gamma[irep], pair[0], pair[1])\n",
    "\n",
    "        qc.barrier()\n",
    "\n",
    "        # Hm\n",
    "        for i in range (0, nqubits):\n",
    "            qc.rx(2 * beta[irep], i)\n",
    "\n",
    "    qc.measure_all()\n",
    "\n",
    "    return qc\n",
    "\n",
    "def get_expectation(G, shots=512):\n",
    "    backend = Aer.get_backend('qasm_simulator')\n",
    "    backend.shots = shots\n",
    "\n",
    "    def execute_circ(theta):\n",
    "        qc = create_qaoa_circ(G, theta)\n",
    "        counts = backend.run(qc, nshots=512).result().get_counts()\n",
    "        return compute_expectation(counts, G)\n",
    "\n",
    "    return execute_circ"
   ]
  },
  {
   "cell_type": "code",
   "execution_count": null,
   "id": "2ca6d277-d39a-4f05-8427-3f53c0a04287",
   "metadata": {
    "collapsed": false
   },
   "outputs": [],
   "source": [
    "from scipy.optimize import minimize\n",
    "\n",
    "expectation = get_expectation(G)\n",
    "\n",
    "num_layers = 1\n",
    "res = minimize(expectation, [1.0, 1.0] * num_layers, method = \"COBYLA\")\n",
    "res"
   ]
  },
  {
   "cell_type": "code",
   "execution_count": null,
   "id": "bf9cb8d4-c9b4-4cc3-87ae-0413768e7459",
   "metadata": {
    "collapsed": false
   },
   "outputs": [],
   "source": [
    "from qiskit.visualization import plot_histogram\n",
    "\n",
    "backend = Aer.get_backend('aer_simulator')\n",
    "backend.shots = 512\n",
    "\n",
    "qc_res = create_qaoa_circ(G, res.x)\n",
    "\n",
    "counts = backend.run(qc_res, seed_simulator=10).result().get_counts()\n",
    "plot_histogram(counts)"
   ]
  },
  {
   "cell_type": "code",
   "execution_count": null,
   "id": "9b0f0dc1",
   "metadata": {
    "collapsed": false
   },
   "outputs": [],
   "source": [
    "# Gamma function\n",
    "import numpy as np\n",
    "import matplotlib.pyplot as plt\n",
    "\n",
    "def graph():\n",
    "    expectation = get_expectation(G)\n",
    "    x = np.arange(0.3, 6, 0.01)\n",
    "    y = []\n",
    "    beta = 1.0\n",
    "    for gamma in x:\n",
    "        y.append(expectation([beta, gamma]))\n",
    "\n",
    "    plt.plot(x, y)\n",
    "    # plt.savefig(\"../../latex/img/zhiqiang_grafo/modificadores_paper/zhiqiang_p_20_gamma_fun.png\")\n",
    "    plt.show()\n",
    "\n",
    "graph()"
   ]
  },
  {
   "cell_type": "code",
   "execution_count": null,
   "id": "d7f1130f-4478-414e-ba3e-c3b9073286d3",
   "metadata": {
    "collapsed": false
   },
   "outputs": [],
   "source": [
    "# Statistics\n",
    "shots = 512\n",
    "\n",
    "def max_global_statistics(num_layers=1, num_generations=1000):\n",
    "    max_statistics = {}\n",
    "    global_statistics = {}\n",
    "    for iteration in range(0, num_generations):\n",
    "        expectation = get_expectation(G)\n",
    "        res = minimize(expectation, [1.0, 1.0] * num_layers, method = \"COBYLA\")\n",
    "        qc = create_qaoa_circ(G, res.x)\n",
    "        counts = backend.run(qc, shots=shots).result().get_counts()\n",
    "\n",
    "        # Max statistics\n",
    "        max_path = max(counts, key=counts.get)\n",
    "        if max_path not in max_statistics:\n",
    "            max_statistics[max_path] = 0\n",
    "        max_statistics[max_path] += 1\n",
    "\n",
    "        # Global statistics\n",
    "        for (path, num_appearances) in counts.items():\n",
    "            if path not in global_statistics:\n",
    "                global_statistics[path] = 0\n",
    "            global_statistics[path] += num_appearances\n",
    "\n",
    "    for path in global_statistics:\n",
    "        global_statistics[path] = global_statistics[path] / shots / num_generations  # Normalize\n",
    "\n",
    "    for path in max_statistics:\n",
    "        max_statistics[path] = max_statistics[path] / num_generations  # Normalize\n",
    "\n",
    "    max_statistics = sorted(max_statistics.items(), key=lambda x: x[1], reverse=True)\n",
    "    global_statistics = sorted(global_statistics.items(), key=lambda x: x[1], reverse=True)\n",
    "\n",
    "    return max_statistics, global_statistics\n",
    "\n",
    "\n",
    "print(GRAPH_NAME + \":\\n\")\n",
    "interval_num_layers = (1, 3)\n",
    "for p in range(interval_num_layers[0], interval_num_layers[1] + 1):\n",
    "    max_st, global_st = max_global_statistics(num_layers=p, num_generations=100)\n",
    "    print(f\"Max statistics (p = {p}): \", str(max_st))\n",
    "    print(f\"Global statistics (p = {p}): \", str(global_st))\n",
    "    print()"
   ]
  },
  {
   "cell_type": "code",
   "execution_count": null,
   "id": "4ee402a6-bb41-4b58-b262-9983bac4f976",
   "metadata": {
    "collapsed": false
   },
   "outputs": [],
   "source": [
    "!dunstify -t $((30* 1000*60)) --urgency=critical \"Ejecución completada\""
   ]
  }
 ],
 "metadata": {
  "kernelspec": {
   "argv": [
    "python",
    "-m",
    "ipykernel_launcher",
    "-f",
    "{connection_file}"
   ],
   "display_name": "Python 3 (ipykernel)",
   "env": null,
   "interrupt_mode": "signal",
   "language": "python",
   "metadata": {
    "debugger": true
   },
   "name": "python3"
  },
  "language_info": {
   "codemirror_mode": {
    "name": "ipython",
    "version": 3
   },
   "file_extension": ".py",
   "mimetype": "text/x-python",
   "name": "python",
   "nbconvert_exporter": "python",
   "pygments_lexer": "ipython3",
   "version": "3.8.16"
  },
  "name": "qiskit-qaoa.ipynb"
 },
 "nbformat": 4,
 "nbformat_minor": 5
}
