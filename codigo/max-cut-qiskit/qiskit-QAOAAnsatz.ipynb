{
 "cells": [
  {
   "cell_type": "code",
   "execution_count": null,
   "id": "f47be253-558c-4761-b86d-91573bfab403",
   "metadata": {
    "collapsed": false
   },
   "outputs": [],
   "source": [
    "# General imports\n",
    "import numpy as np\n",
    "\n",
    "# Pre-defined ansatz circuit, operator class and visualization tools\n",
    "from qiskit.circuit.library import QAOAAnsatz\n",
    "from qiskit.quantum_info import SparsePauliOp\n",
    "from qiskit.visualization import plot_distribution\n",
    "\n",
    "# Qiskit Runtime\n",
    "# from qiskit_ibm_runtime import QiskitRuntimeService\n",
    "# from qiskit_ibm_runtime import Estimator, Sampler, Session, Options\n",
    "\n",
    "# SciPy minimizer routine\n",
    "from scipy.optimize import minimize\n",
    "\n",
    "# rustworkx graph library\n",
    "import rustworkx as rx\n",
    "from rustworkx.visualization import mpl_draw\n",
    "\n",
    "from typing import Tuple, Dict"
   ]
  },
  {
   "cell_type": "code",
   "execution_count": null,
   "id": "841c552b-d63d-43f0-b629-3f2842f12996",
   "metadata": {
    "collapsed": false
   },
   "outputs": [],
   "source": [
    "# The edge syntax is (start, end, weight)\n",
    "GRAPH_NAME = \"MAX_CUT\"\n",
    "edges = [(0, 1, 1), (1, 2, 1), (2, 3, 1), (3, 0, 1)]\n",
    "num_nodes = 4"
   ]
  },
  {
   "cell_type": "code",
   "execution_count": null,
   "id": "6f3e33bc-d117-4dda-a4c2-6a7c4f9bf38d",
   "metadata": {
    "collapsed": false
   },
   "outputs": [],
   "source": [
    "G = rx.PyGraph()\n",
    "G.add_nodes_from(range(num_nodes))\n",
    "G.add_edges_from(edges)\n",
    "mpl_draw(G, pos=rx.bipartite_layout(G, {0}), with_labels=True, node_color=\"#EE5396\", font_color=\"#F4F4F4\")"
   ]
  },
  {
   "cell_type": "code",
   "execution_count": null,
   "id": "dcf01568-a484-42db-8835-980d8c925fb0",
   "metadata": {
    "collapsed": false
   },
   "outputs": [],
   "source": [
    "hamiltonian = SparsePauliOp.from_list([(\"IIZZ\", 1), (\"IZZI\", 1), (\"ZZII\", 1), (\"ZIIZ\", 1)])\n",
    "ansatz = QAOAAnsatz(hamiltonian, reps=2)\n",
    "ansatz.decompose(reps=3).draw(output=\"mpl\", style=\"iqp\")"
   ]
  },
  {
   "cell_type": "code",
   "execution_count": null,
   "id": "05ddc10f-f46d-4ba2-b5dd-675895b46bbb",
   "metadata": {
    "collapsed": false
   },
   "outputs": [],
   "source": [
    "def cost_func(params, ansatz, hamiltonian, estimator):\n",
    "    cost = estimator.run(ansatz, hamiltonian, parameter_values=params).result().values[0]\n",
    "    return cost"
   ]
  },
  {
   "cell_type": "code",
   "execution_count": null,
   "id": "f0b8b6d1-6ca9-49c8-b38d-20eec624a99f",
   "metadata": {
    "collapsed": false
   },
   "outputs": [],
   "source": [
    "from qiskit.primitives import Estimator, Sampler\n",
    "\n",
    "estimator = Estimator(options = {\"shots\": 1024})\n",
    "sampler = Sampler(options = {\"shots\": 1024})"
   ]
  },
  {
   "cell_type": "code",
   "execution_count": null,
   "id": "ca916320-a2ba-4f40-8168-52a7ed7891c7",
   "metadata": {
    "collapsed": false
   },
   "outputs": [],
   "source": [
    "x0 = 2 * np.pi * np.random.rand(ansatz.num_parameters)\n",
    "x0"
   ]
  },
  {
   "cell_type": "code",
   "execution_count": null,
   "id": "d0a5a9e0-432c-4203-82c8-7e51e379b9fb",
   "metadata": {
    "collapsed": false
   },
   "outputs": [],
   "source": [
    "res = minimize(cost_func, x0, args=(ansatz, hamiltonian, estimator), method=\"COBYLA\")\n",
    "res"
   ]
  },
  {
   "cell_type": "code",
   "execution_count": null,
   "id": "37a35b70-4ecd-43b4-9a2e-af2233e4e136",
   "metadata": {
    "collapsed": false
   },
   "outputs": [],
   "source": [
    "qc = ansatz.assign_parameters(res.x)\n",
    "qc.measure_all()\n",
    "samp_distribution = sampler.run(qc).result().quasi_dists[0]\n",
    "plot_distribution(samp_distribution.binary_probabilities())"
   ]
  },
  {
   "cell_type": "code",
   "execution_count": null,
   "id": "1b870f59-cee8-40ef-ae1f-182dc45f4f09",
   "metadata": {
    "collapsed": false
   },
   "outputs": [],
   "source": [
    "# Statistics\n",
    "def max_global_statistics(num_layers=1, num_generations=100) -> Tuple[Dict[str, float],\n",
    "                                                                      Dict[str, float]]:\n",
    "    max_statistics = {}\n",
    "    global_statistics = {}\n",
    "    ansatz = QAOAAnsatz(hamiltonian, reps=num_layers)\n",
    "    x0 = [1.0, 1.0] * num_layers\n",
    "    for iteration in range(0, num_generations):\n",
    "        theta_res = minimize(cost_func, x0, args=(ansatz, hamiltonian, estimator), method=\"COBYLA\")\n",
    "        qc = ansatz.assign_parameters(theta_res.x)\n",
    "        qc.measure_all()\n",
    "        counts = sampler.run(qc).result().quasi_dists[0].binary_probabilities()\n",
    "\n",
    "        # Max statistics\n",
    "        max_path = max(counts, key=counts.get)\n",
    "        if max_path not in max_statistics:\n",
    "            max_statistics[max_path] = 0\n",
    "        max_statistics[max_path] += 1\n",
    "\n",
    "        # Global statistics\n",
    "        for (path, num_appearances) in counts.items():\n",
    "            if path not in global_statistics:\n",
    "                global_statistics[path] = 0\n",
    "            global_statistics[path] += num_appearances\n",
    "\n",
    "    for path in global_statistics:\n",
    "        global_statistics[path] = global_statistics[path] / num_generations  # Normalize\n",
    "\n",
    "    for path in max_statistics:\n",
    "        max_statistics[path] = max_statistics[path] / num_generations  # Normalize\n",
    "\n",
    "    max_statistics = sorted(max_statistics.items(), key=lambda x: x[1], reverse=True)\n",
    "    global_statistics = sorted(global_statistics.items(), key=lambda x: x[1], reverse=True)\n",
    "    return max_statistics, global_statistics\n",
    "\n",
    "print(GRAPH_NAME + \":\\n\")\n",
    "interval_num_layers = (1, 5)\n",
    "for p in range(interval_num_layers[0], interval_num_layers[1] + 1):\n",
    "    max_st, global_st = max_global_statistics(num_layers=p, num_generations=100)\n",
    "    print(f\"Max statistics (p = {p}): \", str(max_st))\n",
    "    print(f\"Global statistics (p = {p}): \", str(global_st))\n",
    "    print()"
   ]
  },
  {
   "cell_type": "code",
   "execution_count": null,
   "id": "a6a715f1-40e9-491e-bd21-2d0971d94aa0",
   "metadata": {
    "collapsed": false
   },
   "outputs": [],
   "source": [
    "!dunstify -t $((12 * 60*60*1000)) --urgency=critical \"Ejecución completada\""
   ]
  }
 ],
 "metadata": {
  "kernelspec": {
   "argv": [
    "python",
    "-m",
    "ipykernel_launcher",
    "-f",
    "{connection_file}"
   ],
   "display_name": "Python 3 (ipykernel)",
   "env": null,
   "interrupt_mode": "signal",
   "language": "python",
   "metadata": {
    "debugger": true
   },
   "name": "python3"
  },
  "name": "qiskit-QAOAAnsatz.ipynb"
 },
 "nbformat": 4,
 "nbformat_minor": 5
}
