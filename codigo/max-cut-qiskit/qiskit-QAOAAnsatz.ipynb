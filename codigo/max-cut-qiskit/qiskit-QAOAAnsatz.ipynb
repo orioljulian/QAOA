{
 "cells": [
  {
   "cell_type": "code",
   "execution_count": null,
   "id": "f47be253-558c-4761-b86d-91573bfab403",
   "metadata": {
    "collapsed": false
   },
   "outputs": [],
   "source": [
    "# General imports\n",
    "import numpy as np\n",
    "\n",
    "# Pre-defined ansatz circuit, operator class and visualization tools\n",
    "from qiskit.circuit.library import QAOAAnsatz\n",
    "from qiskit.quantum_info import SparsePauliOp\n",
    "from qiskit.visualization import plot_distribution\n",
    "\n",
    "# Qiskit Runtime\n",
    "# from qiskit_ibm_runtime import QiskitRuntimeService\n",
    "# from qiskit_ibm_runtime import Estimator, Sampler, Session, Options\n",
    "\n",
    "# SciPy minimizer routine\n",
    "from scipy.optimize import minimize\n",
    "\n",
    "# rustworkx graph library\n",
    "import rustworkx as rx\n",
    "from rustworkx.visualization import mpl_draw"
   ]
  },
  {
   "cell_type": "code",
   "execution_count": null,
   "id": "841c552b-d63d-43f0-b629-3f2842f12996",
   "metadata": {
    "collapsed": false
   },
   "outputs": [],
   "source": [
    "# The edge syntax is (start, end, weight)\n",
    "# edges = [(0, 1, 1), (0, 2, 1), (0, 3, 1), (0, 4, 1)]\n",
    "# num_nodes = 5\n",
    "edges = [(0, 1, 1), (1, 2, 1), (2, 3, 1), (3, 0, 1)]\n",
    "num_nodes = 4"
   ]
  },
  {
   "cell_type": "code",
   "execution_count": null,
   "id": "6f3e33bc-d117-4dda-a4c2-6a7c4f9bf38d",
   "metadata": {
    "collapsed": false
   },
   "outputs": [],
   "source": [
    "G = rx.PyGraph()\n",
    "G.add_nodes_from(range(num_nodes))\n",
    "G.add_edges_from(edges)\n",
    "mpl_draw(G, pos=rx.bipartite_layout(G, {0}), with_labels=True, node_color=\"#EE5396\", font_color=\"#F4F4F4\")"
   ]
  },
  {
   "cell_type": "code",
   "execution_count": null,
   "id": "dcf01568-a484-42db-8835-980d8c925fb0",
   "metadata": {
    "collapsed": false
   },
   "outputs": [],
   "source": [
    "hamiltonian_ibm = SparsePauliOp.from_list([(\"IIZZ\", 1), (\"IZZI\", 1), (\"ZZII\", 1), (\"ZIIZ\", 1)])\n",
    "ansatz_ibm = QAOAAnsatz(hamiltonian_ibm, reps=2)\n",
    "ansatz_ibm.decompose(reps=3).draw(output=\"mpl\", style=\"iqp\")"
   ]
  },
  {
   "cell_type": "code",
   "execution_count": null,
   "id": "05ddc10f-f46d-4ba2-b5dd-675895b46bbb",
   "metadata": {
    "collapsed": false
   },
   "outputs": [],
   "source": [
    "def cost_func(params, ansatz, hamiltonian, estimator):\n",
    "    cost = estimator.run(ansatz, hamiltonian, parameter_values=params).result().values[0]\n",
    "    return cost"
   ]
  },
  {
   "cell_type": "code",
   "execution_count": null,
   "id": "f0b8b6d1-6ca9-49c8-b38d-20eec624a99f",
   "metadata": {
    "collapsed": false
   },
   "outputs": [],
   "source": [
    "from qiskit.primitives import Estimator, Sampler\n",
    "\n",
    "estimator = Estimator(options = {\"shots\": 1024})\n",
    "sampler = Sampler(options = {\"shots\": 1024})"
   ]
  },
  {
   "cell_type": "code",
   "execution_count": null,
   "id": "ca916320-a2ba-4f40-8168-52a7ed7891c7",
   "metadata": {
    "collapsed": false
   },
   "outputs": [],
   "source": [
    "x0 = 2 * np.pi * np.random.rand(ansatz_ibm.num_parameters)\n",
    "x0"
   ]
  },
  {
   "cell_type": "code",
   "execution_count": null,
   "id": "d0a5a9e0-432c-4203-82c8-7e51e379b9fb",
   "metadata": {
    "collapsed": false
   },
   "outputs": [],
   "source": [
    "res = minimize(cost_func, x0, args=(ansatz_ibm, hamiltonian_ibm, estimator), method=\"COBYLA\")\n",
    "res"
   ]
  },
  {
   "cell_type": "code",
   "execution_count": null,
   "id": "37a35b70-4ecd-43b4-9a2e-af2233e4e136",
   "metadata": {
    "collapsed": false
   },
   "outputs": [],
   "source": [
    "qc = ansatz_ibm.assign_parameters(res.x)\n",
    "qc.measure_all()\n",
    "samp_distribution = sampler.run(qc).result().quasi_dists[0]"
   ]
  },
  {
   "cell_type": "code",
   "execution_count": null,
   "id": "98ec09df-04b8-48ff-afc3-8e2a6d4159b8",
   "metadata": {
    "collapsed": false
   },
   "outputs": [],
   "source": [
    "plot_distribution(samp_distribution.binary_probabilities())"
   ]
  }
 ],
 "metadata": {
  "kernelspec": {
   "argv": [
    "python",
    "-m",
    "ipykernel_launcher",
    "-f",
    "{connection_file}"
   ],
   "display_name": "Python 3 (ipykernel)",
   "env": null,
   "interrupt_mode": "signal",
   "language": "python",
   "metadata": {
    "debugger": true
   },
   "name": "python3"
  },
  "name": "qiskit-QAOAAnsatz.ipynb"
 },
 "nbformat": 4,
 "nbformat_minor": 5
}
