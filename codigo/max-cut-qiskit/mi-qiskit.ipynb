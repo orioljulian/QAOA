{
 "cells": [
  {
   "cell_type": "code",
   "execution_count": null,
   "id": "04c83ce9-b88e-4936-a3a9-64d9f178407b",
   "metadata": {
    "collapsed": false
   },
   "outputs": [],
   "source": [
    "from typing import Callable, Dict, List, Tuple\n",
    "GRAPH_NAME = \"Max-cut qiskit (square)\"\n",
    "edges = {(0, 1): 1, (1, 2): 1, (2, 3): 1, (0, 3): 1}\n",
    "num_nodes = 4"
   ]
  },
  {
   "cell_type": "code",
   "execution_count": null,
   "id": "a3bc8388-850b-40f8-985e-abfa6357d15b",
   "metadata": {
    "collapsed": false
   },
   "outputs": [],
   "source": [
    "import networkx as nx\n",
    "import matplotlib.pyplot as plt\n",
    "\n",
    "# Imprime un grafo dirigido pesado\n",
    "# Entrada\n",
    "#     graph_nodes: Lista de nodos del grafo\n",
    "#     graph_edges: Diccionario {vértice: peso} donde vértice es (n1, n2)\n",
    "#     layout:      Para especificar la posición de los nodos\n",
    "def print_graph(graph_nodes, graph_edges, layout=None):\n",
    "    G = nx.Graph()\n",
    "\n",
    "    # Nodes\n",
    "    G.add_nodes_from(graph_nodes)\n",
    "\n",
    "    # Edges\n",
    "    for pair, _ in graph_edges.items():\n",
    "        G.add_edge(pair[0], pair[1])\n",
    "\n",
    "    # Print graph\n",
    "    if layout is None:\n",
    "        layout = nx.spring_layout(G)\n",
    "\n",
    "    plt.figure(3, figsize=(6, 2))\n",
    "    nx.draw(G, layout, with_labels=True, node_size=600)\n",
    "    #plt.savefig(\"../../latex/img/qiskit_grafo/qiskit_grafo.png\")\n",
    "\n",
    "print_graph(range(num_nodes), edges, layout={0: [-1, 0], 1: [0, 1],\n",
    "                                             2: [1, 0],  3: [0, -1]})"
   ]
  },
  {
   "cell_type": "code",
   "execution_count": null,
   "id": "16fc4c91-2258-4451-bb07-aaccc5761d2c",
   "metadata": {
    "collapsed": false
   },
   "outputs": [],
   "source": [
    "# Función de coste binaria con valores {0, 1}\n",
    "cost_function = \"\\\n",
    "-(x_0*(1-x_1) + x_1*(1-x_0) + \\\n",
    "x_1*(1-x_2) + x_2*(1-x_1) + \\\n",
    "x_2*(1-x_3) + x_3*(1-x_2) + \\\n",
    "x_3*(1-x_0) + x_0*(1-x_3))\"\n",
    "\n",
    "# Evalúa una solución concreta según la función de coste para la versión QUBO\n",
    "# Entrada:\n",
    "#     - bits: Cadena con los valores de los qubits medidos\n",
    "#             Orden: q_4 q_3 q_2 q_1 q_0\n",
    "def eval_cost_function(bits):\n",
    "    assert num_nodes == len(bits), \"Error in cost_function: Length of bits\"\n",
    "\n",
    "    inv_bits = bits[::-1]  # Los qubits están en orden inverso\n",
    "\n",
    "    param_dict = {}\n",
    "    # Asignación entre x_ij -> q_n\n",
    "    # Establecido por el orden de edges. Ej: x_12 -> q_2 (esto es, qubit nº2)\n",
    "    for i in range(num_nodes):\n",
    "        param_dict[f\"x_{i}\"] = int(inv_bits[i])\n",
    "\n",
    "    return eval(cost_function, param_dict)"
   ]
  },
  {
   "cell_type": "code",
   "execution_count": null,
   "id": "9795bf10-8d17-4c02-8a1a-fe91555038a1",
   "metadata": {
    "collapsed": false
   },
   "outputs": [],
   "source": [
    "# Hallar mínimo de la función clásica por fuerza bruta\n",
    "import itertools\n",
    "\n",
    "for z in itertools.product([0, 1], repeat=num_nodes):\n",
    "    param_dict = dict()\n",
    "    for i in range(num_nodes):\n",
    "        param_dict[f\"x_{i}\"] = z[i]\n",
    "\n",
    "    print(z, eval(cost_function, param_dict))"
   ]
  },
  {
   "cell_type": "code",
   "execution_count": null,
   "id": "68653ef1-14c8-4dd3-80ab-ac3f52da4423",
   "metadata": {
    "collapsed": false
   },
   "outputs": [],
   "source": [
    "from qiskit import QuantumCircuit\n",
    "\n",
    "def generate_qaoa_circuit(theta):\n",
    "    assert len(theta) % 2 == 0, \"Error in parameters (Beta, Gamma)\"\n",
    "\n",
    "    nqubits = num_nodes\n",
    "    circuit = QuantumCircuit(nqubits)\n",
    "\n",
    "    layers = int(len(theta) / 2)\n",
    "    beta = theta[:layers]\n",
    "    gamma = theta[layers:]\n",
    "\n",
    "    # |v0>\n",
    "    for i in range(nqubits):\n",
    "        circuit.h(i)\n",
    "\n",
    "    for p in range(layers):\n",
    "        circuit.barrier()\n",
    "\n",
    "        # Hp\n",
    "        for q_idxs, _ in edges.items():\n",
    "            circuit.rzz(gamma[p], q_idxs[0], q_idxs[1])\n",
    "\n",
    "        circuit.barrier()\n",
    "\n",
    "        # Hm\n",
    "        for q_idx in range(nqubits):\n",
    "            circuit.rx(beta[p] * 2, q_idx)\n",
    "\n",
    "    circuit.measure_all()\n",
    "    return circuit"
   ]
  },
  {
   "cell_type": "code",
   "execution_count": null,
   "id": "6995f4fb-109d-45e5-ad29-c0ef635f8cd3",
   "metadata": {
    "collapsed": false
   },
   "outputs": [],
   "source": [
    "def compute_expectation(counts):\n",
    "    media = 0\n",
    "    len_count = 0\n",
    "    for bits, count in counts.items():\n",
    "        cost = eval_cost_function(bits)\n",
    "        media += cost * count\n",
    "        len_count += count\n",
    "\n",
    "    return media/len_count"
   ]
  },
  {
   "cell_type": "code",
   "execution_count": null,
   "id": "e76d5ecb-44f0-4382-969e-3b1f1cb1be25",
   "metadata": {
    "collapsed": false
   },
   "outputs": [],
   "source": [
    "# Simulador\n",
    "from qiskit import Aer\n",
    "from scipy.optimize import minimize\n",
    "\n",
    "backend = Aer.get_backend('aer_simulator')\n",
    "shots = 1024\n",
    "\n",
    "def execute_circuit(theta):\n",
    "    qc = generate_qaoa_circuit(theta)\n",
    "    counts = backend.run(qc, shots=shots).result().get_counts()\n",
    "    return compute_expectation(counts)\n",
    "\n",
    "num_layers = 1\n",
    "theta_res = minimize(execute_circuit, [1.0, 1.0] * num_layers, method = \"COBYLA\")\n",
    "theta_res"
   ]
  },
  {
   "cell_type": "code",
   "execution_count": null,
   "id": "9eb95ae4-1703-45d7-b8ef-8c03009043d6",
   "metadata": {
    "collapsed": false
   },
   "outputs": [],
   "source": [
    "from qiskit.visualization import plot_histogram\n",
    "backend = Aer.get_backend('aer_simulator')\n",
    "shots = 1024\n",
    "\n",
    "qc = generate_qaoa_circuit(theta_res.x)\n",
    "counts = backend.run(qc, shots=shots).result().get_counts()\n",
    "\n",
    "normalized_counts = {key: val / shots for (key, val) in counts.items()}\n",
    "plot_histogram(normalized_counts, figsize=(13, 6.83))"
   ]
  },
  {
   "cell_type": "code",
   "execution_count": null,
   "id": "eae1d859-6a8d-45ea-8307-62f8663ab9af",
   "metadata": {
    "collapsed": false
   },
   "outputs": [],
   "source": [
    "# Gamma function\n",
    "import numpy as np\n",
    "import matplotlib.pyplot as plt\n",
    "\n",
    "def gamma_function():\n",
    "    x = np.linspace(0.3, 6, 300)\n",
    "    y = []\n",
    "    beta = 1.0\n",
    "    for gamma in x:\n",
    "        y.append(execute_circuit([beta, gamma]))\n",
    "\n",
    "    plt.plot(x, y)\n",
    "    #plt.savefig(\"../../latex/img/qiskit_grafo/gamma_fun_2d.png\")\n",
    "    plt.show()\n",
    "\n",
    "gamma_function()"
   ]
  },
  {
   "cell_type": "code",
   "execution_count": null,
   "id": "a234ba24-f94a-4850-b976-67bbff797fc2",
   "metadata": {
    "collapsed": false
   },
   "outputs": [],
   "source": [
    "# 3D Gamma function\n",
    "import numpy as np\n",
    "import matplotlib.pyplot as plt\n",
    "from matplotlib import cm\n",
    "import itertools\n",
    "\n",
    "def gamma_function_3d():\n",
    "    beta = np.arange(0.3, 6, (6-0.3)/120)\n",
    "    gamma = np.arange(0.3, 6, (6-0.3)/120)\n",
    "    beta, gamma = np.meshgrid(beta, gamma)\n",
    "    z = np.zeros([len(beta), len(beta)])\n",
    "\n",
    "    for i in range(len(beta)):\n",
    "        for j in range(len(beta)):\n",
    "            z[i][j] = execute_circuit([beta[i][j], gamma[i][j]])\n",
    "\n",
    "    fig = plt.figure()\n",
    "    axis = plt.axes(projection='3d')\n",
    "    figure = axis.plot_surface(gamma, beta, z, cmap=cm.coolwarm, linewidth=0, antialiased=False)\n",
    "    fig.colorbar(figure, shrink=0.5, aspect=5)\n",
    "    plt.savefig(\"../../latex/img/qiskit_grafo/gamma_fun_3d.png\")\n",
    "    plt.show()\n",
    "\n",
    "gamma_function_3d()"
   ]
  },
  {
   "cell_type": "code",
   "execution_count": null,
   "id": "cc1f2990-eae7-4880-b888-bcfc45496d78",
   "metadata": {
    "collapsed": false
   },
   "outputs": [],
   "source": [
    "# Statistics\n",
    "def max_global_statistics(num_layers=1, num_generations=1000) -> Tuple[Dict[str, float],\n",
    "                                                                       Dict[str, float]]:\n",
    "    max_statistics = {}\n",
    "    global_statistics = {}\n",
    "    for iteration in range(0, num_generations):\n",
    "        theta_res = minimize(execute_circuit, [1.0, 1.0] * num_layers, method = \"COBYLA\")\n",
    "        qc = generate_qaoa_circuit(theta_res.x)\n",
    "        counts = backend.run(qc, shots=shots).result().get_counts()\n",
    "\n",
    "        # Max statistics\n",
    "        max_path = max(counts, key=counts.get)\n",
    "        if max_path not in max_statistics:\n",
    "            max_statistics[max_path] = 0\n",
    "        max_statistics[max_path] += 1\n",
    "\n",
    "        # Global statistics\n",
    "        for (path, num_appearances) in counts.items():\n",
    "            if path not in global_statistics:\n",
    "                global_statistics[path] = 0\n",
    "            global_statistics[path] += num_appearances\n",
    "\n",
    "    for path in global_statistics:\n",
    "        global_statistics[path] = global_statistics[path] / shots / num_generations  # Normalize\n",
    "\n",
    "    for path in max_statistics:\n",
    "        max_statistics[path] = max_statistics[path] / num_generations  # Normalize\n",
    "\n",
    "    max_statistics = sorted(max_statistics.items(), key=lambda x: x[1], reverse=True)\n",
    "    global_statistics = sorted(global_statistics.items(), key=lambda x: x[1], reverse=True)\n",
    "\n",
    "    return max_statistics, global_statistics\n",
    "\n",
    "\n",
    "print(GRAPH_NAME + \":\\n\")\n",
    "interval_num_layers = (1, 3)\n",
    "for p in range(interval_num_layers[0], interval_num_layers[1] + 1):\n",
    "    max_st, global_st = max_global_statistics(num_layers=p, num_generations=100)\n",
    "    print(f\"Max statistics (p = {p}): \", str(max_st))\n",
    "    print(f\"Global statistics (p = {p}): \", str(global_st))\n",
    "    print()"
   ]
  },
  {
   "cell_type": "code",
   "execution_count": null,
   "id": "e7162ed3-0b89-4726-a8f4-0fdae6cc4756",
   "metadata": {
    "collapsed": false
   },
   "outputs": [],
   "source": [
    "!dunstify -t $((30* 1000*60)) --urgency=critical \"Ejecución completada\""
   ]
  }
 ],
 "metadata": {
  "kernelspec": {
   "argv": [
    "python",
    "-m",
    "ipykernel_launcher",
    "-f",
    "{connection_file}"
   ],
   "display_name": "Python 3 (ipykernel)",
   "env": null,
   "interrupt_mode": "signal",
   "language": "python",
   "metadata": {
    "debugger": true
   },
   "name": "python3"
  },
  "name": "mi-qiskit.ipynb"
 },
 "nbformat": 4,
 "nbformat_minor": 5
}
