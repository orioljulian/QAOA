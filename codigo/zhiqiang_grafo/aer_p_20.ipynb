{
 "cells": [
  {
   "cell_type": "code",
   "execution_count": null,
   "id": "2cd96939-1ba5-44fa-b1d7-13198c5d111f",
   "metadata": {
    "collapsed": false
   },
   "outputs": [],
   "source": [
    "\n",
    "# P=20\n",
    "\n",
    "# exp_20 = \"\\\n",
    "# -1.5*z_0 - 3*z_1 - 4.5*z_2 - 0.5*z_3 + \\\n",
    "# 10*z_0*z_1 - 10*z_0*z_2 - 10*z_1*z_3 + 10*z_2*z_3 + \\\n",
    "# 10*z_0**2 + 10*z_1**2 + 10*z_2**2 + 10*z_3**2 + 9.5\"\n",
    "\n",
    "edges = {(0, 1): 3, (0, 2): 6, (1, 3): 9, (2, 3): 1}\n",
    "num_nodes = 4\n",
    "\n",
    "# Hp = - 1.5*Z0 - 3*Z1 - 4.5*Z2 - 0.5*Z3 + \\\n",
    "#        10*Z0*Z1 - 10*Z0*Z2 - 10*Z1*Z3 + 10*Z2*Z3\n",
    "\n",
    "linear_coefs = [-1.5, -3, -4.5, -0.5]\n",
    "quadra_coefs = {(0, 1): 10, (0, 2): -10, (1, 3): -10, (2, 3): 10}"
   ]
  },
  {
   "cell_type": "code",
   "execution_count": null,
   "id": "56207de4-5d1b-4010-97b7-46bb484108a2",
   "metadata": {
    "collapsed": false
   },
   "outputs": [],
   "source": [
    "import networkx as nx\n",
    "import matplotlib.pyplot as plt\n",
    "\n",
    "# Imprime un grafo dirigido pesado\n",
    "# Entrada\n",
    "#     graph_nodes: Lista de nodos del grafo\n",
    "#     graph_edges: Diccionario {vértice: peso} donde vértice es (n1, n2)\n",
    "#     layout:      Para especificar la posición de los nodos\n",
    "def print_graph(graph_nodes, graph_edges, layout=None):\n",
    "    G = nx.DiGraph()\n",
    "\n",
    "    # Nodes\n",
    "    G.add_nodes_from(graph_nodes)\n",
    "\n",
    "    # Edges\n",
    "    for pair, weight in edges.items():\n",
    "        G.add_edge(pair[0], pair[1], weight=weight)\n",
    "\n",
    "    # Print graph\n",
    "    if layout is None:\n",
    "        layout = nx.spring_layout(G)\n",
    "\n",
    "    plt.figure(3, figsize=(6, 2))\n",
    "    nx.draw(G, layout, with_labels=True, node_size=600)\n",
    "    edge_labels = nx.get_edge_attributes(G, \"weight\")\n",
    "    nx.draw_networkx_edge_labels(G, pos=layout, edge_labels=edge_labels)\n",
    "    # plt.savefig(\"../../latex/resultados/img/zhiqiang_grafo.png\")\n",
    "\n",
    "print_graph(range(num_nodes), edges, layout={0: [-1, 0], 1: [0, 1],\n",
    "                                             2: [0, -1], 3: [1, 0]})"
   ]
  },
  {
   "cell_type": "code",
   "execution_count": null,
   "id": "71562981-6276-42cc-a6e0-5a94fcb1c21c",
   "metadata": {
    "collapsed": false
   },
   "outputs": [],
   "source": [
    "# Función de coste binaria con valores {0, 1}\n",
    "cost_function = \"\\\n",
    "3*x_01 + 6*x_02 + 9*x_13 + 1*x_23 + \\\n",
    "20*(x_01 + x_02 - 1)**2 + \\\n",
    "20*(x_23 + x_13 - 1)**2 + \\\n",
    "20*(x_01 - x_13)**2 + \\\n",
    "20*(x_02 - x_23)**2\"\n",
    "\n",
    "# Evalúa una solución concreta según la función de coste para la versión QUBO\n",
    "# Entrada:\n",
    "#     - bits: Cadena con los valores de los qubits medidos\n",
    "#             Orden: q_4 q_3 q_2 q_1 q_0\n",
    "def eval_cost_function(bits):\n",
    "    assert len(edges) == len(bits), \"Error in cost_function: Length of bits\"\n",
    "\n",
    "    inv_bits = bits[::-1]  # Los qubits están en orden inverso\n",
    "\n",
    "    param_dict = {}\n",
    "    # Asignación entre x_ij -> q_n\n",
    "    # Establecido por el orden de edges. Ej: x_12 -> q_2 (esto es, qubit nº2)\n",
    "    for n, (i, j) in enumerate(edges):\n",
    "        param_dict[f\"x_{i}{j}\"] = int(inv_bits[n])\n",
    "\n",
    "    return eval(cost_function, param_dict)"
   ]
  },
  {
   "cell_type": "code",
   "execution_count": null,
   "id": "1b031158-9e92-467a-9fc6-141d4ca4f8b8",
   "metadata": {
    "collapsed": false
   },
   "outputs": [],
   "source": [
    "from qiskit import QuantumCircuit\n",
    "def generate_qaoa_circuit(theta):\n",
    "    assert len(theta) % 2 == 0, \"Error in parameters (Beta, Gamma)\"\n",
    "\n",
    "    nqubits = len(edges)  # Tantos qubits como aristas tenga el grafo\n",
    "    circuit = QuantumCircuit(nqubits)\n",
    "\n",
    "    layers = int(len(theta) / 2)\n",
    "    beta = theta[:layers]\n",
    "    gamma = theta[layers:]\n",
    "\n",
    "    # |v0>\n",
    "    for i in range(nqubits):\n",
    "        circuit.h(i)\n",
    "\n",
    "    for p in range(layers):\n",
    "        circuit.barrier()\n",
    "\n",
    "        # Hp\n",
    "        for q_idx, coef in enumerate(linear_coefs):\n",
    "            circuit.rz(coef, q_idx)\n",
    "            # circuit.rz(coef * gamma[p] * 2, q_idx)\n",
    "        for q_idxs, coef in quadra_coefs.items():\n",
    "            circuit.rzz(coef * gamma[p], q_idxs[0], q_idxs[1])\n",
    "            # circuit.rzz(coef * gamma[p] * 2, q_idxs[0], q_idxs[1])\n",
    "\n",
    "        circuit.barrier()\n",
    "\n",
    "        # Hm\n",
    "        for q_idx in range(nqubits):\n",
    "            circuit.rx(beta[p] * 2, q_idx)\n",
    "\n",
    "    circuit.measure_all()\n",
    "    return circuit"
   ]
  },
  {
   "cell_type": "code",
   "execution_count": null,
   "id": "4baa32c5-de08-4002-abf8-c38572413086",
   "metadata": {
    "collapsed": false
   },
   "outputs": [],
   "source": [
    "def compute_expectation(counts):\n",
    "    media = 0\n",
    "    len_count = 0\n",
    "    for bits, count in counts.items():\n",
    "        cost = eval_cost_function(bits)\n",
    "        media += cost * count\n",
    "        len_count += count\n",
    "\n",
    "    return media/len_count"
   ]
  },
  {
   "cell_type": "code",
   "execution_count": null,
   "id": "6577add1-9246-4a5a-b925-b0cfc3d59016",
   "metadata": {
    "collapsed": false
   },
   "outputs": [],
   "source": [
    "# Simulador\n",
    "from qiskit import Aer\n",
    "from scipy.optimize import minimize\n",
    "\n",
    "backend = Aer.get_backend('aer_simulator')\n",
    "shots = 1024\n",
    "\n",
    "def execute_circuit(theta):\n",
    "    qc = generate_qaoa_circuit(theta)\n",
    "    counts = backend.run(qc, shots=shots).result().get_counts()\n",
    "    return compute_expectation(counts)\n",
    "\n",
    "num_layers = 1\n",
    "theta_res = minimize(execute_circuit, [1.0, 1.0] * num_layers, method = \"COBYLA\")\n",
    "theta_res"
   ]
  },
  {
   "cell_type": "code",
   "execution_count": null,
   "id": "58b0b93f-7189-4444-9bfe-210f0b8fe145",
   "metadata": {
    "collapsed": false
   },
   "outputs": [],
   "source": [
    "from qiskit.visualization import plot_histogram\n",
    "backend = Aer.get_backend('aer_simulator')\n",
    "shots = 1024\n",
    "\n",
    "qc = generate_qaoa_circuit(theta_res.x)\n",
    "counts = backend.run(qc, shots=shots).result().get_counts()\n",
    "\n",
    "plot_histogram(counts, figsize=(12, 7))"
   ]
  },
  {
   "cell_type": "code",
   "execution_count": null,
   "id": "48ff60e3-c37c-41f2-bd88-fe894679e405",
   "metadata": {
    "collapsed": false
   },
   "outputs": [],
   "source": [
    "# Gamma function\n",
    "import numpy as np\n",
    "import matplotlib.pyplot as plt\n",
    "\n",
    "def graph():\n",
    "    x = np.arange(0.3, 3, 0.01)\n",
    "    y = []\n",
    "    beta = 1.0\n",
    "    for gamma in x:\n",
    "        y.append(execute_circuit([beta, gamma]))\n",
    "\n",
    "    plt.plot(x, y)\n",
    "    # plt.savefig(\"../../latex/resultados/img/zhiqiang_grafo/modificadores_paper/zhiqiang_p_20_gamma_fun.png\")\n",
    "    plt.show()\n",
    "\n",
    "graph()"
   ]
  },
  {
   "cell_type": "code",
   "execution_count": null,
   "id": "5781d8d8-4f69-4334-9eaf-2f6ab260a8f6",
   "metadata": {
    "collapsed": false
   },
   "outputs": [],
   "source": [
    "# Statistics\n",
    "statistics = {}\n",
    "num_layers = 1\n",
    "for generation in range(0, 1000):\n",
    "    theta_res = minimize(execute_circuit, [1.0, 1.0] * num_layers, method = \"COBYLA\")\n",
    "    qc = generate_qaoa_circuit(theta_res.x)\n",
    "    counts = backend.run(qc, shots=shots).result().get_counts()\n",
    "\n",
    "    path = max(counts, key=counts.get)\n",
    "    if path not in statistics:\n",
    "        statistics[path] = 0\n",
    "    statistics[path] += 1\n",
    "\n",
    "print(statistics)"
   ]
  },
  {
   "cell_type": "code",
   "execution_count": null,
   "id": "2e7b2255-451f-43ab-aa65-ea95e6b41738",
   "metadata": {
    "collapsed": false
   },
   "outputs": [],
   "source": [
    "!dunstify -t $((30*1000)) --urgency=critical \"Ejecución completada\""
   ]
  }
 ],
 "metadata": {
  "kernelspec": {
   "argv": [
    "python",
    "-m",
    "ipykernel_launcher",
    "-f",
    "{connection_file}"
   ],
   "display_name": "Python 3 (ipykernel)",
   "env": null,
   "interrupt_mode": "signal",
   "language": "python",
   "metadata": {
    "debugger": true
   },
   "name": "python3"
  },
  "name": "aer_p_20.ipynb"
 },
 "nbformat": 4,
 "nbformat_minor": 5
}
