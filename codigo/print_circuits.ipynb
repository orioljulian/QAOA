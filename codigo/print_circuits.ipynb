{
 "cells": [
  {
   "cell_type": "code",
   "execution_count": null,
   "id": "79a2d6fe-fa4a-4605-8230-3bcbc74cf7d3",
   "metadata": {
    "collapsed": false
   },
   "outputs": [],
   "source": [
    "from qiskit import QuantumCircuit\n",
    "from qiskit.circuit import Parameter\n",
    "\n",
    "def add_new_parameter(parameters, parameter_name):\n",
    "    idx = -1\n",
    "    for i, existing_parameter in enumerate(parameters):\n",
    "        if existing_parameter.name == parameter_name:\n",
    "            idx = i\n",
    "\n",
    "    if idx == -1:\n",
    "        parameters.append(Parameter(parameter_name))\n",
    "\n",
    "    return idx\n",
    "\n",
    "def generate_qaoa_circuit(layers):\n",
    "\n",
    "    nqubits = len(edges)  # Tantos qubits como aristas tenga el grafo\n",
    "    circuit = QuantumCircuit(nqubits)\n",
    "\n",
    "    # |v0>\n",
    "    for i in range(nqubits):\n",
    "        circuit.h(i)\n",
    "\n",
    "    parameters = []\n",
    "    for p in range(layers):\n",
    "        circuit.barrier()\n",
    "\n",
    "        # Hp\n",
    "        for q_idx, coef in enumerate(linear_coefs):\n",
    "            idx = add_new_parameter(parameters, f\"{coef}\")\n",
    "            circuit.rz(parameters[idx], q_idx)\n",
    "        for q_idxs, coef in quadra_coefs.items():\n",
    "            idx = add_new_parameter(parameters, f\"{coef}*$\\\\gamma_{p}$\")\n",
    "            circuit.rzz(parameters[idx], q_idxs[0], q_idxs[1])\n",
    "\n",
    "        circuit.barrier()\n",
    "\n",
    "        # Hm\n",
    "        for q_idx in range(nqubits):\n",
    "            idx = add_new_parameter(parameters, f\"2*$\\\\beta_{p}$\")\n",
    "            circuit.rx(parameters[idx], q_idx)\n",
    "\n",
    "    circuit.measure_all()\n",
    "    return circuit"
   ]
  },
  {
   "cell_type": "code",
   "execution_count": null,
   "id": "5cfad183-4a86-4504-bfb9-d0fb13ad58ab",
   "metadata": {
    "collapsed": false
   },
   "outputs": [],
   "source": [
    "def generate_layer_circuits(name):\n",
    "    for p in range(1, max_num_layers + 1):\n",
    "        route = f\"../latex/img/circuits/{name}_circuit_p-{p}.png\"\n",
    "        generate_qaoa_circuit(p).draw(filename=route)"
   ]
  },
  {
   "cell_type": "code",
   "execution_count": null,
   "id": "e6b250a4-daf1-4556-8ad3-40386d685d3a",
   "metadata": {
    "collapsed": false
   },
   "outputs": [],
   "source": [
    "import matplotlib.pyplot as plt\n",
    "\n",
    "max_num_layers = 3\n",
    "\n",
    "# Primer grafo\n",
    "edges = {(0, 1): 5, (0, 2): 8, (1, 2): 2, (1, 3): 7, (2, 3): 4}\n",
    "linear_coefs = [11, -17.5, -28, -17, 11.5]\n",
    "quadra_coefs = {(0, 2): -13.5, (1, 2): 13.5, (2, 3): 13.5, (2, 4): -13.5,\n",
    "                (0, 1): 13.5, (0, 3): -13.5, (1, 4): -13.5}\n",
    "generate_layer_circuits(name=\"primer\")\n",
    "\n",
    "# Zhiqiang grafo\n",
    "edges = {(0, 1): 3, (0, 2): 6, (1, 3): 9, (2, 3): 1}\n",
    "linear_coefs = [-1.5, -3, -4.5, -0.5]\n",
    "quadra_coefs = {(0, 1): 10, (0, 2): -10, (1, 3): -10, (2, 3): 10}\n",
    "generate_layer_circuits(name=\"zhiqiang\")\n",
    "\n",
    "# Qiskit MAX-CUT\n"
   ]
  }
 ],
 "metadata": {
  "kernelspec": {
   "argv": [
    "python",
    "-m",
    "ipykernel_launcher",
    "-f",
    "{connection_file}"
   ],
   "display_name": "Python 3 (ipykernel)",
   "env": null,
   "interrupt_mode": "signal",
   "language": "python",
   "metadata": {
    "debugger": true
   },
   "name": "python3"
  },
  "name": "print_circuits.ipynb"
 },
 "nbformat": 4,
 "nbformat_minor": 5
}
