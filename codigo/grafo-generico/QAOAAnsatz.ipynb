{
 "cells": [
  {
   "cell_type": "code",
   "execution_count": null,
   "id": "d6d9e7cb-bac7-4f83-8e17-94e6ec11c064",
   "metadata": {
    "collapsed": false
   },
   "outputs": [],
   "source": [
    "from qiskit.circuit.library import QAOAAnsatz\n",
    "from qiskit.quantum_info import SparsePauliOp\n",
    "from qiskit.visualization import plot_distribution\n",
    "from qiskit.primitives import Estimator, Sampler  # Local simulator\n",
    "from scipy.optimize import minimize\n",
    "\n",
    "from typing import List, Dict, Tuple"
   ]
  },
  {
   "cell_type": "code",
   "execution_count": null,
   "id": "4fff2787-d951-495c-bae2-459cd2881fe6",
   "metadata": {
    "collapsed": false
   },
   "outputs": [],
   "source": [
    "# Urgelles grafo\n",
    "# P = 27\n",
    "GRAPH_NAME = \"Urgelles grafo\"\n",
    "\n",
    "NUM_NODES = 4\n",
    "EDGES = {(0, 1): 5, (0, 2): 8, (1, 2): 2, (1, 3): 7, (2, 3): 4}\n",
    "NQUBITS = len(EDGES)\n",
    "\n",
    "# Hp = 11*Z0 - 17.5*Z1 - 28*Z2 - 17*Z3 + 11.5*Z4 +\n",
    "#      13.5*(-Z0*Z2 + Z1*Z2 + Z2*Z3 - Z2*Z4 + Z0*Z1 - Z0*Z3 - Z1*Z4)\n",
    "\n",
    "# Coeficientes lineales de Hp (11 * Z0 - 17.5 * Z1...)\n",
    "LINEAR_COEFS = [11, -17.5, -28, -17, 11.5]\n",
    "\n",
    "# Coeficientes cuadráticos Ej: {(2, 3): 13.5} -> 13.5 * Z2 * Z3\n",
    "QUADRA_COEFS = {(0, 1): 13.5, (0, 2): -13.5, (0, 3): -13.5, (1, 2): 13.5,\n",
    "                (1, 4): -13.5, (2, 3): 13.5, (2, 4): -13.5}\n",
    "\n",
    "CIRCUIT_ROUTE = \"../../latex/img/circuits/primer/primer-circuit-qaoaAnsatz-p1.png\"\n",
    "PRINT_GRAPH_LAYOUT = {0: [-1, 0], 1: [0, 1], 2: [0, -1], 3: [1, 0]}"
   ]
  },
  {
   "cell_type": "code",
   "execution_count": null,
   "id": "273c8af9-a1a9-4325-87e9-341b602c27ae",
   "metadata": {
    "collapsed": false
   },
   "outputs": [],
   "source": [
    "# Shan grafo\n",
    "# P = 20\n",
    "GRAPH_NAME = \"Shan grafo\"\n",
    "\n",
    "NUM_NODES = 4\n",
    "EDGES = {(0, 1): 3, (0, 2): 6, (1, 3): 9, (2, 3): 1}\n",
    "NQUBITS = len(EDGES)\n",
    "\n",
    "# Hp = - 1.5*Z0 - 3*Z1 - 4.5*Z2 - 0.5*Z3 +\n",
    "#        10*Z0*Z1 - 10*Z0*Z2 - 10*Z1*Z3 + 10*Z2*Z3\n",
    "\n",
    "LINEAR_COEFS = [-1.5, -3, -4.5, -0.5]\n",
    "QUADRA_COEFS = {(0, 1): 10, (0, 2): -10, (1, 3): -10, (2, 3): 10}\n",
    "\n",
    "CIRCUIT_ROUTE = \"../../latex/img/circuits/zhiqiang/zhiqiang-circuit-qaoaAnsatz-p1.png\"\n",
    "PRINT_GRAPH_LAYOUT = {0: [-1, 0], 1: [0, 1], 2: [0, -1], 3: [1, 0]}"
   ]
  },
  {
   "cell_type": "code",
   "execution_count": null,
   "id": "aaa2a2d5-7835-466f-827f-13853901e605",
   "metadata": {
    "collapsed": false
   },
   "outputs": [],
   "source": [
    "import networkx as nx\n",
    "import matplotlib.pyplot as plt\n",
    "\n",
    "\n",
    "# Imprime un grafo dirigido pesado\n",
    "# Entrada:\n",
    "#   - graph_nodes: Lista de nodos del grafo\n",
    "#   - graph_edges: Diccionario {edge: weight} donde edge es (n1, n2)\n",
    "#   - layout: Para especificar la posición de los nodos\n",
    "def print_graph(graph_nodes: List[int],\n",
    "                graph_edges: Dict[Tuple[int, int], int],\n",
    "                title=\"\", layout: Dict[int, List[int]]=None):\n",
    "    G = nx.DiGraph()\n",
    "\n",
    "    # Nodes\n",
    "    G.add_nodes_from(graph_nodes)\n",
    "\n",
    "    # Edges\n",
    "    for pair, weight in graph_edges.items():\n",
    "        G.add_edge(pair[0], pair[1], weight=weight)\n",
    "\n",
    "    # Print graph\n",
    "    if layout is None:\n",
    "        layout = nx.spring_layout(G)\n",
    "\n",
    "    plt.figure(3, figsize=(6, 3))\n",
    "    plt.title(title)\n",
    "    nx.draw(G, layout, with_labels=True, node_size=600)\n",
    "    edge_labels = nx.get_edge_attributes(G, \"weight\")\n",
    "    nx.draw_networkx_edge_labels(G, pos=layout, edge_labels=edge_labels)\n",
    "    #plt.savefig(\"../../latex/img/primer_grafo/primer_grafo.png\")\n",
    "\n",
    "\n",
    "print_graph(range(NUM_NODES), EDGES, title=GRAPH_NAME, layout=PRINT_GRAPH_LAYOUT)"
   ]
  },
  {
   "cell_type": "code",
   "execution_count": null,
   "id": "53ed5218-939e-4c1a-83a0-8565e46aeb19",
   "metadata": {
    "collapsed": false
   },
   "outputs": [],
   "source": [
    "# Crear lista para SparsePauliOp. Equivalente al operador C\n",
    "hamiltonian_list = []\n",
    "for coef, qubit_idx in zip(LINEAR_COEFS, range(len(LINEAR_COEFS))):\n",
    "    gates = [\"I\"] * NQUBITS\n",
    "    gates[(NQUBITS - qubit_idx - 1)] = \"Z\"\n",
    "    hamiltonian_list.append((\"\".join(gates), coef))\n",
    "\n",
    "for qubit_idxs in QUADRA_COEFS:\n",
    "    coef = QUADRA_COEFS[qubit_idxs]\n",
    "    gates = [\"I\"] * NQUBITS\n",
    "    gates[(NQUBITS - qubit_idxs[0] - 1)] = \"Z\"\n",
    "    gates[(NQUBITS - qubit_idxs[1] - 1)] = \"Z\"\n",
    "    hamiltonian_list.append((\"\".join(gates), coef))\n",
    "\n",
    "hamiltonian_list"
   ]
  },
  {
   "cell_type": "code",
   "execution_count": null,
   "id": "9f9ba5bf-dd45-4ddf-a26c-a327d2fd7e2c",
   "metadata": {
    "collapsed": false
   },
   "outputs": [],
   "source": [
    "# Construir hamiltoniano y generar circuito ansatz\n",
    "hamiltonian = SparsePauliOp.from_list(hamiltonian_list)\n",
    "num_layers = 1\n",
    "ansatz = QAOAAnsatz(hamiltonian, reps=num_layers)\n",
    "ansatz.decompose(reps=3).draw(output=\"mpl\", fold=-1)"
   ]
  },
  {
   "cell_type": "code",
   "execution_count": null,
   "id": "f6e4688e-ab1b-42fb-9d2a-a852f5bd4deb",
   "metadata": {
    "collapsed": false
   },
   "outputs": [],
   "source": [
    "# Función a minimizar con el optimizador clásico\n",
    "\n",
    "\n",
    "def execute_circuit(params, ansatz, hamiltonian, estimator):\n",
    "    cost = estimator.run(ansatz, hamiltonian, parameter_values=params).result().values[0]\n",
    "    return cost"
   ]
  },
  {
   "cell_type": "code",
   "execution_count": null,
   "id": "88210176-6abe-47f9-9d77-b1cba8189c30",
   "metadata": {
    "collapsed": false
   },
   "outputs": [],
   "source": [
    "# Inicialización de entornos de ejecución\n",
    "estimator = Estimator(options={\"shots\": int(1000)})\n",
    "sampler = Sampler(options={\"shots\": int(1000)})"
   ]
  },
  {
   "cell_type": "code",
   "execution_count": null,
   "id": "5bcd3aef-e584-4bc3-830d-5657f1d03023",
   "metadata": {
    "collapsed": false
   },
   "outputs": [],
   "source": [
    "# Calculo de parametros alpha y beta óptimos\n",
    "x0 = [1.0, 1.0] * num_layers\n",
    "res = minimize(execute_circuit, x0, args=(ansatz, hamiltonian, estimator), method=\"COBYLA\")\n",
    "res"
   ]
  },
  {
   "cell_type": "code",
   "execution_count": null,
   "id": "f0af0c4c-6f68-4fcf-bc43-1d37e493df60",
   "metadata": {
    "collapsed": false
   },
   "outputs": [],
   "source": [
    "# Cálculo de valor a partir de los parámetros óptimos\n",
    "qc = ansatz.assign_parameters(res.x)\n",
    "qc.measure_all()\n",
    "samp_dist = sampler.run(qc).result().quasi_dists[0]\n",
    "plot_distribution(samp_dist.binary_probabilities())"
   ]
  },
  {
   "cell_type": "code",
   "execution_count": null,
   "id": "32e49096-637a-4b48-9eb1-40bd982f7ff2",
   "metadata": {
    "collapsed": false
   },
   "outputs": [],
   "source": [
    "# Cálculo de las estadísticas\n",
    "# En el TFG:\n",
    "#   - NA/TE == max_statistics\n",
    "#   - MM/TE == global_statistics\n",
    "#\n",
    "# Entrada:\n",
    "#   - num_layers: Número de capas\n",
    "#   - num_generations: TE\n",
    "#\n",
    "# Salida:\n",
    "#   - (max_statistics, global_statistics)\n",
    "#\n",
    "def max_global_statistics(num_layers=1, num_generations=100) -> Tuple[Dict[str, float],\n",
    "                                                                      Dict[str, float]]:\n",
    "    max_statistics = {}\n",
    "    global_statistics = {}\n",
    "    ansatz = QAOAAnsatz(hamiltonian, reps=num_layers)\n",
    "    x0 = [1.0, 1.0] * num_layers\n",
    "    for iteration in range(0, num_generations):\n",
    "        theta_res = minimize(execute_circuit, x0, args=(ansatz, hamiltonian, estimator), method=\"COBYLA\")\n",
    "        qc = ansatz.assign_parameters(theta_res.x)\n",
    "        qc.measure_all()\n",
    "        counts = sampler.run(qc).result().quasi_dists[0].binary_probabilities()\n",
    "\n",
    "        # Max statistics\n",
    "        max_path = max(counts, key=counts.get)\n",
    "        if max_path not in max_statistics:\n",
    "            max_statistics[max_path] = 0\n",
    "        max_statistics[max_path] += 1\n",
    "\n",
    "        # Global statistics\n",
    "        for (path, num_appearances) in counts.items():\n",
    "            if path not in global_statistics:\n",
    "                global_statistics[path] = 0\n",
    "            global_statistics[path] += num_appearances\n",
    "\n",
    "    for path in global_statistics:\n",
    "        global_statistics[path] = global_statistics[path] / num_generations  # Normalize\n",
    "\n",
    "    for path in max_statistics:\n",
    "        max_statistics[path] = max_statistics[path] / num_generations  # Normalize\n",
    "\n",
    "    max_statistics = sorted(max_statistics.items(), key=lambda x: x[1], reverse=True)\n",
    "    global_statistics = sorted(global_statistics.items(), key=lambda x: x[1], reverse=True)\n",
    "    return max_statistics, global_statistics\n",
    "\n",
    "print(GRAPH_NAME + \":\\n\")\n",
    "interval_num_layers = (1, 5)\n",
    "for p in range(interval_num_layers[0], interval_num_layers[1] + 1):\n",
    "    max_st, global_st = max_global_statistics(num_layers=p, num_generations=100)\n",
    "    print(f\"Max statistics (p = {p}): \", str(max_st))\n",
    "    print(f\"Global statistics (p = {p}): \", str(global_st))\n",
    "    print()"
   ]
  }
 ],
 "metadata": {
  "kernelspec": {
   "argv": [
    "python",
    "-m",
    "ipykernel_launcher",
    "-f",
    "{connection_file}"
   ],
   "display_name": "Python 3 (ipykernel)",
   "env": null,
   "interrupt_mode": "signal",
   "language": "python",
   "metadata": {
    "debugger": true
   },
   "name": "python3"
  },
  "name": "QAOAAnsatz.ipynb"
 },
 "nbformat": 4,
 "nbformat_minor": 5
}
