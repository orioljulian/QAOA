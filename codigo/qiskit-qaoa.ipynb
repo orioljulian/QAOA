{
 "cells": [
  {
   "cell_type": "code",
   "execution_count": null,
   "id": "7d7b9699-4c51-48fb-98a1-56fad35915cf",
   "metadata": {
    "collapsed": false
   },
   "outputs": [],
   "source": [
    "import networkx as nx\n",
    "import matplotlib.pyplot as plt\n",
    "from qiskit import QuantumCircuit, ClassicalRegister, QuantumRegister\n",
    "from qiskit import Aer, execute\n",
    "\n",
    "G = nx.Graph()\n",
    "G.add_nodes_from([0, 1, 2, 3])\n",
    "G.add_edges_from([(0, 1), (1, 2), (2, 3), (3, 0)])\n",
    "nx.draw(G, with_labels=True, alpha=0.8, node_size=500)"
   ]
  },
  {
   "cell_type": "code",
   "execution_count": null,
   "id": "24c9a836-0126-4cd9-835e-e007a6990910",
   "metadata": {
    "collapsed": false
   },
   "outputs": [],
   "source": [
    "create_qaoa_circ(G, [1.0, 1.0]).draw(filename=\"../latex/img/circuits/qiskit_circuit_p-1_1.0.png\")\n",
    "create_qaoa_circ(G, [2.0, 2.0]).draw(filename=\"../latex/img/circuits/qiskit_circuit_p-1_2.0.png\")\n",
    "create_qaoa_circ(G, [1.0, 1.0, 1.0, 1.0]).draw(filename=\"../latex/img/circuits/qiskit_circuit_p-2_1.0.png\")\n",
    "create_qaoa_circ(G, [2.0, 2.0, 2.0, 2.0]).draw(filename=\"../latex/img/circuits/qiskit_circuit_p-2_2.0.png\")\n",
    "create_qaoa_circ(G, [1.0, 1.0, 1.0, 1.0, 1.0, 1.0]).draw(filename=\"../latex/img/circuits/qiskit_circuit_p-3_1.0.png\")\n",
    "create_qaoa_circ(G, [2.0, 2.0, 2.0, 2.0, 2.0, 2.0]).draw(filename=\"../latex/img/circuits/qiskit_circuit_p-3_2.0.png\")"
   ]
  },
  {
   "cell_type": "code",
   "execution_count": null,
   "id": "47aac391-f309-41af-a63a-85d9395de1c9",
   "metadata": {
    "collapsed": false
   },
   "outputs": [],
   "source": [
    "def maxcut_obj(x, G):\n",
    "    obj = 0\n",
    "    for i, j in G.edges():\n",
    "        if x[i] != x[j]:\n",
    "            obj -= 1\n",
    "    return obj\n",
    "\n",
    "def compute_expectation(counts, G):\n",
    "    avg = 0\n",
    "    sum_count = 0\n",
    "\n",
    "    for bitstr, count in counts.items():\n",
    "        obj = maxcut_obj(bitstr[::-1], G)\n",
    "        avg += obj * count\n",
    "        sum_count += count\n",
    "\n",
    "    return avg/sum_count\n",
    "\n",
    "def create_qaoa_circ(G, theta):\n",
    "    nqubits = len(G.nodes())\n",
    "    p = len(theta)//2 # num layers\n",
    "    qc = QuantumCircuit(nqubits)\n",
    "\n",
    "    beta = theta[:p]\n",
    "    gamma = theta[p:]\n",
    "\n",
    "    # |v0>\n",
    "    for i in range(0, nqubits):\n",
    "        qc.h(i)\n",
    "\n",
    "    for irep in range(0, p):\n",
    "        qc.barrier()\n",
    "\n",
    "        # Hp\n",
    "        for pair in list(G.edges()):\n",
    "            qc.rzz(2 * gamma[irep], pair[0], pair[1])\n",
    "\n",
    "        qc.barrier()\n",
    "\n",
    "        # Hm\n",
    "        for i in range (0, nqubits):\n",
    "            qc.rx(2 * beta[irep], i)\n",
    "\n",
    "    qc.measure_all()\n",
    "\n",
    "    return qc\n",
    "\n",
    "def get_expectation(G, shots=512):\n",
    "    backend = Aer.get_backend('qasm_simulator')\n",
    "    backend.shots = shots\n",
    "\n",
    "    def execute_circ(theta):\n",
    "        qc = create_qaoa_circ(G, theta)\n",
    "        counts = backend.run(qc, nshots=512).result().get_counts()\n",
    "        return compute_expectation(counts, G)\n",
    "\n",
    "    return execute_circ"
   ]
  },
  {
   "cell_type": "code",
   "execution_count": null,
   "id": "2ca6d277-d39a-4f05-8427-3f53c0a04287",
   "metadata": {
    "collapsed": false
   },
   "outputs": [],
   "source": [
    "from scipy.optimize import minimize\n",
    "\n",
    "expectation = get_expectation(G)\n",
    "\n",
    "num_layers = 1\n",
    "res = minimize(expectation, [1.0, 1.0] * num_layers, method = \"COBYLA\")\n",
    "res"
   ]
  },
  {
   "cell_type": "code",
   "execution_count": null,
   "id": "bf9cb8d4-c9b4-4cc3-87ae-0413768e7459",
   "metadata": {
    "collapsed": false
   },
   "outputs": [],
   "source": [
    "from qiskit.visualization import plot_histogram\n",
    "\n",
    "backend = Aer.get_backend('aer_simulator')\n",
    "backend.shots = 512\n",
    "\n",
    "qc_res = create_qaoa_circ(G, res.x)\n",
    "\n",
    "counts = backend.run(qc_res, seed_simulator=10).result().get_counts()\n",
    "plot_histogram(counts)"
   ]
  }
 ],
 "metadata": {
  "kernelspec": {
   "argv": [
    "python",
    "-m",
    "ipykernel_launcher",
    "-f",
    "{connection_file}"
   ],
   "display_name": "Python 3 (ipykernel)",
   "env": null,
   "interrupt_mode": "signal",
   "language": "python",
   "metadata": {
    "debugger": true
   },
   "name": "python3"
  },
  "language_info": {
   "codemirror_mode": {
    "name": "ipython",
    "version": 3
   },
   "file_extension": ".py",
   "mimetype": "text/x-python",
   "name": "python",
   "nbconvert_exporter": "python",
   "pygments_lexer": "ipython3",
   "version": "3.10.6"
  },
  "name": "qiskit-qaoa.ipynb"
 },
 "nbformat": 4,
 "nbformat_minor": 5
}
