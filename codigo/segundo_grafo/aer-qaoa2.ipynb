{
 "cells": [
  {
   "cell_type": "code",
   "execution_count": null,
   "id": "7452a819-ed5d-406f-8eb0-e665f75b1eb2",
   "metadata": {
    "collapsed": false
   },
   "outputs": [],
   "source": [
    "# Función de coste binaria con valores {-1, 1}\n",
    "# g(z) = \"\\\n",
    "# - 1*z_0 - 14*z_1 - 43*z_2 - 14.5*z_3 - 42*z_4 - 28.5*z_5 - 0.5*z_6 \\\n",
    "# + 26.5*z_7 + 24.5*z_8 - 27.5*z_9 - 1*z_10 \\\n",
    "# + 13.5*z_0*z_1 + 13.5*z_0*z_2 - 13.5*z_0*z_3 - 13.5*z_0*z_4 + 13.5*z_1*z_2 \\\n",
    "# + 13.5*z_1*z_3 - 13.5*z_1*z_5 - 13.5*z_1*z_6 + 13.5*z_2*z_4 + 13.5*z_2*z_5 \\\n",
    "# - 13.5*z_2*z_7 - 13.5*z_2*z_8 + 13.5*z_2*z_9 + 13.5*z_3*z_4 - 13.5*z_3*z_5 \\\n",
    "# - 13.5*z_3*z_6 + 13.5*z_4*z_5 - 13.5*z_4*z_7 - 13.5*z_4*z_8 + 13.5*z_4*z_9 \\\n",
    "# + 13.5*z_5*z_6 - 13.5*z_5*z_7 - 13.5*z_5*z_8 + 13.5*z_5*z_9 + 13.5*z_6*z_7 \\\n",
    "# - 13.5*z_6*z_9 - 13.5*z_6*z_10 + 13.5*z_7*z_8 - 27*z_7*z_9 - 13.5*z_7*z_10 \\\n",
    "# - 13.5*z_8*z_9 + 13.5*z_8*z_10 + 13.5*z_9*z_10 + 13.5*x_01**2 + 13.5*z_1**2 \\\n",
    "# + 13.5*z_2**2 + 13.5*z_3**2 + 13.5*z_4**2 + 13.5*z_5**2 + 13.5*z_6**2 \\\n",
    "# + 13.5*z_7**2 + 13.5*z_8**2 + 13.5*z_9**2 + 13.5*x_020**2 + 53.5\"\n",
    "\n",
    "# Grafo\n",
    "edges = {(0, 1): 2, (0, 2): 1, (0, 3): 5, (1, 2): 2, (1, 3): 3,\n",
    "         (2, 3): 3, (2, 4): 1, (3, 4): 1, (3, 5): 5, (4, 3): 1, (4, 5): 2}\n",
    "num_nodes = 6\n",
    "\n",
    "# Hp = - 1*Z0 - 14*Z1 - 43*Z2 - 14.5*Z3 - 42*Z4 - 28.5*Z5 - 0.5*Z6\n",
    "#      + 26.5*Z7 + 24.5*Z8 - 27.5*Z9 - 1*Z10\n",
    "#      + 13.5(\n",
    "#      + Z0*Z1 + Z0*Z2 - Z0*Z3 - Z0*Z4 + Z1*Z2 + Z1*Z3 - Z1*Z5 - Z1*Z6\n",
    "#      + Z2*Z4 + Z2*Z5 - Z2*Z7 - Z2*Z8 + Z2*Z9 + Z3*Z4 - Z3*Z5 - Z3*Z6\n",
    "#      + Z4*Z5 - Z4*Z7 - Z4*Z8 + Z4*Z9 + Z5*Z6 - Z5*Z7 - Z5*Z8 + Z5*Z9\n",
    "#      + Z6*Z7 - Z6*Z9 - Z6*Z10 + Z7*Z8 - 2*Z7*Z9 - Z7*Z10 - Z8*Z9 + Z8*Z10\n",
    "#      + Z9*Z10)\n",
    "\n",
    "# Coeficientes lineales de Hp (-1 * Z0 - 14 * Z1...)\n",
    "linear_coefs = [-1, -14, -43, -14.5, -42, -28.5, -0.5 , 26.5 , 24.5, -27.5, -1]\n",
    "\n",
    "# Coeficientes cuadráticos Ej: {(2, 4): 13.5} -> 13.5 * Z2 * Z4\n",
    "quadra_coefs = {(0, 1):+13.5, (0, 2):+13.5, (0, 3):-13.5, (0, 4):-13.5,\n",
    "                (1, 2):+13.5, (1, 3):+13.5, (1, 5):-13.5, (1, 6):-13.5,\n",
    "                (2, 4):+13.5, (2, 5):+13.5, (2, 7):-13.5, (2, 8):-13.5,\n",
    "                (2, 9):+13.5, (3, 4):+13.5, (3, 5):-13.5, (3, 6):-13.5,\n",
    "                (4, 5):+13.5, (4, 7):-13.5, (4, 8):-13.5, (4, 9):+13.5,\n",
    "                (5, 6):+13.5, (5, 7):-13.5, (5, 8):-13.5, (5, 9):+13.5,\n",
    "                (6, 7):+13.5, (6, 9):-13.5, (6, 10):-13.5, (7, 8):+ 13.5,\n",
    "                (7, 9):-2*13.5, (7, 10):-13.5,\n",
    "                (8, 9):-13.5, (8, 10):+13.5, (9, 10):+13.5}"
   ]
  },
  {
   "cell_type": "code",
   "execution_count": null,
   "id": "247c8472-80f7-4108-8421-b0cadb47e9e8",
   "metadata": {
    "collapsed": false
   },
   "outputs": [],
   "source": [
    "import networkx as nx\n",
    "import matplotlib.pyplot as plt\n",
    "\n",
    "# Imprime un grafo dirigido pesado\n",
    "# Entrada\n",
    "#     graph_nodes: Lista de nodos del grafo\n",
    "#     graph_edges: Diccionario {vértice: peso} donde vértice es (n1, n2)\n",
    "#     layout:      Para especificar la posición de los nodos\n",
    "def print_graph(graph_nodes, graph_edges, layout=None):\n",
    "    G = nx.DiGraph()\n",
    "\n",
    "    # Nodes\n",
    "    G.add_nodes_from(graph_nodes)\n",
    "\n",
    "    # Edges\n",
    "    for pair, weight in graph_edges.items():\n",
    "        G.add_edge(pair[0], pair[1], weight=weight)\n",
    "\n",
    "    # Print graph\n",
    "    if layout is None:\n",
    "        layout = nx.spring_layout(G)\n",
    "\n",
    "    plt.figure(3, figsize=(6, 2))\n",
    "    nx.draw(G, layout, with_labels=True, node_size=600)\n",
    "    edge_labels = nx.get_edge_attributes(G, \"weight\")\n",
    "    nx.draw_networkx_edge_labels(G, pos=layout, edge_labels=edge_labels)\n",
    "    plt.show()\n",
    "\n",
    "print_graph(range(num_nodes), edges, layout={0: [-1, 0], 1: [0, 1],\n",
    "                                             2: [0, -1], 3: [1, 1],\n",
    "                                             4: [1, -1], 5: [2, 0]})"
   ]
  },
  {
   "cell_type": "code",
   "execution_count": null,
   "id": "5ab48b42-916f-43a4-8146-0066be484eae",
   "metadata": {
    "collapsed": false
   },
   "outputs": [],
   "source": [
    "# Función de coste binaria con valores {0, 1}\n",
    "cost_function = \"\\\n",
    "+ 2*x_01 + 1*x_02 + 5*x_03 + 2*x_12 + 3*x_13 + 3*x_23 + 1*x_24 + 1*x_34 \\\n",
    "+ 5*x_35 + 1*x_43 + 2*x_45 \\\n",
    "+ 27 * (x_01 + x_02 + x_03 - 1)**2 \\\n",
    "+ 27 * (x_35 + x_45 - 1)**2 \\\n",
    "+ 27 * (x_01 - x_12 - x_13)**2 \\\n",
    "+ 27 * (x_02 + x_12 - x_23 - x_24)**2 \\\n",
    "+ 27 * (x_03 + x_13 + x_23 + x_43 - x_34 - x_35)**2 \\\n",
    "+ 27 * (x_24 + x_34 - x_43 - x_45)**2\"\n",
    "\n",
    "# Evalúa una solución concreta según la función de coste para la versión QUBO\n",
    "# Entrada:\n",
    "#     - bits: Cadena con los valores de los qubits medidos\n",
    "#             Orden: q_10 q_9 q_8 q_7 q_6 q_5 q_4 q_3 q_2 q_1 q_0\n",
    "def eval_cost_function(bits):\n",
    "    assert len(edges) == len(bits), \"Error in cost_function: Length of bits\"\n",
    "\n",
    "    inv_bits = bits[::-1]  # Los qubits están en orden inverso\n",
    "\n",
    "    param_dict = {}\n",
    "    # Asignación entre x_ij -> q_n\n",
    "    # Establecido por el orden de edges. Ej: x_03 -> q_2 (esto es, qubit nº2)\n",
    "    for n, (i, j) in enumerate(edges):\n",
    "        param_dict[f\"x_{i}{j}\"] = int(inv_bits[n])\n",
    "\n",
    "    return eval(cost_function, param_dict)"
   ]
  },
  {
   "cell_type": "code",
   "execution_count": null,
   "id": "ba25b119-df5a-4a51-b657-6ecbf546288f",
   "metadata": {
    "collapsed": false
   },
   "outputs": [],
   "source": [
    "from qiskit import QuantumCircuit\n",
    "def generate_qaoa_circuit(theta):\n",
    "    assert len(theta) % 2 == 0, \"Error in parameters (Beta, Gamma)\"\n",
    "\n",
    "    nqubits = len(edges)  # Tantos qubits como aristas tenga el grafo\n",
    "    circuit = QuantumCircuit(nqubits)\n",
    "\n",
    "    layers = int(len(theta) / 2)\n",
    "    beta = theta[:layers]\n",
    "    gamma = theta[layers:]\n",
    "\n",
    "    # |v0>\n",
    "    for i in range(nqubits):\n",
    "        circuit.h(i)\n",
    "\n",
    "    for p in range(layers):\n",
    "        circuit.barrier()\n",
    "\n",
    "        # Hp\n",
    "        for q_idx, coef in enumerate(linear_coefs):\n",
    "            #circuit.rz(coef * gamma[p], q_idx)\n",
    "            circuit.rz(coef, q_idx)\n",
    "        for q_idxs, coef in quadra_coefs.items():\n",
    "            circuit.rzz(coef * gamma[p], q_idxs[0], q_idxs[1])\n",
    "\n",
    "        circuit.barrier()\n",
    "\n",
    "        # Hm\n",
    "        for q_idx in range(nqubits):\n",
    "            circuit.rx(beta[p] * 2, q_idx)\n",
    "\n",
    "    circuit.measure_all()\n",
    "    return circuit"
   ]
  },
  {
   "cell_type": "code",
   "execution_count": null,
   "id": "6a3b56f5-1ae4-465f-b827-7e16b37e7b73",
   "metadata": {
    "collapsed": false
   },
   "outputs": [],
   "source": [
    "def compute_expectation(counts):\n",
    "    media = 0\n",
    "    len_count = 0\n",
    "    for bits, count in counts.items():\n",
    "        cost = eval_cost_function(bits)\n",
    "        media += cost * count\n",
    "        len_count += count\n",
    "\n",
    "    return media/len_count"
   ]
  },
  {
   "cell_type": "code",
   "execution_count": null,
   "id": "7562c929-471c-4275-9eb6-13bd6c89abb3",
   "metadata": {
    "collapsed": false
   },
   "outputs": [],
   "source": [
    "# Simulador\n",
    "from qiskit import Aer\n",
    "from scipy.optimize import minimize\n",
    "\n",
    "backend = Aer.get_backend('aer_simulator')\n",
    "shots = 1024\n",
    "\n",
    "def execute_circuit(theta):\n",
    "    qc = generate_qaoa_circuit(theta)\n",
    "    counts = backend.run(qc, shots=shots).result().get_counts()\n",
    "    return compute_expectation(counts)\n",
    "\n",
    "p = 1\n",
    "theta_res = minimize(execute_circuit, [1.0, 1.0] * p, method=\"COBYLA\")\n",
    "theta_res"
   ]
  },
  {
   "cell_type": "code",
   "execution_count": null,
   "id": "84db5f66-cd6b-4687-a65f-933539473c50",
   "metadata": {
    "collapsed": false
   },
   "outputs": [],
   "source": [
    "from qiskit.visualization import plot_histogram\n",
    "\n",
    "backend = Aer.get_backend('aer_simulator')\n",
    "shots = 2048\n",
    "\n",
    "qc = generate_qaoa_circuit(theta_res.x)\n",
    "counts = backend.run(qc, shots=shots).result().get_counts()\n",
    "plot_histogram(counts, figsize=(94, 10))"
   ]
  },
  {
   "cell_type": "code",
   "execution_count": null,
   "id": "5ba1f84f-8799-4550-9fa6-fcbd692bef98",
   "metadata": {
    "collapsed": false
   },
   "outputs": [],
   "source": [
    "# Statistics\n",
    "statistics = {}\n",
    "for i in range(0, 1000):\n",
    "    p = 1\n",
    "    theta_res = minimize(execute_circuit, [1.0, 1.0] * p, method=\"COBYLA\")\n",
    "    qc = generate_qaoa_circuit(theta_res.x)\n",
    "    counts = backend.run(qc, shots=shots).result().get_counts()\n",
    "\n",
    "    path = max(counts, key=counts.get)\n",
    "    if path not in statistics:\n",
    "        statistics[path] = 0\n",
    "    statistics[path] += 1\n",
    "\n",
    "print(statistics)"
   ]
  },
  {
   "cell_type": "code",
   "execution_count": null,
   "id": "3e5f61e8-85d6-45f0-b984-66f7d2747996",
   "metadata": {
    "collapsed": false
   },
   "outputs": [],
   "source": [
    "# print(counts)\n",
    "# Res correcto: 01000 0 10001 Ver sentido\n",
    "# x_02: z_1\n",
    "# x_24: z_6\n",
    "# x_45: z_10"
   ]
  }
 ],
 "metadata": {
  "kernelspec": {
   "argv": [
    "python",
    "-m",
    "ipykernel_launcher",
    "-f",
    "{connection_file}"
   ],
   "display_name": "Python 3 (ipykernel)",
   "env": null,
   "interrupt_mode": "signal",
   "language": "python",
   "metadata": {
    "debugger": true
   },
   "name": "python3"
  },
  "name": "aer-qaoa2.ipynb"
 },
 "nbformat": 4,
 "nbformat_minor": 5
}
