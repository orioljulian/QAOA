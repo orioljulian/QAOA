{
 "cells": [
  {
   "cell_type": "code",
   "execution_count": null,
   "id": "379b129f-5dc9-4348-8056-798eb27f8588",
   "metadata": {
    "collapsed": false
   },
   "outputs": [],
   "source": [
    "# Función de coste binaria con valores {-1, 1}\n",
    "# g(z) = \"\\\n",
    "#     +11 * z_0 - 17.5 * z_1 - 28 * z_2 - 17 * z_3 + 11.5 * z_4 \\\n",
    "#     +13.5 * (-z_0*z_2 + z_1*z_2 + z_2*z_3 - z_2*z_4 + z_0*z_1 - z_0*z_3 - z_1*z_4) \\\n",
    "#     +(6.75*z_3**2 + 6.75*z_4**2 + 13.5*(z_0**2 + z_1**2 + z_2**28)) \\\n",
    "#     +26.5\"\n",
    "\n",
    "# Grafo\n",
    "edges = {(0, 1): 5, (0, 2): 8, (1, 2): 2, (1, 3): 7, (2, 3): 4}\n",
    "num_nodes = 4\n",
    "\n",
    "# Hp = 11*Z0 - 17.5*Z1 - 28*Z2 - 17*Z3 + 11.5*Z4 +\n",
    "#      13.5*(-Z0*Z2 + Z1*Z2 + Z2*Z3 - Z2*Z4 + Z0*Z1 - Z0*Z3 - Z1*Z4)\n",
    "\n",
    "# Coeficientes lineales de Hp (11 * Z0 - 17.5 * Z1...)\n",
    "linear_coefs = [11, -17.5, -28, -17, 11.5]\n",
    "\n",
    "# Coeficientes cuadráticos Ej: {(2, 3): 13.5} -> 13.5 * Z2 * Z3\n",
    "quadra_coefs = {(2, 4): -13.5, (2, 3): 13.5, (1, 4): -13.5, (1, 2): 13.5,\n",
    "                (0, 3): -13.5, (0, 2): -13.5, (0, 1): 13.5}"
   ]
  },
  {
   "cell_type": "code",
   "execution_count": null,
   "id": "a070cffa-e450-4cc3-9a16-d59f9a80e4ae",
   "metadata": {
    "collapsed": false
   },
   "outputs": [],
   "source": [
    "import networkx as nx\n",
    "import matplotlib.pyplot as plt\n",
    "\n",
    "# Imprime un grafo dirigido pesado\n",
    "# Entrada\n",
    "#     graph_nodes: Lista de nodos del grafo\n",
    "#     graph_edges: Diccionario {vértice: peso} donde vértice es (n1, n2)\n",
    "#     layout:      Para especificar la posición de los nodos\n",
    "def print_graph(graph_nodes, graph_edges, layout=None):\n",
    "    G = nx.DiGraph()\n",
    "\n",
    "    # Nodes\n",
    "    G.add_nodes_from(graph_nodes)\n",
    "\n",
    "    # Edges\n",
    "    for pair, weight in graph_edges.items():\n",
    "        G.add_edge(pair[0], pair[1], weight=weight)\n",
    "\n",
    "    # Print graph\n",
    "    if layout is None:\n",
    "        layout = nx.spring_layout(G)\n",
    "\n",
    "    plt.figure(3, figsize=(6, 2))\n",
    "    nx.draw(G, layout, with_labels=True, node_size=600)\n",
    "    edge_labels = nx.get_edge_attributes(G, \"weight\")\n",
    "    nx.draw_networkx_edge_labels(G, pos=layout, edge_labels=edge_labels)\n",
    "    #plt.savefig(\"../../latex/img/primer_grafo/primer_grafo.png\")\n",
    "\n",
    "# edges = {(0, 1): \"5(q_0)\", (0, 2): \"8(q_1)\", (1, 2): \"2(q_2)\", (1, 3): \"7(q_3)\", (2, 3): \"4(q_4)\"}\n",
    "print_graph(range(num_nodes), edges, layout={0: [-1, 0], 1: [0, 1],\n",
    "                                             2: [0, -1], 3: [1, 0]})"
   ]
  },
  {
   "cell_type": "code",
   "execution_count": null,
   "id": "73703bc9-5af2-495b-a01d-961f09c720e4",
   "metadata": {
    "collapsed": false
   },
   "outputs": [],
   "source": [
    "# Función de coste binaria con valores {0, 1}\n",
    "cost_function = \"\\\n",
    "5*x_01 + 8*x_02 + 2*x_12 + 7*x_13 + 4*x_23 + \\\n",
    "27*(x_01 + x_02 - 1)**2 + \\\n",
    "27*(x_01 - x_12 - x_13)**2 + \\\n",
    "27*(x_02 + x_12 - x_23)**2\"\n",
    "\n",
    "# Evalúa una solución concreta según la función de coste para la versión QUBO\n",
    "# Entrada:\n",
    "#     - bits: Cadena con los valores de los qubits medidos\n",
    "#             Orden: q_4 q_3 q_2 q_1 q_0\n",
    "def eval_cost_function(bits):\n",
    "    assert len(edges) == len(bits), \"Error in cost_function: Length of bits\"\n",
    "\n",
    "    inv_bits = bits[::-1]  # Los qubits están en orden inverso\n",
    "\n",
    "    param_dict = {}\n",
    "    # Asignación entre x_ij -> q_n\n",
    "    # Establecido por el orden de edges. Ej: x_12 -> q_2 (esto es, qubit nº2)\n",
    "    for n, (i, j) in enumerate(edges):\n",
    "        param_dict[f\"x_{i}{j}\"] = int(inv_bits[n])\n",
    "\n",
    "    return eval(cost_function, param_dict)"
   ]
  },
  {
   "cell_type": "code",
   "execution_count": null,
   "id": "e3146c72-42ac-4f75-9b9f-6c7ba50ff84d",
   "metadata": {
    "collapsed": false
   },
   "outputs": [],
   "source": [
    "from qiskit import QuantumCircuit\n",
    "\n",
    "def generate_qaoa_circuit(theta):\n",
    "    assert len(theta) % 2 == 0, \"Error in parameters (Beta, Gamma)\"\n",
    "\n",
    "    nqubits = len(edges)  # Tantos qubits como aristas tenga el grafo\n",
    "    circuit = QuantumCircuit(nqubits)\n",
    "\n",
    "    layers = int(len(theta) / 2)\n",
    "    beta = theta[:layers]\n",
    "    gamma = theta[layers:]\n",
    "\n",
    "    # |v0>\n",
    "    for i in range(nqubits):\n",
    "        circuit.h(i)\n",
    "\n",
    "    for p in range(layers):\n",
    "        circuit.barrier()\n",
    "\n",
    "        # Hp\n",
    "        for q_idx, coef in enumerate(linear_coefs):\n",
    "            circuit.rz(coef, q_idx)\n",
    "        for q_idxs, coef in quadra_coefs.items():\n",
    "            circuit.rzz(coef * gamma[p], q_idxs[0], q_idxs[1])\n",
    "\n",
    "        circuit.barrier()\n",
    "\n",
    "        # Hm\n",
    "        for q_idx in range(nqubits):\n",
    "            circuit.rx(beta[p] * 2, q_idx)\n",
    "\n",
    "    circuit.measure_all()\n",
    "    return circuit"
   ]
  },
  {
   "cell_type": "code",
   "execution_count": null,
   "id": "0a66ea4f-82b9-463f-a274-d07403cb3c7d",
   "metadata": {
    "collapsed": false
   },
   "outputs": [],
   "source": [
    "def compute_expectation(counts):\n",
    "    media = 0\n",
    "    len_count = 0\n",
    "    for bits, count in counts.items():\n",
    "        cost = eval_cost_function(bits)\n",
    "        media += cost * count\n",
    "        len_count += count\n",
    "\n",
    "    return media/len_count"
   ]
  },
  {
   "cell_type": "code",
   "execution_count": null,
   "id": "c570d417-5677-49b8-b115-e9cec2ef4b8b",
   "metadata": {
    "collapsed": false
   },
   "outputs": [],
   "source": [
    "# Simulador\n",
    "from qiskit import Aer\n",
    "from scipy.optimize import minimize\n",
    "\n",
    "backend = Aer.get_backend('aer_simulator')\n",
    "shots = 1024\n",
    "\n",
    "def execute_circuit(theta):\n",
    "    qc = generate_qaoa_circuit(theta)\n",
    "    counts = backend.run(qc, shots=shots).result().get_counts()\n",
    "    return compute_expectation(counts)\n",
    "\n",
    "num_layers = 1\n",
    "theta_res = minimize(execute_circuit, [1.0, 1.0] * num_layers, method = \"COBYLA\")\n",
    "theta_res"
   ]
  },
  {
   "cell_type": "code",
   "execution_count": null,
   "id": "aac69b25-8f4f-47e2-b7f8-c17ac817517f",
   "metadata": {
    "collapsed": false
   },
   "outputs": [],
   "source": [
    "from qiskit.visualization import plot_histogram\n",
    "backend = Aer.get_backend('aer_simulator')\n",
    "shots = 1024\n",
    "\n",
    "qc = generate_qaoa_circuit(theta_res.x)\n",
    "counts = backend.run(qc, shots=shots).result().get_counts()\n",
    "#plot_histogram(normalized_counts, figsize=(13, 6.83),\n",
    "#               filename=\"../../latex/resultados/img/primer_grafo/sin_restriccion_extra/primer_paper_aer_resultado.png\")\n",
    "normalized_counts = {key: val / shots for (key, val) in counts.items()}\n",
    "plot_histogram(normalized_counts, figsize=(13, 6.83))"
   ]
  },
  {
   "cell_type": "code",
   "execution_count": null,
   "id": "19e68d8e-48b2-41e3-b491-cdee9ef5d341",
   "metadata": {
    "collapsed": false
   },
   "outputs": [],
   "source": [
    "# Gamma function\n",
    "import numpy as np\n",
    "import matplotlib.pyplot as plt\n",
    "\n",
    "def gamma_function():\n",
    "    x = np.linspace(0.3, 1.5, 120)\n",
    "    y = []\n",
    "    beta = 1.0\n",
    "    for gamma in x:\n",
    "        y.append(execute_circuit([beta, gamma]))\n",
    "\n",
    "    plt.plot(x, y)\n",
    "    # plt.savefig(\"../../latex/resultados/img/primer_grafo/sin_restriccion_extra/primer_paper_p_27_gamma_fun.png\")\n",
    "    plt.show()\n",
    "\n",
    "gamma_function()"
   ]
  },
  {
   "cell_type": "code",
   "execution_count": null,
   "id": "c8dcbd26-d0ed-4739-8b36-b5a961258746",
   "metadata": {
    "collapsed": false
   },
   "outputs": [],
   "source": [
    "# 3D Gamma function\n",
    "import numpy as np\n",
    "import matplotlib.pyplot as plt\n",
    "from matplotlib import cm\n",
    "import itertools\n",
    "\n",
    "def gamma_function_3d():\n",
    "    beta = np.arange(0.3, 1.5, 0.01)\n",
    "    gamma = np.arange(0.3, 1.5, 0.01)\n",
    "    beta, gamma = np.meshgrid(beta, gamma)\n",
    "    z = np.zeros([len(beta), len(beta)])\n",
    "\n",
    "    for i in range(len(beta)):\n",
    "        for j in range(len(beta)):\n",
    "            z[i][j] = execute_circuit([beta[i][j], gamma[i][j]])\n",
    "\n",
    "    fig = plt.figure()\n",
    "    axis = plt.axes(projection='3d')\n",
    "    figure = axis.plot_surface(gamma, beta, z, cmap=cm.coolwarm, linewidth=0, antialiased=False)\n",
    "    fig.colorbar(figure, shrink=0.5, aspect=5)\n",
    "    # plt.savefig(\"../../latex/resultados/img/primer_grafo/sin_restriccion_extra/primer_paper_p_27_gamma_fun.png\")\n",
    "    plt.show()\n",
    "\n",
    "gamma_function_3d()"
   ]
  },
  {
   "cell_type": "code",
   "execution_count": null,
   "id": "f75a9bf8-dbed-47f1-b10f-06701a685de3",
   "metadata": {
    "collapsed": false
   },
   "outputs": [],
   "source": [
    "# Statistics\n",
    "def max_global_statistics(num_layers=1, num_generations=1000):\n",
    "    max_statistics = {}\n",
    "    global_statistics = {}\n",
    "    for iteration in range(0, num_generations):\n",
    "        theta_res = minimize(execute_circuit, [1.0, 1.0] * num_layers, method = \"COBYLA\")\n",
    "        qc = generate_qaoa_circuit(theta_res.x)\n",
    "        counts = backend.run(qc, shots=shots).result().get_counts()\n",
    "\n",
    "        # Max statistics\n",
    "        max_path = max(counts, key=counts.get)\n",
    "        if max_path not in max_statistics:\n",
    "            max_statistics[max_path] = 0\n",
    "        max_statistics[max_path] += 1\n",
    "\n",
    "        # Global statistics\n",
    "        for (path, num_appearances) in counts.items():\n",
    "            if path not in global_statistics:\n",
    "                global_statistics[path] = 0\n",
    "            global_statistics[path] += num_appearances\n",
    "\n",
    "    for path in global_statistics:\n",
    "        global_statistics[path] = global_statistics[path] / shots / num_generations  # Normalize\n",
    "\n",
    "    for path in max_statistics:\n",
    "        max_statistics[path] = max_statistics[path] / num_generations  # Normalize\n",
    "\n",
    "    max_statistics = sorted(max_statistics.items(), key=lambda x: x[1], reverse=True)\n",
    "    global_statistics = sorted(global_statistics.items(), key=lambda x: x[1], reverse=True)\n",
    "    return max_statistics, global_statistics\n",
    "\n",
    "max_num_layers = 3\n",
    "for p in range(1, max_num_layers + 1):\n",
    "    max_st, global_st = max_global_statistics(num_layers=p, num_generations=1000)\n",
    "    print(f\"Max statistics ({p}): \", max_st)\n",
    "    print(f\"Global statistics({p}): \", global_st)"
   ]
  },
  {
   "cell_type": "code",
   "execution_count": null,
   "id": "e2a2a98d-d388-42dd-b7c6-24908dd69031",
   "metadata": {
    "collapsed": false
   },
   "outputs": [],
   "source": [
    "# Circuito con Rzz ordenadas como el paper\n",
    "# Max statistics (1):  [('10101', 0.908), ('10110', 0.092)]\n",
    "# Global statistics(1):  [('10101', 0.390283203125), ('10001', 0.1988779296875), ('00101', 0.0467822265625), ('10110', 0.0446611328125), ('11001', 0.0326279296875), ('00001', 0.0319658203125), ('10010', 0.0307470703125), ('11101', 0.030072265625), ('10100', 0.02943359375), ('10111', 0.0289248046875), ('10000', 0.026359375), ('10011', 0.0230107421875), ('00111', 0.0127265625), ('00011', 0.009048828125), ('00000', 0.0066376953125), ('01001', 0.0064013671875), ('00010', 0.0059541015625), ('11011', 0.0058623046875), ('00100', 0.00495703125), ('00110', 0.0047392578125), ('11100', 0.004658203125), ('11000', 0.0044775390625), ('11111', 0.0042626953125), ('01101', 0.0040849609375), ('11010', 0.00405859375), ('01011', 0.0024521484375), ('01111', 0.001556640625), ('01000', 0.001302734375), ('11110', 0.0011279296875), ('01100', 0.000908203125), ('01010', 0.000693359375), ('01110', 0.00034375)]\n",
    "# Max statistics (2):  [('10101', 0.667), ('10010', 0.079), ('10110', 0.052), ('10001', 0.047), ('11010', 0.041), ('11011', 0.03), ('11001', 0.028), ('01001', 0.021), ('11101', 0.009), ('10011', 0.006), ('00101', 0.005), ('00001', 0.003), ('01101', 0.003), ('11000', 0.003), ('10000', 0.002), ('00000', 0.001), ('01010', 0.001), ('00010', 0.001), ('10100', 0.001)]\n",
    "# Global statistics(2):  [('10101', 0.2393779296875), ('11101', 0.07155859375), ('10010', 0.064576171875), ('10110', 0.0462412109375), ('10111', 0.0459267578125), ('10001', 0.042607421875), ('11001', 0.0419658203125), ('10100', 0.0416884765625), ('00101', 0.0412744140625), ('11011', 0.0362119140625), ('10000', 0.0356962890625), ('10011', 0.0343154296875), ('00001', 0.0297119140625), ('01001', 0.029453125), ('01101', 0.0267236328125), ('11010', 0.025740234375), ('00000', 0.0246826171875), ('11000', 0.0160556640625), ('11111', 0.0132734375), ('00010', 0.0105048828125), ('00100', 0.0100625), ('00011', 0.009771484375), ('11110', 0.008208984375), ('01000', 0.0080322265625), ('11100', 0.00757421875), ('01010', 0.007462890625), ('00110', 0.006279296875), ('00111', 0.0060634765625), ('01011', 0.0060087890625), ('01111', 0.0045126953125), ('01110', 0.0045078125), ('01100', 0.0039296875)]\n",
    "# Max statistics (3):  [('10101', 0.595), ('10001', 0.103), ('10010', 0.079), ('01001', 0.065), ('00000', 0.048), ('11011', 0.024), ('11101', 0.023), ('01101', 0.014), ('10100', 0.01), ('00001', 0.007), ('00101', 0.006), ('10110', 0.005), ('11010', 0.004), ('11001', 0.004), ('00010', 0.003), ('10000', 0.002), ('10011', 0.002), ('10111', 0.002), ('01011', 0.002), ('01010', 0.001), ('11000', 0.001)]\n",
    "# Global statistics(3):  [('10101', 0.1958486328125), ('10001', 0.0810615234375), ('00000', 0.057326171875), ('11011', 0.0501123046875), ('10010', 0.0478271484375), ('00101', 0.0410537109375), ('11101', 0.039595703125), ('01010', 0.03657421875), ('10111', 0.034267578125), ('00001', 0.032943359375), ('01001', 0.0327353515625), ('10100', 0.0320908203125), ('01101', 0.0308662109375), ('00010', 0.027072265625), ('11010', 0.0254892578125), ('10110', 0.02493359375), ('11001', 0.0238369140625), ('01011', 0.022009765625), ('00111', 0.02046875), ('11000', 0.019390625), ('11111', 0.01890234375), ('01000', 0.015828125), ('10011', 0.0150244140625), ('00100', 0.0133515625), ('10000', 0.0119736328125), ('11100', 0.010228515625), ('00011', 0.0084619140625), ('01111', 0.007455078125), ('01110', 0.0064775390625), ('00110', 0.006458984375), ('11110', 0.00578125), ('01100', 0.004552734375)]"
   ]
  },
  {
   "cell_type": "code",
   "execution_count": null,
   "id": "c13d92f4-5931-4e36-b856-7712539bf298",
   "metadata": {
    "collapsed": false
   },
   "outputs": [],
   "source": [
    "!dunstify -t $((30* 1000*60)) --urgency=critical \"Ejecución completada\""
   ]
  }
 ],
 "metadata": {
  "kernelspec": {
   "argv": [
    "python",
    "-m",
    "ipykernel_launcher",
    "-f",
    "{connection_file}"
   ],
   "display_name": "Python 3 (ipykernel)",
   "env": null,
   "interrupt_mode": "signal",
   "language": "python",
   "metadata": {
    "debugger": true
   },
   "name": "python3"
  },
  "language_info": {
   "codemirror_mode": {
    "name": "ipython",
    "version": 3
   },
   "file_extension": ".py",
   "mimetype": "text/x-python",
   "name": "python",
   "nbconvert_exporter": "python",
   "pygments_lexer": "ipython3",
   "version": "3.8.16"
  },
  "name": "aer-qaoa.ipynb"
 },
 "nbformat": 4,
 "nbformat_minor": 5
}
