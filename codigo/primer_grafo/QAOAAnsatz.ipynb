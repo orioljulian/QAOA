{
 "cells": [
  {
   "cell_type": "code",
   "execution_count": null,
   "id": "07fcfbe3-ac16-40d2-a6aa-522b33438d01",
   "metadata": {
    "collapsed": false
   },
   "outputs": [],
   "source": [
    "# TODO: Ver 05_qaoa_qiskit_tutorial.ipynb para hacer con qiskit.algorithms.QAOA\n",
    "\n",
    "from qiskit.circuit.library import QAOAAnsatz\n",
    "from qiskit.quantum_info import SparsePauliOp\n",
    "from qiskit.visualization import plot_distribution\n",
    "from qiskit.primitives import Estimator, Sampler  # Local simulator\n",
    "\n",
    "from scipy.optimize import minimize\n",
    "\n",
    "from typing import Callable, Dict, List, Tuple"
   ]
  },
  {
   "cell_type": "code",
   "execution_count": null,
   "id": "660e44f3-b57b-4cd5-80b1-d726a998e5d1",
   "metadata": {
    "collapsed": false
   },
   "outputs": [],
   "source": [
    "# Primer grafo\n",
    "# P = 27\n",
    "GRAPH_NAME = \"Primer grafo\"\n",
    "\n",
    "NUM_NODES = 4\n",
    "EDGES = {(0, 1): 5, (0, 2): 8, (1, 2): 2, (1, 3): 7, (2, 3): 4}\n",
    "NQUBITS = len(EDGES)\n",
    "\n",
    "# Hp = 11*Z0 - 17.5*Z1 - 28*Z2 - 17*Z3 + 11.5*Z4 +\n",
    "#      13.5*(-Z0*Z2 + Z1*Z2 + Z2*Z3 - Z2*Z4 + Z0*Z1 - Z0*Z3 - Z1*Z4)\n",
    "\n",
    "# Coeficientes lineales de Hp (11 * Z0 - 17.5 * Z1...)\n",
    "LINEAR_COEFS = [11, -17.5, -28, -17, 11.5]\n",
    "\n",
    "# Coeficientes cuadráticos Ej: {(2, 3): 13.5} -> 13.5 * Z2 * Z3\n",
    "QUADRA_COEFS = {(0, 1): 13.5, (0, 2): -13.5, (0, 3): -13.5, (1, 2): 13.5,\n",
    "                (1, 4): -13.5, (2, 3): 13.5, (2, 4): -13.5}\n",
    "\n",
    "PRINT_GRAPH_LAYOUT = {0: [-1, 0], 1: [0, 1], 2: [0, -1], 3: [1, 0]}"
   ]
  },
  {
   "cell_type": "code",
   "execution_count": null,
   "id": "fefa5c96-1638-4da1-90ec-ebc4ddb8263e",
   "metadata": {
    "collapsed": false
   },
   "outputs": [],
   "source": [
    "import networkx as nx\n",
    "import matplotlib.pyplot as plt\n",
    "\n",
    "# Imprime un grafo dirigido pesado\n",
    "# Entrada:\n",
    "#   - graph_nodes: Lista de nodos del grafo\n",
    "#   - graph_edges: Diccionario {edge: weight} donde edge es (n1, n2)\n",
    "#   - layout: Para especificar la posición de los nodos\n",
    "def print_graph(graph_nodes: List[int],\n",
    "                graph_edges: Dict[Tuple[int, int], int],\n",
    "                title=\"\", layout: Dict[int, List[int]]=None):\n",
    "    G = nx.DiGraph()\n",
    "\n",
    "    # Nodes\n",
    "    G.add_nodes_from(graph_nodes)\n",
    "\n",
    "    # Edges\n",
    "    for pair, weight in graph_edges.items():\n",
    "        G.add_edge(pair[0], pair[1], weight=weight)\n",
    "\n",
    "    # Print graph\n",
    "    if layout is None:\n",
    "        layout = nx.spring_layout(G)\n",
    "\n",
    "    plt.figure(3, figsize=(6, 3))\n",
    "    plt.title(title)\n",
    "    nx.draw(G, layout, with_labels=True, node_size=600)\n",
    "    edge_labels = nx.get_edge_attributes(G, \"weight\")\n",
    "    nx.draw_networkx_edge_labels(G, pos=layout, edge_labels=edge_labels)\n",
    "    #plt.savefig(\"../../latex/img/primer_grafo/primer_grafo.png\")\n",
    "\n",
    "\n",
    "print_graph(range(NUM_NODES), EDGES, title=GRAPH_NAME, layout=PRINT_GRAPH_LAYOUT)"
   ]
  },
  {
   "cell_type": "code",
   "execution_count": null,
   "id": "97624baf-e213-4c7f-9335-f2d4f1078b5a",
   "metadata": {
    "collapsed": false
   },
   "outputs": [],
   "source": [
    "# Create list for SparsePauliOp\n",
    "hamiltonian_list = []\n",
    "for coef, qubit_idx in zip(LINEAR_COEFS, range(len(LINEAR_COEFS))):\n",
    "    gates = [\"I\"] * NQUBITS\n",
    "    gates[(NQUBITS - qubit_idx - 1)] = \"Z\"\n",
    "    hamiltonian_list.append((\"\".join(gates), coef))\n",
    "\n",
    "for qubit_idxs in QUADRA_COEFS:\n",
    "    coef = QUADRA_COEFS[qubit_idxs]\n",
    "    gates = [\"I\"] * NQUBITS\n",
    "    gates[(NQUBITS - qubit_idxs[0] - 1)] = \"Z\"\n",
    "    gates[(NQUBITS - qubit_idxs[1] - 1)] = \"Z\"\n",
    "    hamiltonian_list.append((\"\".join(gates), coef))\n",
    "\n",
    "hamiltonian_list"
   ]
  },
  {
   "cell_type": "code",
   "execution_count": null,
   "id": "0349c468-43a1-4b38-b9fa-fb81bd84570a",
   "metadata": {
    "collapsed": false
   },
   "outputs": [],
   "source": [
    "hamiltonian = SparsePauliOp.from_list(hamiltonian_list)\n",
    "num_layers = 1\n",
    "ansatz = QAOAAnsatz(hamiltonian, reps=num_layers)\n",
    "ansatz.decompose(reps=3).draw(output=\"mpl\")"
   ]
  },
  {
   "cell_type": "code",
   "execution_count": null,
   "id": "2e5a80a1-4a8d-4325-80bd-33cbdd329996",
   "metadata": {
    "collapsed": false
   },
   "outputs": [],
   "source": [
    "def cost_func(params, ansatz, hamiltonian, estimator):\n",
    "    cost = estimator.run(ansatz, hamiltonian, parameter_values=params).result().values[0]\n",
    "    return cost"
   ]
  },
  {
   "cell_type": "code",
   "execution_count": null,
   "id": "0675c6a0-71b4-4d5a-866f-095a857e3a2d",
   "metadata": {
    "collapsed": false
   },
   "outputs": [],
   "source": [
    "estimator = Estimator(options={\"shots\": int(1000)})\n",
    "sampler = Sampler(options={\"shots\": int(1000)})"
   ]
  },
  {
   "cell_type": "code",
   "execution_count": null,
   "id": "7a458738-a29a-4ca2-8db8-962335e2e925",
   "metadata": {
    "collapsed": false
   },
   "outputs": [],
   "source": [
    "x0 = [1.0, 1.0] * num_layers\n",
    "res = minimize(cost_func, x0, args=(ansatz, hamiltonian, estimator), method=\"COBYLA\")\n",
    "res"
   ]
  },
  {
   "cell_type": "code",
   "execution_count": null,
   "id": "2aa5c6bf-1ab4-437b-af51-a2f17254a5fd",
   "metadata": {
    "collapsed": false
   },
   "outputs": [],
   "source": [
    "qc = ansatz.assign_parameters(res.x)\n",
    "qc.measure_all()\n",
    "samp_dist = sampler.run(qc).result().quasi_dists[0]"
   ]
  },
  {
   "cell_type": "code",
   "execution_count": null,
   "id": "cf4f3873-4194-4b97-b68e-d5512694448f",
   "metadata": {
    "collapsed": false
   },
   "outputs": [],
   "source": [
    "plot_distribution(samp_dist.binary_probabilities())"
   ]
  },
  {
   "cell_type": "code",
   "execution_count": null,
   "id": "0233c4c7-a1f4-4497-8d7d-c5e1187adb05",
   "metadata": {
    "collapsed": false
   },
   "outputs": [],
   "source": [
    "# Statistics\n",
    "def max_global_statistics(num_layers=1,\n",
    "                          num_generations=100) -> Tuple[Dict[str, float],\n",
    "                                                        Dict[str, float]]:\n",
    "    max_statistics = {}\n",
    "    global_statistics = {}\n",
    "    ansatz = QAOAAnsatz(hamiltonian, reps=num_layers)\n",
    "    x0 = [1.0, 1.0] * num_layers\n",
    "    for iteration in range(0, num_generations):\n",
    "        theta_res = minimize(cost_func, x0, args=(ansatz, hamiltonian, estimator), method=\"COBYLA\")\n",
    "        qc = ansatz.assign_parameters(theta_res.x)\n",
    "        qc.measure_all()\n",
    "        counts = sampler.run(qc).result().quasi_dists[0].binary_probabilities()\n",
    "\n",
    "        # Max statistics\n",
    "        max_path = max(counts, key=counts.get)\n",
    "        if max_path not in max_statistics:\n",
    "            max_statistics[max_path] = 0\n",
    "        max_statistics[max_path] += 1\n",
    "\n",
    "        # Global statistics\n",
    "        for (path, num_appearances) in counts.items():\n",
    "            if path not in global_statistics:\n",
    "                global_statistics[path] = 0\n",
    "            global_statistics[path] += num_appearances\n",
    "\n",
    "    for path in global_statistics:\n",
    "        global_statistics[path] = global_statistics[path] / num_generations  # Normalize\n",
    "\n",
    "    for path in max_statistics:\n",
    "        max_statistics[path] = max_statistics[path] / num_generations  # Normalize\n",
    "\n",
    "    max_statistics = sorted(max_statistics.items(), key=lambda x: x[1], reverse=True)\n",
    "    global_statistics = sorted(global_statistics.items(), key=lambda x: x[1], reverse=True)\n",
    "    return max_statistics, global_statistics\n",
    "\n",
    "print(GRAPH_NAME + \":\\n\")\n",
    "interval_num_layers = (1, 5)\n",
    "for p in range(interval_num_layers[0], interval_num_layers[1] + 1):\n",
    "    max_st, global_st = max_global_statistics(num_layers=p, num_generations=100)\n",
    "    print(f\"Max statistics (p = {p}): \", str(max_st))\n",
    "    print(f\"Global statistics (p = {p}): \", str(global_st))\n",
    "    print()"
   ]
  },
  {
   "cell_type": "code",
   "execution_count": null,
   "id": "6809f1ba-cf11-44c4-9ddf-507b82ae7ffe",
   "metadata": {
    "collapsed": false
   },
   "outputs": [],
   "source": [
    "!dunstify -t $((12 * 60*60*1000)) --urgency=critical \"Ejecución completada\""
   ]
  }
 ],
 "metadata": {
  "kernelspec": {
   "argv": [
    "python",
    "-m",
    "ipykernel_launcher",
    "-f",
    "{connection_file}"
   ],
   "display_name": "Python 3 (ipykernel)",
   "env": null,
   "interrupt_mode": "signal",
   "language": "python",
   "metadata": {
    "debugger": true
   },
   "name": "python3"
  },
  "name": "QAOAAnsatz.ipynb"
 },
 "nbformat": 4,
 "nbformat_minor": 5
}
