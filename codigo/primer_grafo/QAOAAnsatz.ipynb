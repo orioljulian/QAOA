{
 "cells": [
  {
   "cell_type": "code",
   "execution_count": null,
   "id": "07fcfbe3-ac16-40d2-a6aa-522b33438d01",
   "metadata": {
    "collapsed": false
   },
   "outputs": [],
   "source": [
    "# TODO: Ver 05_qaoa_qiskit_tutorial.ipynb para hacer con qiskit.algorithms.QAOA\n",
    "\n",
    "from qiskit.circuit.library import QAOAAnsatz\n",
    "from qiskit.quantum_info import SparsePauliOp\n",
    "from qiskit.visualization import plot_distribution\n",
    "from qiskit.primitives import Estimator, Sampler\n",
    "\n",
    "from scipy.optimize import minimize\n",
    "\n",
    "from typing import Callable, Dict, List, Tuple"
   ]
  },
  {
   "cell_type": "code",
   "execution_count": null,
   "id": "660e44f3-b57b-4cd5-80b1-d726a998e5d1",
   "metadata": {
    "collapsed": false
   },
   "outputs": [],
   "source": [
    "# Primer grafo\n",
    "# P = 27\n",
    "GRAPH_NAME = \"Primer grafo\"\n",
    "\n",
    "NUM_NODES = 4\n",
    "EDGES = {(0, 1): 5, (0, 2): 8, (1, 2): 2, (1, 3): 7, (2, 3): 4}\n",
    "NQUBITS = len(EDGES)\n",
    "\n",
    "# Hp = 11*Z0 - 17.5*Z1 - 28*Z2 - 17*Z3 + 11.5*Z4 +\n",
    "#      13.5*(-Z0*Z2 + Z1*Z2 + Z2*Z3 - Z2*Z4 + Z0*Z1 - Z0*Z3 - Z1*Z4)\n",
    "\n",
    "# Coeficientes lineales de Hp (11 * Z0 - 17.5 * Z1...)\n",
    "LINEAR_COEFS = [11, -17.5, -28, -17, 11.5]\n",
    "\n",
    "# Coeficientes cuadráticos Ej: {(2, 3): 13.5} -> 13.5 * Z2 * Z3\n",
    "QUADRA_COEFS = {(0, 1): 13.5, (0, 2): -13.5, (0, 3): -13.5, (1, 2): 13.5,\n",
    "                (1, 4): -13.5, (2, 3): 13.5, (2, 4): -13.5}\n",
    "\n",
    "PRINT_GRAPH_LAYOUT = {0: [-1, 0], 1: [0, 1], 2: [0, -1], 3: [1, 0]}"
   ]
  },
  {
   "cell_type": "code",
   "execution_count": null,
   "id": "fefa5c96-1638-4da1-90ec-ebc4ddb8263e",
   "metadata": {
    "collapsed": false
   },
   "outputs": [],
   "source": [
    "import networkx as nx\n",
    "import matplotlib.pyplot as plt\n",
    "\n",
    "# Imprime un grafo dirigido pesado\n",
    "# Entrada:\n",
    "#   - graph_nodes: Lista de nodos del grafo\n",
    "#   - graph_edges: Diccionario {edge: weight} donde edge es (n1, n2)\n",
    "#   - layout: Para especificar la posición de los nodos\n",
    "def print_graph(graph_nodes: List[int],\n",
    "                graph_edges: Dict[Tuple[int, int], int],\n",
    "                title=\"\", layout: Dict[int, List[int]]=None):\n",
    "    G = nx.DiGraph()\n",
    "\n",
    "    # Nodes\n",
    "    G.add_nodes_from(graph_nodes)\n",
    "\n",
    "    # Edges\n",
    "    for pair, weight in graph_edges.items():\n",
    "        G.add_edge(pair[0], pair[1], weight=weight)\n",
    "\n",
    "    # Print graph\n",
    "    if layout is None:\n",
    "        layout = nx.spring_layout(G)\n",
    "\n",
    "    plt.figure(3, figsize=(6, 3))\n",
    "    plt.title(title)\n",
    "    nx.draw(G, layout, with_labels=True, node_size=600)\n",
    "    edge_labels = nx.get_edge_attributes(G, \"weight\")\n",
    "    nx.draw_networkx_edge_labels(G, pos=layout, edge_labels=edge_labels)\n",
    "    #plt.savefig(\"../../latex/img/primer_grafo/primer_grafo.png\")\n",
    "\n",
    "\n",
    "print_graph(range(NUM_NODES), EDGES, title=GRAPH_NAME, layout=PRINT_GRAPH_LAYOUT)"
   ]
  },
  {
   "cell_type": "code",
   "execution_count": null,
   "id": "97624baf-e213-4c7f-9335-f2d4f1078b5a",
   "metadata": {
    "collapsed": false
   },
   "outputs": [],
   "source": [
    "# Create list for SparsePauliOp\n",
    "hamiltonian_list = []\n",
    "for coef, qubit_idx in zip(LINEAR_COEFS, range(len(LINEAR_COEFS))):\n",
    "    gates = [\"I\"] * NQUBITS\n",
    "    gates[(NQUBITS - qubit_idx - 1)] = \"Z\"\n",
    "    hamiltonian_list.append((\"\".join(gates), coef))\n",
    "\n",
    "for qubit_idxs in QUADRA_COEFS:\n",
    "    coef = QUADRA_COEFS[qubit_idxs]\n",
    "    gates = [\"I\"] * NQUBITS\n",
    "    gates[(NQUBITS - qubit_idxs[0] - 1)] = \"Z\"\n",
    "    gates[(NQUBITS - qubit_idxs[1] - 1)] = \"Z\"\n",
    "    hamiltonian_list.append((\"\".join(gates), coef))\n",
    "\n",
    "hamiltonian_list"
   ]
  },
  {
   "cell_type": "code",
   "execution_count": null,
   "id": "0349c468-43a1-4b38-b9fa-fb81bd84570a",
   "metadata": {
    "collapsed": false
   },
   "outputs": [],
   "source": [
    "hamiltonian = SparsePauliOp.from_list(hamiltonian_list)\n",
    "num_layers = 1\n",
    "ansatz = QAOAAnsatz(hamiltonian, reps=num_layers)\n",
    "ansatz.decompose(reps=3).draw(output=\"mpl\")"
   ]
  },
  {
   "cell_type": "code",
   "execution_count": null,
   "id": "2e5a80a1-4a8d-4325-80bd-33cbdd329996",
   "metadata": {
    "collapsed": false
   },
   "outputs": [],
   "source": [
    "def cost_func(params, ansatz, hamiltonian, estimator):\n",
    "    cost = estimator.run(ansatz, hamiltonian, parameter_values=params).result().values[0]\n",
    "    return cost"
   ]
  },
  {
   "cell_type": "code",
   "execution_count": null,
   "id": "0675c6a0-71b4-4d5a-866f-095a857e3a2d",
   "metadata": {
    "collapsed": false
   },
   "outputs": [],
   "source": [
    "estimator = Estimator(options={\"shots\": int(1000)})\n",
    "sampler = Sampler(options={\"shots\": int(1000)})"
   ]
  },
  {
   "cell_type": "code",
   "execution_count": null,
   "id": "7a458738-a29a-4ca2-8db8-962335e2e925",
   "metadata": {
    "collapsed": false
   },
   "outputs": [],
   "source": [
    "x0 = [1.0, 1.0] * num_layers\n",
    "res = minimize(cost_func, x0, args=(ansatz, hamiltonian, estimator), method=\"COBYLA\")\n",
    "res"
   ]
  },
  {
   "cell_type": "code",
   "execution_count": null,
   "id": "2aa5c6bf-1ab4-437b-af51-a2f17254a5fd",
   "metadata": {
    "collapsed": false
   },
   "outputs": [],
   "source": [
    "qc = ansatz.assign_parameters(res.x)\n",
    "qc.measure_all()\n",
    "samp_dist = sampler.run(qc).result().quasi_dists[0]"
   ]
  },
  {
   "cell_type": "code",
   "execution_count": null,
   "id": "cf4f3873-4194-4b97-b68e-d5512694448f",
   "metadata": {
    "collapsed": false
   },
   "outputs": [],
   "source": [
    "plot_distribution(samp_dist.binary_probabilities())"
   ]
  },
  {
   "cell_type": "code",
   "execution_count": null,
   "id": "0233c4c7-a1f4-4497-8d7d-c5e1187adb05",
   "metadata": {
    "collapsed": false
   },
   "outputs": [],
   "source": [
    "# Statistics\n",
    "def max_global_statistics(num_layers=1,\n",
    "                          num_generations=100) -> Tuple[Dict[str, float],\n",
    "                                                        Dict[str, float]]:\n",
    "    max_statistics = {}\n",
    "    global_statistics = {}\n",
    "    ansatz = QAOAAnsatz(hamiltonian, reps=num_layers)\n",
    "    x0 = [1.0, 1.0] * num_layers\n",
    "    for iteration in range(0, num_generations):\n",
    "        theta_res = minimize(cost_func, x0, args=(ansatz, hamiltonian, estimator), method=\"COBYLA\")\n",
    "        qc = ansatz.assign_parameters(theta_res.x)\n",
    "        qc.measure_all()\n",
    "        counts = sampler.run(qc).result().quasi_dists[0].binary_probabilities()\n",
    "\n",
    "        # Max statistics\n",
    "        max_path = max(counts, key=counts.get)\n",
    "        if max_path not in max_statistics:\n",
    "            max_statistics[max_path] = 0\n",
    "        max_statistics[max_path] += 1\n",
    "\n",
    "        # Global statistics\n",
    "        for (path, num_appearances) in counts.items():\n",
    "            if path not in global_statistics:\n",
    "                global_statistics[path] = 0\n",
    "            global_statistics[path] += num_appearances\n",
    "\n",
    "    for path in global_statistics:\n",
    "        global_statistics[path] = global_statistics[path] / num_generations  # Normalize\n",
    "\n",
    "    for path in max_statistics:\n",
    "        max_statistics[path] = max_statistics[path] / num_generations  # Normalize\n",
    "\n",
    "    max_statistics = sorted(max_statistics.items(), key=lambda x: x[1], reverse=True)\n",
    "    global_statistics = sorted(global_statistics.items(), key=lambda x: x[1], reverse=True)\n",
    "    return max_statistics, global_statistics\n",
    "\n",
    "print(GRAPH_NAME + \":\\n\")\n",
    "interval_num_layers = (1, 5)\n",
    "for p in range(interval_num_layers[0], interval_num_layers[1] + 1):\n",
    "    max_st, global_st = max_global_statistics(num_layers=p, num_generations=100)\n",
    "    print(f\"Max statistics (p = {p}): \", str(max_st))\n",
    "    print(f\"Global statistics (p = {p}): \", str(global_st))\n",
    "    print()"
   ]
  },
  {
   "cell_type": "code",
   "execution_count": null,
   "id": "54479fc1-13a9-4ccb-a258-4d6e504c7d3f",
   "metadata": {
    "collapsed": false
   },
   "outputs": [],
   "source": [
    "Primer grafo:\n",
    "\n",
    "Max statistics (p = 1):  [('10101', 0.01)]\n",
    "Global statistics (p = 1):  [('10101', 0.02138999999999997)]\n",
    "\n",
    "Max statistics (p = 2):  [('10101', 0.06)]\n",
    "Global statistics (p = 2):  [('10101', 0.04259999999999997)]\n",
    "\n",
    "Max statistics (p = 3):  [('10101', 0.52)]\n",
    "Global statistics (p = 3):  [('10101', 0.12084999999999996)]\n",
    "\n",
    "Max statistics (p = 4):  [('10101', 0.05281999999999999)]\n",
    "\n",
    "Max statistics (p = 5):  [('10101', 0.07)]\n",
    "Global statistics (p = 5):  [('10101', 0.06544999999999998)]"
   ]
  },
  {
   "cell_type": "code",
   "execution_count": null,
   "id": "86443250-0e8c-47fe-855b-39dd3871d339",
   "metadata": {
    "collapsed": false
   },
   "outputs": [],
   "source": [
    "Primer grafo:\n",
    "\n",
    "Max statistics (p = 1):  [('00000', 0.78), ('00010', 0.07), ('10001', 0.05), ('01001', 0.04), ('10010', 0.02), ('10000', 0.02), ('10101', 0.01), ('01000', 0.01)]\n",
    "Global statistics (p = 1):  [('00000', 0.27853), ('00010', 0.15205), ('00001', 0.12320000000000003), ('00011', 0.08400999999999997), ('01000', 0.049309999999999944), ('00100', 0.034869999999999984), ('10001', 0.034429999999999975), ('10000', 0.03420999999999997), ('00110', 0.032129999999999985), ('10101', 0.02138999999999997), ('01001', 0.021109999999999983), ('10010', 0.020249999999999987), ('00101', 0.01761999999999999), ('01010', 0.014249999999999994), ('00111', 0.012679999999999995), ('11000', 0.01146), ('01011', 0.006730000000000003), ('01100', 0.006630000000000004), ('01101', 0.005440000000000001), ('10100', 0.0052600000000000025), ('10011', 0.004920000000000003), ('11001', 0.004760000000000001), ('01110', 0.004500000000000003), ('11101', 0.00394), ('11010', 0.0033900000000000007), ('10111', 0.0033500000000000005), ('10110', 0.0030200000000000014), ('01111', 0.0021200000000000012), ('11100', 0.0019500000000000003), ('11011', 0.0012700000000000003), ('11111', 0.00072), ('11110', 0.0005000000000000001)]\n",
    "\n",
    "Max statistics (p = 2):  [('01001', 0.44), ('10010', 0.1), ('00001', 0.07), ('10101', 0.06), ('01000', 0.06), ('10001', 0.05), ('10000', 0.04), ('11001', 0.03), ('11011', 0.03), ('00000', 0.03), ('11010', 0.03), ('00010', 0.02), ('01010', 0.01), ('10111', 0.01), ('00101', 0.01), ('11101', 0.01)]\n",
    "Global statistics (p = 2):  [('01001', 0.21896000000000002), ('00001', 0.07266999999999997), ('11001', 0.056489999999999964), ('00000', 0.05462000000000001), ('01000', 0.04950999999999997), ('10010', 0.046709999999999974), ('10101', 0.04259999999999997), ('10001', 0.04189999999999998), ('10000', 0.03966999999999999), ('01011', 0.037839999999999985), ('00101', 0.029009999999999984), ('00010', 0.028649999999999988), ('01101', 0.025239999999999974), ('11011', 0.024399999999999977), ('11101', 0.02335999999999998), ('11010', 0.02283999999999999), ('10100', 0.021419999999999984), ('01010', 0.02117999999999998), ('11000', 0.019569999999999987), ('00100', 0.01722999999999999), ('00011', 0.015909999999999994), ('10011', 0.01561999999999999), ('10111', 0.013039999999999994), ('10110', 0.010430000000000002), ('01111', 0.009780000000000006), ('01100', 0.007550000000000005), ('11100', 0.007200000000000004), ('11111', 0.007080000000000003), ('00111', 0.005790000000000003), ('00110', 0.005570000000000003), ('01110', 0.004290000000000002), ('11110', 0.003870000000000002)]\n",
    "\n",
    "Max statistics (p = 3):  [('10101', 0.52), ('00001', 0.25), ('00000', 0.15), ('11010', 0.06), ('10110', 0.01), ('10001', 0.01)]\n",
    "Global statistics (p = 3):  [('10101', 0.12084999999999996), ('00001', 0.08998999999999999), ('00000', 0.08719999999999996), ('10010', 0.05759), ('01101', 0.050550000000000025), ('11101', 0.04351999999999995), ('01001', 0.041670000000000006), ('10000', 0.039249999999999986), ('10001', 0.038469999999999976), ('10100', 0.03710999999999998), ('11010', 0.036219999999999974), ('10111', 0.032039999999999985), ('00100', 0.029419999999999988), ('01000', 0.029069999999999988), ('11000', 0.02631999999999999), ('00010', 0.023089999999999992), ('00101', 0.0226), ('00011', 0.022449999999999984), ('11001', 0.019679999999999986), ('01011', 0.018869999999999994), ('10110', 0.01714999999999999), ('11111', 0.01521), ('11100', 0.014359999999999993), ('10011', 0.013460000000000001), ('11110', 0.012140000000000001), ('01010', 0.011949999999999994), ('01100', 0.010450000000000006), ('00110', 0.010020000000000005), ('01111', 0.009570000000000006), ('11011', 0.0073600000000000046), ('00111', 0.006570000000000003), ('01110', 0.005800000000000004)]\n",
    "\n",
    "Max statistics (p = 4):  [('10010', 0.2), ('01001', 0.17), ('00000', 0.16), ('10000', 0.09), ('10101', 0.07), ('00001', 0.06), ('10100', 0.05), ('01011', 0.02), ('11101', 0.02), ('00101', 0.02), ('00010', 0.02), ('01000', 0.02), ('01010', 0.02), ('10111', 0.02), ('10001', 0.02), ('10011', 0.01), ('11001', 0.01), ('11000', 0.01), ('11011', 0.01)]\n",
    "Global statistics (p = 4):  [('01001', 0.08922999999999998), ('10010', 0.08211999999999998), ('00000', 0.07476), ('10000', 0.060309999999999996), ('10101', 0.05281999999999999), ('00001', 0.04951999999999997), ('10100', 0.041479999999999996), ('01000', 0.04049999999999998), ('00101', 0.04037999999999998), ('11001', 0.033439999999999984), ('00010', 0.03297999999999998), ('01010', 0.03269999999999998), ('10001', 0.03256), ('11101', 0.030669999999999985), ('10111', 0.02607999999999998), ('01101', 0.025469999999999993), ('11011', 0.025429999999999994), ('01011', 0.02280999999999998), ('10110', 0.022699999999999988), ('11010', 0.022359999999999998), ('11000', 0.02028999999999999), ('00011', 0.01944999999999998), ('10011', 0.019039999999999984), ('00100', 0.018749999999999985), ('00110', 0.012419999999999994), ('01111', 0.011989999999999999), ('11111', 0.0113), ('11100', 0.011280000000000005), ('11110', 0.010950000000000001), ('01100', 0.009830000000000005), ('00111', 0.009570000000000006), ('01110', 0.0068100000000000036)]\n",
    "\n",
    "Max statistics (p = 5):  [('01001', 0.2), ('00101', 0.17), ('10000', 0.15), ('10010', 0.12), ('00001', 0.1), ('00010', 0.09), ('10101', 0.07), ('10100', 0.07), ('11001', 0.01), ('11010', 0.01), ('10001', 0.01)]\n",
    "Global statistics (p = 5):  [('01001', 0.10120999999999994), ('00001', 0.09979999999999999), ('00101', 0.09365), ('10101', 0.06544999999999998), ('10010', 0.05595999999999998), ('00010', 0.051709999999999985), ('10100', 0.04900999999999999), ('10000', 0.04820999999999999), ('11001', 0.04573999999999996), ('10001', 0.03794999999999998), ('11011', 0.03713999999999998), ('00000', 0.026169999999999978), ('11101', 0.024959999999999986), ('01011', 0.024889999999999985), ('00100', 0.02227999999999998), ('11010', 0.021989999999999975), ('10110', 0.02023999999999999), ('10111', 0.019869999999999985), ('01000', 0.018709999999999984), ('01101', 0.01623999999999999), ('11000', 0.01581999999999999), ('11100', 0.014919999999999996), ('01010', 0.014029999999999994), ('00011', 0.010810000000000004), ('01111', 0.010730000000000003), ('10011', 0.010730000000000002), ('00111', 0.010720000000000007), ('01110', 0.007930000000000005), ('01100', 0.007600000000000004), ('00110', 0.006020000000000003), ('11110', 0.004770000000000002), ('11111', 0.004740000000000003)]"
   ]
  },
  {
   "cell_type": "code",
   "execution_count": null,
   "id": "6809f1ba-cf11-44c4-9ddf-507b82ae7ffe",
   "metadata": {
    "collapsed": false
   },
   "outputs": [],
   "source": [
    "!dunstify -t $((12 * 60*60*1000)) --urgency=critical \"Ejecución completada\""
   ]
  }
 ],
 "metadata": {
  "kernelspec": {
   "argv": [
    "python",
    "-m",
    "ipykernel_launcher",
    "-f",
    "{connection_file}"
   ],
   "display_name": "Python 3 (ipykernel)",
   "env": null,
   "interrupt_mode": "signal",
   "language": "python",
   "metadata": {
    "debugger": true
   },
   "name": "python3"
  },
  "name": "QAOAAnsatz.ipynb"
 },
 "nbformat": 4,
 "nbformat_minor": 5
}
