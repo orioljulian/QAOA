{
 "cells": [
  {
   "cell_type": "code",
   "execution_count": null,
   "id": "a8ab2ace-8e8c-4ae2-a9c4-986b3eb72f2d",
   "metadata": {
    "collapsed": false
   },
   "outputs": [],
   "source": [
    "# Prueba de P = 2P mas_restricc\n",
    "# g(z) = \"\\\n",
    "#     24.5*z_0 - 31*z_1 - 55*z_2 - 30.5*z_3 + 25*z_4 + \\\n",
    "#     27*z_0*z_1 + 27*z_1*z_2 + 27*z_2*z_3 + 27*z_3*z_4 - 27*z_0*z_2 - 27*z_0*z_3 \\\n",
    "#         - 27*z_1*z_4 - 27*z_2*z_4 + \\\n",
    "#     27*z_0**2 + 27*z_1**2 + 27*z_2**2 + 27*z_3**2 + 27*z_4**2 + 40\"\n",
    "\n",
    "# Grafo\n",
    "edges = {(0, 1): 5, (0, 2): 8, (1, 2): 2, (1, 3): 7, (2, 3): 4}\n",
    "num_nodes = 4\n",
    "\n",
    "# Hp = 24.5*Z0 - 31*Z1 - 55*Z2 - 30.5*Z3 + 25*Z4 + \\\n",
    "#      27*Z0*Z1 + 27*Z1*Z2 + 27*Z2*Z3 + 27*Z3*Z4 - 27*Z0*Z2 - 27*Z0*Z3 \\\n",
    "#      - 27*Z1*Z4 - 27*Z2*Z4\n",
    "\n",
    "linear_coefs = [24.5, -31, -55, -30.5, 25]\n",
    "\n",
    "quadra_coefs = {(0, 1): 27, (0, 2): -27, (0, 3): -27, (1, 2): 27, (1, 4): -27,\n",
    "                (2, 3): 27, (2, 4): -27, (3, 4): 27}"
   ]
  },
  {
   "cell_type": "code",
   "execution_count": null,
   "id": "eaf061a0-47f0-43a6-befe-f2817891062c",
   "metadata": {
    "collapsed": false
   },
   "outputs": [],
   "source": [
    "import networkx as nx\n",
    "import matplotlib.pyplot as plt\n",
    "\n",
    "# Imprime un grafo dirigido pesado\n",
    "# Entrada\n",
    "#     graph_nodes: Lista de nodos del grafo\n",
    "#     graph_edges: Diccionario {vértice: peso} donde vértice es (n1, n2)\n",
    "#     layout:      Para especificar la posición de los nodos\n",
    "def print_graph(graph_nodes, graph_edges, layout=None):\n",
    "    G = nx.DiGraph()\n",
    "\n",
    "    # Nodes\n",
    "    G.add_nodes_from(graph_nodes)\n",
    "\n",
    "    # Edges\n",
    "    for pair, weight in edges.items():\n",
    "        G.add_edge(pair[0], pair[1], weight=weight)\n",
    "\n",
    "    # Print graph\n",
    "    if layout is None:\n",
    "        layout = nx.spring_layout(G)\n",
    "\n",
    "    plt.figure(3, figsize=(6, 2))\n",
    "    nx.draw(G, layout, with_labels=True, node_size=600)\n",
    "    edge_labels = nx.get_edge_attributes(G, \"weight\")\n",
    "    nx.draw_networkx_edge_labels(G, pos=layout, edge_labels=edge_labels)\n",
    "    # plt.savefig(\"../../latex/resultados/img/primer_grafo.png\")\n",
    "\n",
    "# edges = {(0, 1): \"5(q_0)\", (0, 2): \"8(q_1)\", (1, 2): \"2(q_2)\", (1, 3): \"7(q_3)\", (2, 3): \"4(q_4)\"}\n",
    "print_graph(range(num_nodes), edges, layout={0: [-1, 0], 1: [0, 1],\n",
    "                                             2: [0, -1], 3: [1, 0]})"
   ]
  },
  {
   "cell_type": "code",
   "execution_count": null,
   "id": "cacf64a2-bf3e-4d6c-acf8-ce67fea3966b",
   "metadata": {
    "collapsed": false
   },
   "outputs": [],
   "source": [
    "# Función de coste binaria con valores {0, 1}\n",
    "cost_function = \"\\\n",
    "5*x_01 + 8*x_02 + 2*x_12 + 7*x_13 + 4*x_23 + \\\n",
    "54 * (x_01 + x_02 - 1)**2 + \\\n",
    "54 * (x_13 + x_23 - 1)**2 + \\\n",
    "54 * (x_01 - x_12 - x_13)**2 + \\\n",
    "54 * (x_02 + x_12 - x_23)**2\"\n",
    "\n",
    "# Evalúa una solución concreta según la función de coste para la versión QUBO\n",
    "# Entrada:\n",
    "#     - bits: Cadena con los valores de los qubits medidos\n",
    "#             Orden: q_4 q_3 q_2 q_1 q_0\n",
    "def eval_cost_function(bits):\n",
    "    assert len(edges) == len(bits), \"Error in cost_function: Length of bits\"\n",
    "\n",
    "    inv_bits = bits[::-1]  # Los qubits están en orden inverso\n",
    "\n",
    "    param_dict = {}\n",
    "    # Asignación entre x_ij -> q_n\n",
    "    # Establecido por el orden de edges. Ej: x_12 -> q_2 (esto es, qubit nº2)\n",
    "    for n, (i, j) in enumerate(edges):\n",
    "        param_dict[f\"x_{i}{j}\"] = int(inv_bits[n])\n",
    "\n",
    "    return eval(cost_function, param_dict)"
   ]
  },
  {
   "cell_type": "code",
   "execution_count": null,
   "id": "ebcf60b9-1ef2-45b0-898e-73df1ce3d4b2",
   "metadata": {
    "collapsed": false
   },
   "outputs": [],
   "source": [
    "from qiskit import QuantumCircuit\n",
    "def generate_qaoa_circuit(theta):\n",
    "    assert len(theta) % 2 == 0, \"Error in parameters (Beta, Gamma)\"\n",
    "\n",
    "    nqubits = len(edges)  # Tantos qubits como aristas tenga el grafo\n",
    "    circuit = QuantumCircuit(nqubits)\n",
    "\n",
    "    layers = int(len(theta) / 2)\n",
    "    beta = theta[:layers]\n",
    "    gamma = theta[layers:]\n",
    "\n",
    "    # |v0>\n",
    "    for i in range(nqubits):\n",
    "        circuit.h(i)\n",
    "\n",
    "    for p in range(layers):\n",
    "        circuit.barrier()\n",
    "\n",
    "        # Hp\n",
    "        for q_idx, coef in enumerate(linear_coefs):\n",
    "            circuit.rz(coef, q_idx)\n",
    "        for q_idxs, coef in quadra_coefs.items():\n",
    "            circuit.rzz(coef * gamma[p], q_idxs[0], q_idxs[1])\n",
    "\n",
    "        circuit.barrier()\n",
    "\n",
    "        # Hm\n",
    "        for q_idx in range(nqubits):\n",
    "            circuit.rx(beta[p] * 2, q_idx)\n",
    "\n",
    "    circuit.measure_all()\n",
    "    return circuit"
   ]
  },
  {
   "cell_type": "code",
   "execution_count": null,
   "id": "45e36356-297d-4352-8f1e-d3b4835e3fbc",
   "metadata": {
    "collapsed": false
   },
   "outputs": [],
   "source": [
    "def compute_expectation(counts):\n",
    "    media = 0\n",
    "    len_count = 0\n",
    "    for bits, count in counts.items():\n",
    "        cost = eval_cost_function(bits)\n",
    "        media += cost * count\n",
    "        len_count += count\n",
    "\n",
    "    return media/len_count"
   ]
  },
  {
   "cell_type": "code",
   "execution_count": null,
   "id": "7b2ea39a-1f35-40f4-9c98-f8468164877a",
   "metadata": {
    "collapsed": false
   },
   "outputs": [],
   "source": [
    "# Simulador\n",
    "from qiskit import Aer\n",
    "from scipy.optimize import minimize\n",
    "\n",
    "backend = Aer.get_backend('aer_simulator')\n",
    "shots = 1024\n",
    "\n",
    "def execute_circuit(theta):\n",
    "    qc = generate_qaoa_circuit(theta)\n",
    "    counts = backend.run(qc, shots=shots).result().get_counts()\n",
    "    return compute_expectation(counts)\n",
    "\n",
    "num_layers = 1\n",
    "theta_res = minimize(execute_circuit, [1.0, 1.0] * num_layers, method = \"COBYLA\")\n",
    "theta_res"
   ]
  },
  {
   "cell_type": "code",
   "execution_count": null,
   "id": "c29be53b-4766-4d6b-9472-70a6a6e3a7a1",
   "metadata": {
    "collapsed": false
   },
   "outputs": [],
   "source": [
    "from qiskit.visualization import plot_histogram\n",
    "backend = Aer.get_backend('aer_simulator')\n",
    "shots = 1024\n",
    "\n",
    "qc = generate_qaoa_circuit(theta_res.x)\n",
    "counts = backend.run(qc, shots=shots).result().get_counts()\n",
    "plot_histogram(counts, figsize=(12, 7))"
   ]
  },
  {
   "cell_type": "code",
   "execution_count": null,
   "id": "0cbc07d7-3c7f-42c4-b6d1-f3cd2a9dd2f5",
   "metadata": {
    "collapsed": false
   },
   "outputs": [],
   "source": [
    "import numpy as np\n",
    "import matplotlib.pyplot as plt\n",
    "\n",
    "def graph():\n",
    "    x = np.arange(0.3, 1.5, 0.01)\n",
    "    y = []\n",
    "    beta = 1.0\n",
    "    for gamma in x:\n",
    "        y.append(execute_circuit([beta, gamma]))\n",
    "\n",
    "    plt.plot(x, y)\n",
    "    # plt.savefig(\"../../../latex/resultados/img/primer_p_54_gamma_fun.png\")\n",
    "    plt.show()\n",
    "\n",
    "graph()"
   ]
  },
  {
   "cell_type": "code",
   "execution_count": null,
   "id": "72b8c7b1-d774-42b8-a6d4-05a83d44186d",
   "metadata": {
    "collapsed": false
   },
   "outputs": [],
   "source": [
    "# Statistics\n",
    "statistics = {}\n",
    "num_layers = 2\n",
    "for generation in range(0, 1000):\n",
    "    theta_res = minimize(execute_circuit, [1.0, 1.0] * num_layers, method = \"COBYLA\")\n",
    "    qc = generate_qaoa_circuit(theta_res.x)\n",
    "    counts = backend.run(qc, shots=shots).result().get_counts()\n",
    "\n",
    "    path = max(counts, key=counts.get)\n",
    "    if path not in statistics:\n",
    "        statistics[path] = 0\n",
    "    statistics[path] += 1\n",
    "\n",
    "print(statistics)"
   ]
  },
  {
   "cell_type": "code",
   "execution_count": null,
   "id": "f86e8213-8cbc-4e3c-888a-14794544699d",
   "metadata": {
    "collapsed": false
   },
   "outputs": [],
   "source": [
    "!dunstify -t $((30*1000)) --urgency=critical \"Ejecución completada\""
   ]
  }
 ],
 "metadata": {
  "kernelspec": {
   "argv": [
    "python",
    "-m",
    "ipykernel_launcher",
    "-f",
    "{connection_file}"
   ],
   "display_name": "Python 3 (ipykernel)",
   "env": null,
   "interrupt_mode": "signal",
   "language": "python",
   "metadata": {
    "debugger": true
   },
   "name": "python3"
  },
  "name": "aer-qaoa_p_54.ipynb"
 },
 "nbformat": 4,
 "nbformat_minor": 5
}
