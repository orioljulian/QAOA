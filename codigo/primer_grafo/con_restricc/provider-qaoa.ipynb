{
 "cells": [
  {
   "cell_type": "code",
   "execution_count": null,
   "id": "07ed42cc-9e87-4f77-852c-4367745dc581",
   "metadata": {
    "collapsed": false,
    "tags": []
   },
   "outputs": [],
   "source": [
    "# Grafo\n",
    "edges = {(0, 1): 5, (0, 2): 8, (1, 2): 2, (1, 3): 7, (2, 3): 4}\n",
    "num_nodes = 4\n",
    "\n",
    "# Hp = 11*Z0 - 17.5*Z1 - 28*Z2 - 17*Z3 + 11.5*Z4 +\n",
    "#      13.5*(Z0*Z1 + Z1*Z2 + Z2*Z3 - Z0*Z2 - Z0*Z3 + Z3*Z4 - Z1*Z4 - Z2*Z4)\n",
    "\n",
    "# Coeficientes lineales de Hp (11 * Z0 - 17.5 * Z1...)\n",
    "linear_coefs = [11, -17.5, -28, -17, 11.5]\n",
    "\n",
    "# Coeficientes cuadráticos Ej: {(2, 3): 13.5} -> 13.5 * Z2 * Z3\n",
    "quadra_coefs = {(0, 1): 13.5, (1, 2): 13.5, (2, 3): 13.5, (0, 2): -13.5,\n",
    "                (0, 3): -13.5, (3, 4): 13.5, (1, 4): -13.5, (2, 4): -13.5}"
   ]
  },
  {
   "cell_type": "code",
   "execution_count": null,
   "id": "c3197d1a-2b54-4d90-831b-c459eb16b955",
   "metadata": {
    "collapsed": false,
    "tags": []
   },
   "outputs": [],
   "source": [
    "cost_function = \"\\\n",
    "5*x_01 + 8*x_02 + 2*x_12 + 7*x_13 + 4*x_23 + \\\n",
    "27*(x_01 + x_02 - 1)**2 + \\\n",
    "27*(x_13 + x_23 - 1)**2 + \\\n",
    "27*(x_01 - x_12 - x_13)**2 + \\\n",
    "27*(x_02 + x_12 - x_23)**2\"\n",
    "\n",
    "# Evalúa una solución concreta según la función de coste para la versión QUBO\n",
    "# Entrada:\n",
    "#     - bits: Cadena con los valores de los qubits medidos\n",
    "#             Orden: q_4 q_3 q_2 q_1 q_0\n",
    "def eval_cost_function(bits):\n",
    "    assert len(edges) == len(bits), \"Error in cost_function: Length of bits\"\n",
    "\n",
    "    inv_bits = bits[::-1]  # Los qubits están en orden inverso\n",
    "\n",
    "    param_dict = {}\n",
    "    # Asignación entre x_ij -> q_n\n",
    "    # Establecido por el orden de edges. Ej: x_12 -> q_2 (esto es, qubit nº2)\n",
    "    for n, (i, j) in enumerate(edges):\n",
    "        param_dict[f\"x_{i}{j}\"] = int(inv_bits[n])\n",
    "\n",
    "    return eval(cost_function, param_dict)"
   ]
  },
  {
   "cell_type": "code",
   "execution_count": null,
   "id": "11fef34d-7a21-41da-a77f-0a562761ee4c",
   "metadata": {
    "collapsed": false,
    "tags": []
   },
   "outputs": [],
   "source": [
    "from qiskit import QuantumCircuit\n",
    "def generate_qaoa_circuit(theta):\n",
    "    assert len(theta) % 2 == 0, \"Error in parameters (Beta, Gamma)\"\n",
    "\n",
    "    nqubits = len(edges)  # Tantos qubits como aristas tenga el grafo\n",
    "    circuit = QuantumCircuit(nqubits)\n",
    "\n",
    "    layers = int(len(theta) / 2)\n",
    "    beta = theta[:layers]\n",
    "    gamma = theta[layers:]\n",
    "\n",
    "    # |v0>\n",
    "    for i in range(nqubits):\n",
    "        circuit.h(i)\n",
    "\n",
    "    for p in range(layers):\n",
    "        circuit.barrier()\n",
    "\n",
    "        # Hp\n",
    "        for q_idx, coef in enumerate(linear_coefs):\n",
    "            #circuit.rz(coef * gamma[p], q_idx)\n",
    "            circuit.rz(coef, q_idx)\n",
    "        for q_idxs, coef in quadra_coefs.items():\n",
    "            circuit.rzz(coef * gamma[p] * 2, q_idxs[0], q_idxs[1])\n",
    "\n",
    "        circuit.barrier()\n",
    "\n",
    "        # Hm\n",
    "        for q_idx in range(nqubits):\n",
    "            circuit.rx(beta[p] * 2, q_idx)\n",
    "\n",
    "    circuit.measure_all()\n",
    "    return circuit"
   ]
  },
  {
   "cell_type": "code",
   "execution_count": null,
   "id": "e063d468-45ac-4ca7-bce4-d29f96183efd",
   "metadata": {
    "collapsed": false,
    "tags": []
   },
   "outputs": [],
   "source": [
    "def compute_expectation(counts):\n",
    "    media = 0\n",
    "    len_count = 0\n",
    "    for bits, count in counts.items():\n",
    "        cost = eval_cost_function(bits)\n",
    "        media += cost * count\n",
    "        len_count += count\n",
    "\n",
    "    return media/len_count"
   ]
  },
  {
   "cell_type": "code",
   "execution_count": null,
   "id": "30d96749-1cf6-427f-be69-a2d230f40633",
   "metadata": {
    "collapsed": false,
    "tags": []
   },
   "outputs": [],
   "source": [
    "from qiskit_ibm_provider import IBMProvider\n",
    "provider = IBMProvider()\n",
    "print(provider.backends())"
   ]
  },
  {
   "cell_type": "code",
   "execution_count": null,
   "id": "b7c4bd75-ef7c-4a6e-a3ff-a512f7bb1365",
   "metadata": {
    "collapsed": false,
    "tags": []
   },
   "outputs": [],
   "source": [
    "# Provider\n",
    "from qiskit import execute\n",
    "from scipy.optimize import minimize\n",
    "\n",
    "device = provider.get_backend(\"ibmq_qasm_simulator\")\n",
    "shots = 512\n",
    "\n",
    "def execute_circuit(theta):\n",
    "    qc = generate_qaoa_circuit(theta)\n",
    "    counts = execute(qc, device, shots=shots).result().get_counts()\n",
    "    return compute_expectation(counts)\n",
    "\n",
    "num_layers = 1\n",
    "res = minimize(execute_circuit, [1.0, 1.0] * num_layers, method = \"COBYLA\",\n",
    "               options={'maxiter': 2})\n",
    "res"
   ]
  },
  {
   "cell_type": "code",
   "execution_count": null,
   "id": "ca5e89ff-d9a7-44b4-9115-cdf2d7845131",
   "metadata": {
    "collapsed": false,
    "tags": []
   },
   "outputs": [],
   "source": [
    "from qiskit.visualization import plot_histogram\n",
    "from qiskit import execute\n",
    "\n",
    "device = provider.get_backend(\"ibmq_qasm_simulator\")\n",
    "shots = 512\n",
    "\n",
    "qc = generate_qaoa_circuit([1.0, 1.0])\n",
    "counts = execute(qc, device, shots=shots).result().get_counts()\n",
    "plot_histogram(counts, figsize=(14, 10))"
   ]
  }
 ],
 "metadata": {
  "kernelspec": {
   "argv": [
    "python",
    "-m",
    "ipykernel_launcher",
    "-f",
    "{connection_file}"
   ],
   "display_name": "Python 3 (ipykernel)",
   "env": null,
   "interrupt_mode": "signal",
   "language": "python",
   "metadata": {
    "debugger": true
   },
   "name": "python3"
  },
  "language_info": {
   "codemirror_mode": {
    "name": "ipython",
    "version": 3
   },
   "file_extension": ".py",
   "mimetype": "text/x-python",
   "name": "python",
   "nbconvert_exporter": "python",
   "pygments_lexer": "ipython3",
   "version": "3.10.8"
  },
  "name": "provider-qaoa.ipynb",
  "widgets": {
   "application/vnd.jupyter.widget-state+json": {
    "state": null,
    "version_major": 2,
    "version_minor": 0
   }
  }
 },
 "nbformat": 4,
 "nbformat_minor": 5
}
