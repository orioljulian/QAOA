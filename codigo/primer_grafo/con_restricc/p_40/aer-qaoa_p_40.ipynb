{
 "cells": [
  {
   "cell_type": "code",
   "execution_count": null,
   "id": "f1403627-2a94-4e20-859d-f4329dcbb479",
   "metadata": {
    "collapsed": false
   },
   "outputs": [],
   "source": [
    "# Función de coste binaria con valores {-1, 1}\n",
    "# g(z) = \"\\\n",
    "#     17.5*z_0 - 24*z_1 - 41*z_2 - 23.5*z_3 + 18*z_4 \\\n",
    "#     + 20*z_0*z_1 - 20*z_0*z_2 - 20*z_0*z_3 + 20*z_1*z_2 \\\n",
    "#         - 20*z_1*z_4 + 20*z_2*z_3 - 20*z_2*z_4 + 20*z_3*z_4 \\\n",
    "#     + 20*z_0**2 + 20*z_1**2 + 20*z_2**2 + 20*z_3**2 + 20*z_4**2 + 33 \"\n",
    "\n",
    "# Grafo\n",
    "edges = {(0, 1): 5, (0, 2): 8, (1, 2): 2, (1, 3): 7, (2, 3): 4}\n",
    "num_nodes = 4\n",
    "\n",
    "# Hp = 17.5*Z0 - 24*Z1 - 41*Z2 - 23.5*Z3 + 18*Z4\n",
    "#     + 20*(Z0*Z1 - Z0*Z2 - Z0*Z3 + Z1*Z2 - Z1*Z4 + Z2*Z3 - Z2*Z4 + Z3*Z4)\n",
    "\n",
    "# Coeficientes lineales de Hp (17.5 * Z0 - 24 * Z1...)\n",
    "linear_coefs = [17.5, -24, -41, -23.5, 18]\n",
    "\n",
    "# Coeficientes cuadráticos Ej: {(2, 3): 20} -> 20 * Z2 * Z3\n",
    "quadra_coefs = {(0, 1): 20, (1, 2): 20, (2, 3): 20, (0, 2): -20,\n",
    "                (0, 3): -20, (3, 4): 20, (1, 4): -20, (2, 4): -20}"
   ]
  },
  {
   "cell_type": "code",
   "execution_count": null,
   "id": "1b5e1d4b-e5f2-4b71-8d9b-44d0486b80bc",
   "metadata": {
    "collapsed": false
   },
   "outputs": [],
   "source": [
    "import networkx as nx\n",
    "import matplotlib.pyplot as plt\n",
    "\n",
    "# Imprime un grafo dirigido pesado\n",
    "# Entrada\n",
    "#     graph_nodes: Lista de nodos del grafo\n",
    "#     graph_edges: Diccionario {vértice: peso} donde vértice es (n1, n2)\n",
    "#     layout:      Para especificar la posición de los nodos\n",
    "def print_graph(graph_nodes, graph_edges, layout=None):\n",
    "    G = nx.DiGraph()\n",
    "\n",
    "    # Nodes\n",
    "    G.add_nodes_from(graph_nodes)\n",
    "\n",
    "    # Edges\n",
    "    for pair, weight in edges.items():\n",
    "        G.add_edge(pair[0], pair[1], weight=weight)\n",
    "\n",
    "    # Print graph\n",
    "    if layout is None:\n",
    "        layout = nx.spring_layout(G)\n",
    "\n",
    "    plt.figure(3, figsize=(6, 2))\n",
    "    nx.draw(G, layout, with_labels=True, node_size=600)\n",
    "    edge_labels = nx.get_edge_attributes(G, \"weight\")\n",
    "    nx.draw_networkx_edge_labels(G, pos=layout, edge_labels=edge_labels)\n",
    "    plt.show()\n",
    "\n",
    "print_graph(range(num_nodes), edges, layout={0: [-1, 0], 1: [0, 1],\n",
    "                                             2: [0, -1], 3: [1, 0]})"
   ]
  },
  {
   "cell_type": "code",
   "execution_count": null,
   "id": "5b23f38b-64a9-4937-8db5-d283450554f3",
   "metadata": {
    "collapsed": false
   },
   "outputs": [],
   "source": [
    "# Función de coste binaria con valores {0, 1}\n",
    "cost_function = \"\\\n",
    "5*x_01 + 8*x_02 + 2*x_12 + 7*x_13 + 4*x_23 + \\\n",
    "40*(x_01 + x_02 - 1)**2 + \\\n",
    "40*(x_13 + x_23 - 1)**2 + \\\n",
    "40*(x_01 - x_12 - x_13)**2 + \\\n",
    "40*(x_02 + x_12 - x_23)**2\"\n",
    "\n",
    "# Evalúa una solución concreta según la función de coste para la versión QUBO\n",
    "# Entrada:\n",
    "#     - bits: Cadena con los valores de los qubits medidos\n",
    "#             Orden: q_4 q_3 q_2 q_1 q_0\n",
    "def eval_cost_function(bits):\n",
    "    assert len(edges) == len(bits), \"Error in cost_function: Length of bits\"\n",
    "\n",
    "    inv_bits = bits[::-1]  # Los qubits están en orden inverso\n",
    "\n",
    "    param_dict = {}\n",
    "    # Asignación entre x_ij -> q_n\n",
    "    # Establecido por el orden de edges. Ej: x_12 -> q_2 (esto es, qubit nº2)\n",
    "    for n, (i, j) in enumerate(edges):\n",
    "        param_dict[f\"x_{i}{j}\"] = int(inv_bits[n])\n",
    "\n",
    "    return eval(cost_function, param_dict)"
   ]
  },
  {
   "cell_type": "code",
   "execution_count": null,
   "id": "f6bdcf4e-4ef6-4945-a845-69b7f361095e",
   "metadata": {
    "collapsed": false
   },
   "outputs": [],
   "source": [
    "from qiskit import QuantumCircuit\n",
    "def generate_qaoa_circuit(theta):\n",
    "    assert len(theta) % 2 == 0, \"Error in parameters (Beta, Gamma)\"\n",
    "\n",
    "    nqubits = len(edges)  # Tantos qubits como aristas tenga el grafo\n",
    "    circuit = QuantumCircuit(nqubits)\n",
    "\n",
    "    layers = int(len(theta) / 2)\n",
    "    beta = theta[:layers]\n",
    "    gamma = theta[layers:]\n",
    "\n",
    "    # |v0>\n",
    "    for i in range(nqubits):\n",
    "        circuit.h(i)\n",
    "\n",
    "    for p in range(layers):\n",
    "        circuit.barrier()\n",
    "\n",
    "        # Hp\n",
    "        for q_idx, coef in enumerate(linear_coefs):\n",
    "            circuit.rz(coef, q_idx)\n",
    "        for q_idxs, coef in quadra_coefs.items():\n",
    "            circuit.rzz(coef * gamma[p], q_idxs[0], q_idxs[1])\n",
    "\n",
    "        circuit.barrier()\n",
    "\n",
    "        # Hm\n",
    "        for q_idx in range(nqubits):\n",
    "            circuit.rx(beta[p] * 2, q_idx)\n",
    "\n",
    "    circuit.measure_all()\n",
    "    return circuit"
   ]
  },
  {
   "cell_type": "code",
   "execution_count": null,
   "id": "caa3016a-8b9f-4864-b793-d691d68411e5",
   "metadata": {
    "collapsed": false
   },
   "outputs": [],
   "source": [
    "def compute_expectation(counts):\n",
    "    media = 0\n",
    "    len_count = 0\n",
    "    for bits, count in counts.items():\n",
    "        cost = eval_cost_function(bits)\n",
    "        media += cost * count\n",
    "        len_count += count\n",
    "\n",
    "    return media/len_count"
   ]
  },
  {
   "cell_type": "code",
   "execution_count": null,
   "id": "4b8c8741-ffec-46da-8c70-b59d3fde2919",
   "metadata": {
    "collapsed": false
   },
   "outputs": [],
   "source": [
    "# Simulador\n",
    "from qiskit import Aer\n",
    "from scipy.optimize import minimize\n",
    "\n",
    "backend = Aer.get_backend('aer_simulator')\n",
    "shots = 1024\n",
    "\n",
    "def execute_circuit(theta):\n",
    "    qc = generate_qaoa_circuit(theta)\n",
    "    counts = backend.run(qc, shots=shots).result().get_counts()\n",
    "    return compute_expectation(counts)\n",
    "\n",
    "num_layers = 10\n",
    "theta_res = minimize(execute_circuit, [1.0, 1.0] * num_layers, method = \"COBYLA\")\n",
    "theta_res"
   ]
  },
  {
   "cell_type": "code",
   "execution_count": null,
   "id": "176e4020-d553-471f-a55a-4a7312b6eac8",
   "metadata": {
    "collapsed": false
   },
   "outputs": [],
   "source": [
    "from qiskit.visualization import plot_histogram\n",
    "\n",
    "backend = Aer.get_backend('aer_simulator')\n",
    "shots = 1024\n",
    "\n",
    "qc = generate_qaoa_circuit(theta_res.x)\n",
    "counts = backend.run(qc, shots=shots).result().get_counts()\n",
    "plot_histogram(counts, figsize=(7, 7))"
   ]
  },
  {
   "cell_type": "code",
   "execution_count": null,
   "id": "17d91a52-9c24-4eb3-84c7-15427b159750",
   "metadata": {
    "collapsed": false
   },
   "outputs": [],
   "source": [
    "import numpy as np\n",
    "import matplotlib.pyplot as plt\n",
    "\n",
    "def graph():\n",
    "    x = np.arange(0.3, 6, 0.01)\n",
    "    y = []\n",
    "    beta = 1.0\n",
    "    for gamma in x:\n",
    "        y.append(execute_circuit([beta, gamma]))\n",
    "\n",
    "    plt.plot(x, y)\n",
    "    plt.show()\n",
    "\n",
    "graph()"
   ]
  },
  {
   "cell_type": "code",
   "execution_count": null,
   "id": "9a37cc30-bf93-4600-8007-78c79da84762",
   "metadata": {
    "collapsed": false
   },
   "outputs": [],
   "source": [
    "# Statistics\n",
    "statistics = {}\n",
    "for generation in range(0, 1000):\n",
    "    num_layers = 3\n",
    "    theta_res = minimize(execute_circuit, [1.0, 1.0] * num_layers, method = \"COBYLA\")\n",
    "    qc = generate_qaoa_circuit(theta_res.x)\n",
    "    counts = backend.run(qc, shots=shots).result().get_counts()\n",
    "\n",
    "    path = max(counts, key=counts.get)\n",
    "    if path not in statistics:\n",
    "        statistics[path] = 0\n",
    "    statistics[path] += 1\n",
    "\n",
    "print(statistics)"
   ]
  },
  {
   "cell_type": "code",
   "execution_count": null,
   "id": "54dacc39-818e-43b2-8476-ac6abb461cc4",
   "metadata": {
    "collapsed": false
   },
   "outputs": [],
   "source": [
    "!dunstify -t $((30*1000)) --urgency=critical \"Ejecución completada\""
   ]
  }
 ],
 "metadata": {
  "kernelspec": {
   "argv": [
    "python",
    "-m",
    "ipykernel_launcher",
    "-f",
    "{connection_file}"
   ],
   "display_name": "Python 3 (ipykernel)",
   "env": null,
   "interrupt_mode": "signal",
   "language": "python",
   "metadata": {
    "debugger": true
   },
   "name": "python3"
  },
  "name": "aer-qaoa_p_40.ipynb"
 },
 "nbformat": 4,
 "nbformat_minor": 5
}
