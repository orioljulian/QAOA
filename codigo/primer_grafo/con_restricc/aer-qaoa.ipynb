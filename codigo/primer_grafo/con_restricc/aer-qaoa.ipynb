{
 "cells": [
  {
   "cell_type": "code",
   "execution_count": null,
   "id": "19433584-e8cc-4dae-b4f1-f1cb3eed9cfe",
   "metadata": {
    "collapsed": false
   },
   "outputs": [],
   "source": [
    "# Función de coste binaria con valores {-1, 1}\n",
    "# g(z) = \"\\\n",
    "#     + 11 * z_0 - 17.5 * z_1 - 28 * z_2 - 17 * z_3 + 11.5 * z_4 \\\n",
    "#     + 13.5 * (z_0*z_1 + z_1*z_2 + z_2*z_3 - z_0*z_2 - z_0*z_3 + z_3*z_4 - z_1*z_4 - z_2*z_4) \\\n",
    "#     + 13.5 * (z_0**2 + z_1**2 + z_2**2 + z_3**2 + z_4**2) \\\n",
    "#     + 26.5 \"\n",
    "\n",
    "# Grafo\n",
    "edges = {(0, 1): 5, (0, 2): 8, (1, 2): 2, (1, 3): 7, (2, 3): 4}\n",
    "num_nodes = 4\n",
    "\n",
    "# Hp = 11*Z0 - 17.5*Z1 - 28*Z2 - 17*Z3 + 11.5*Z4 +\n",
    "#      13.5*(Z0*Z1 + Z1*Z2 + Z2*Z3 - Z0*Z2 - Z0*Z3 + Z3*Z4 - Z1*Z4 - Z2*Z4)\n",
    "\n",
    "# Coeficientes lineales de Hp (11 * Z0 - 17.5 * Z1...)\n",
    "linear_coefs = [11, -17.5, -28, -17, 11.5]\n",
    "\n",
    "# Coeficientes cuadráticos Ej: {(2, 3): 13.5} -> 13.5 * Z2 * Z3\n",
    "quadra_coefs = {(0, 1): 13.5, (1, 2): 13.5, (2, 3): 13.5, (0, 2): -13.5,\n",
    "                (0, 3): -13.5, (3, 4): 13.5, (1, 4): -13.5, (2, 4): -13.5}"
   ]
  },
  {
   "cell_type": "code",
   "execution_count": null,
   "id": "19a7645c-1a69-4eeb-ad95-e8918c842227",
   "metadata": {
    "collapsed": false
   },
   "outputs": [],
   "source": [
    "import networkx as nx\n",
    "import matplotlib.pyplot as plt\n",
    "\n",
    "# Imprime un grafo dirigido pesado\n",
    "# Entrada\n",
    "#     graph_nodes: Lista de nodos del grafo\n",
    "#     graph_edges: Diccionario {vértice: peso} donde vértice es (n1, n2)\n",
    "#     layout:      Para especificar la posición de los nodos\n",
    "def print_graph(graph_nodes, graph_edges, layout=None):\n",
    "    G = nx.DiGraph()\n",
    "\n",
    "    # Nodes\n",
    "    G.add_nodes_from(graph_nodes)\n",
    "\n",
    "    # Edges\n",
    "    for pair, weight in edges.items():\n",
    "        G.add_edge(pair[0], pair[1], weight=weight)\n",
    "\n",
    "    # Print graph\n",
    "    if layout is None:\n",
    "        layout = nx.spring_layout(G)\n",
    "\n",
    "    plt.figure(3, figsize=(6, 2))\n",
    "    nx.draw(G, layout, with_labels=True, node_size=600)\n",
    "    edge_labels = nx.get_edge_attributes(G, \"weight\")\n",
    "    nx.draw_networkx_edge_labels(G, pos=layout, edge_labels=edge_labels)\n",
    "    plt.show()\n",
    "\n",
    "print_graph(range(num_nodes), edges, layout={0: [-1, 0], 1: [0, 1],\n",
    "                                             2: [0, -1], 3: [1, 0]})"
   ]
  },
  {
   "cell_type": "code",
   "execution_count": null,
   "id": "65ad6935-3c36-4280-935c-6c5e23d8dfde",
   "metadata": {
    "collapsed": false
   },
   "outputs": [],
   "source": [
    "# Función de coste binaria con valores {0, 1}\n",
    "cost_function = \"\\\n",
    "5*x_01 + 8*x_02 + 2*x_12 + 7*x_13 + 4*x_23 + \\\n",
    "27*(x_01 + x_02 - 1)**2 + \\\n",
    "27*(x_13 + x_23 - 1)**2 + \\\n",
    "27*(x_01 - x_12 - x_13)**2 + \\\n",
    "27*(x_02 + x_12 - x_23)**2\"\n",
    "\n",
    "# Evalúa una solución concreta según la función de coste para la versión QUBO\n",
    "# Entrada:\n",
    "#     - bits: Cadena con los valores de los qubits medidos\n",
    "#             Orden: q_4 q_3 q_2 q_1 q_0\n",
    "def eval_cost_function(bits):\n",
    "    assert len(edges) == len(bits), \"Error in cost_function: Length of bits\"\n",
    "\n",
    "    inv_bits = bits[::-1]  # Los qubits están en orden inverso\n",
    "\n",
    "    param_dict = {}\n",
    "    # Asignación entre x_ij -> q_n\n",
    "    # Establecido por el orden de edges. Ej: x_12 -> q_2 (esto es, qubit nº2)\n",
    "    for n, (i, j) in enumerate(edges):\n",
    "        param_dict[f\"x_{i}{j}\"] = int(inv_bits[n])\n",
    "\n",
    "    return eval(cost_function, param_dict)"
   ]
  },
  {
   "cell_type": "code",
   "execution_count": null,
   "id": "118080f4-fcba-4a8c-bc01-9f023a5f3d43",
   "metadata": {
    "collapsed": false
   },
   "outputs": [],
   "source": [
    "from qiskit import QuantumCircuit\n",
    "def generate_qaoa_circuit(theta):\n",
    "    assert len(theta) % 2 == 0, \"Error in parameters (Beta, Gamma)\"\n",
    "\n",
    "    nqubits = len(edges)  # Tantos qubits como aristas tenga el grafo\n",
    "    circuit = QuantumCircuit(nqubits)\n",
    "\n",
    "    layers = int(len(theta) / 2)\n",
    "    beta = theta[:layers]\n",
    "    gamma = theta[layers:]\n",
    "\n",
    "    # |v0>\n",
    "    for i in range(nqubits):\n",
    "        circuit.h(i)\n",
    "\n",
    "    for p in range(layers):\n",
    "        circuit.barrier()\n",
    "\n",
    "        # Hp\n",
    "        for q_idx, coef in enumerate(linear_coefs):\n",
    "            #circuit.rz(coef * gamma[p], q_idx)\n",
    "            circuit.rz(coef, q_idx)\n",
    "        for q_idxs, coef in quadra_coefs.items():\n",
    "            #circuit.rzz(coef * gamma[p] * 2, q_idxs[0], q_idxs[1])\n",
    "            circuit.rzz(coef * gamma[p], q_idxs[0], q_idxs[1])\n",
    "\n",
    "        circuit.barrier()\n",
    "\n",
    "        # Hm\n",
    "        for q_idx in range(nqubits):\n",
    "            circuit.rx(beta[p] * 2, q_idx)\n",
    "\n",
    "    circuit.measure_all()\n",
    "    return circuit"
   ]
  },
  {
   "cell_type": "code",
   "execution_count": null,
   "id": "5c2b0e90-1f3f-4fb1-8663-52f05b585164",
   "metadata": {
    "collapsed": false
   },
   "outputs": [],
   "source": [
    "def compute_expectation(counts):\n",
    "    media = 0\n",
    "    len_count = 0\n",
    "    for bits, count in counts.items():\n",
    "        cost = eval_cost_function(bits)\n",
    "        media += cost * count\n",
    "        len_count += count\n",
    "\n",
    "    return media/len_count"
   ]
  },
  {
   "cell_type": "code",
   "execution_count": null,
   "id": "f3061212-93b6-47ef-a6bf-99a331ce46df",
   "metadata": {
    "collapsed": false
   },
   "outputs": [],
   "source": [
    "# Simulador\n",
    "from qiskit import Aer\n",
    "from scipy.optimize import minimize\n",
    "\n",
    "backend = Aer.get_backend('aer_simulator')\n",
    "shots = 1024\n",
    "\n",
    "def execute_circuit(theta):\n",
    "    qc = generate_qaoa_circuit(theta)\n",
    "    counts = backend.run(qc, shots=shots).result().get_counts()\n",
    "    return compute_expectation(counts)\n",
    "\n",
    "num_layers = 1\n",
    "theta_res = minimize(execute_circuit, [1.0, 1.0] * num_layers, method = \"COBYLA\")\n",
    "theta_res"
   ]
  },
  {
   "cell_type": "code",
   "execution_count": null,
   "id": "6a3332eb-621e-4dad-ab6a-73d15d22df1c",
   "metadata": {
    "collapsed": false
   },
   "outputs": [],
   "source": [
    "from qiskit.visualization import plot_histogram\n",
    "\n",
    "backend = Aer.get_backend('aer_simulator')\n",
    "shots = 1024\n",
    "\n",
    "qc = generate_qaoa_circuit(theta_res.x)\n",
    "counts = backend.run(qc, shots=shots).result().get_counts()\n",
    "#plot_histogram(counts, figsize=(7, 7), filename=\"../../../latex/resultados/img/primer_restr_aer_correcto-con-ruido.png\")\n",
    "plot_histogram(counts, figsize=(7, 7))"
   ]
  },
  {
   "cell_type": "code",
   "execution_count": null,
   "id": "c128397a-5da1-467a-b56c-d443f3dcaaf3",
   "metadata": {
    "collapsed": false
   },
   "outputs": [],
   "source": [
    "import numpy as np\n",
    "import matplotlib.pyplot as plt\n",
    "\n",
    "def graph():\n",
    "    x = np.arange(0.3, 6, 0.01)\n",
    "    y = []\n",
    "    beta = 1.0\n",
    "    for gamma in x:\n",
    "        y.append(execute_circuit([beta, gamma]))\n",
    "\n",
    "    plt.plot(x, y)\n",
    "    plt.show()\n",
    "\n",
    "graph()"
   ]
  },
  {
   "cell_type": "code",
   "execution_count": null,
   "id": "1203fce2-eca1-4df4-8d76-38f99b5e3ac3",
   "metadata": {
    "collapsed": false
   },
   "outputs": [],
   "source": [
    "# Statistics\n",
    "statistics = {}\n",
    "for generation in range(0, 1000):\n",
    "    num_layers = 3\n",
    "    theta_res = minimize(execute_circuit, [1.0, 1.0] * num_layers, method = \"COBYLA\")\n",
    "    qc = generate_qaoa_circuit(theta_res.x)\n",
    "    counts = backend.run(qc, shots=shots).result().get_counts()\n",
    "\n",
    "    path = max(counts, key=counts.get)\n",
    "    if path not in statistics:\n",
    "        statistics[path] = 0\n",
    "    statistics[path] += 1\n",
    "\n",
    "print(statistics)"
   ]
  },
  {
   "cell_type": "code",
   "execution_count": null,
   "id": "41c555c4-19d1-43e3-ba6c-cc8036f4b119",
   "metadata": {
    "collapsed": false
   },
   "outputs": [],
   "source": [
    "!dunstify -t $((30*1000)) --urgency=critical \"Ejecución completada\""
   ]
  }
 ],
 "metadata": {
  "kernelspec": {
   "argv": [
    "python",
    "-m",
    "ipykernel_launcher",
    "-f",
    "{connection_file}"
   ],
   "display_name": "Python 3 (ipykernel)",
   "env": null,
   "interrupt_mode": "signal",
   "language": "python",
   "metadata": {
    "debugger": true
   },
   "name": "python3"
  },
  "name": "aer-qaoa.ipynb"
 },
 "nbformat": 4,
 "nbformat_minor": 5
}
