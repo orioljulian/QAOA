{
 "cells": [
  {
   "cell_type": "code",
   "execution_count": null,
   "id": "2e7471c3-a397-4286-985e-82c1c6be2980",
   "metadata": {
    "collapsed": false
   },
   "outputs": [],
   "source": [
    "# Función de coste binaria con valores {-1, 1}\n",
    "# g(z) = \"\\\n",
    "#     +11 * z_0 - 17.5 * z_1 - 28 * z_2 - 17 * z_3 + 11.5 * z_4 \\\n",
    "#     +13.5 * (-z_0*z_2 + z_1*z_2 + z_2*z_3 - z_2*z_4 + z_0*z_1 - z_0*z_3 - z_1*z_4) \\\n",
    "#     +(6.75*z_3**2 + 6.75*z_4**2 + 13.5*(z_0**2 + z_1**2 + z_2**28)) \\\n",
    "#     +26.5\"\n",
    "\n",
    "# Grafo\n",
    "edges = {(0, 1): 5, (0, 2): 8, (1, 2): 2, (1, 3): 7, (2, 3): 4}\n",
    "num_nodes = 4\n",
    "\n",
    "# Hp = 11*Z0 - 17.5*Z1 - 28*Z2 - 17*Z3 + 11.5*Z4 +\n",
    "#      13.5*(-Z0*Z2 + Z1*Z2 + Z2*Z3 - Z2*Z4 + Z0*Z1 - Z0*Z3 - Z1*Z4)\n",
    "\n",
    "# Coeficientes lineales de Hp (11 * Z0 - 17.5 * Z1...)\n",
    "linear_coefs = [11, -17.5, -28, -17, 11.5]\n",
    "\n",
    "# Coeficientes cuadráticos Ej: {(2, 3): 13.5} -> 13.5 * Z2 * Z3\n",
    "quadra_coefs = {(0, 2): -13.5, (1, 2): 13.5, (2, 3): 13.5, (2, 4): -13.5,\n",
    "                (0, 1): 13.5, (0, 3): -13.5, (1, 4): -13.5}"
   ]
  },
  {
   "cell_type": "code",
   "execution_count": null,
   "id": "2f397d39-43a3-4295-8a43-95c754304b07",
   "metadata": {
    "collapsed": false
   },
   "outputs": [],
   "source": [
    "from qiskit import QuantumCircuit\n",
    "\n",
    "def generate_qaoa_circuit(theta):\n",
    "    assert len(theta) % 2 == 0, \"Error in parameters (Beta, Gamma)\"\n",
    "\n",
    "    nqubits = len(edges)  # Tantos qubits como aristas tenga el grafo\n",
    "    circuit = QuantumCircuit(nqubits)\n",
    "\n",
    "    layers = int(len(theta) / 2)\n",
    "    beta = theta[:layers]\n",
    "    gamma = theta[layers:]\n",
    "\n",
    "    # |v0>\n",
    "    for i in range(nqubits):\n",
    "        circuit.h(i)\n",
    "\n",
    "    for p in range(layers):\n",
    "        circuit.barrier()\n",
    "\n",
    "        # Hp\n",
    "        for q_idx, coef in enumerate(linear_coefs):\n",
    "            circuit.rz(coef, q_idx)\n",
    "        for q_idxs, coef in quadra_coefs.items():\n",
    "            circuit.rzz(coef * gamma[p], q_idxs[0], q_idxs[1])\n",
    "\n",
    "        circuit.barrier()\n",
    "\n",
    "        # Hm\n",
    "        for q_idx in range(nqubits):\n",
    "            circuit.rx(beta[p] * 2, q_idx)\n",
    "\n",
    "    return circuit"
   ]
  },
  {
   "cell_type": "code",
   "execution_count": null,
   "id": "3bde3d50-2203-4732-88b3-80e3e0f03aa3",
   "metadata": {
    "collapsed": false
   },
   "outputs": [],
   "source": [
    "# Statevector\n",
    "from qiskit import Aer, assemble\n",
    "import numpy as np\n",
    "backend = Aer.get_backend('aer_simulator')\n",
    "shots = 1\n",
    "\n",
    "theta = [0.28517317, -5.05969577]  # Resultado obtenido en el paper\n",
    "qc = generate_qaoa_circuit(theta)\n",
    "\n",
    "qc.save_statevector()\n",
    "\n",
    "qobj = assemble(qc)\n",
    "vector = backend.run(qobj, shots=shots).result().get_statevector()\n",
    "vector = np.asarray(vector)\n",
    "vector"
   ]
  },
  {
   "cell_type": "code",
   "execution_count": null,
   "id": "0af8c9c1-b0c1-45b1-86e1-543b84b6acc4",
   "metadata": {
    "collapsed": false
   },
   "outputs": [],
   "source": [
    "import itertools\n",
    "from math import sqrt\n",
    "from qiskit.visualization import plot_histogram\n",
    "\n",
    "paths = [''.join(bit_arr) for bit_arr in\n",
    "         itertools.product(['0', '1'], repeat=int(sqrt(vector.size)))]\n",
    "\n",
    "counts = {}\n",
    "for amplitude, path in zip(vector, paths):\n",
    "    probability = amplitude.real ** 2 + amplitude.imag ** 2\n",
    "    counts[path] = probability\n",
    "\n",
    "print(sum(counts.values()))\n",
    "plot_histogram(counts, figsize=(12, 7))"
   ]
  }
 ],
 "metadata": {
  "kernelspec": {
   "argv": [
    "python",
    "-m",
    "ipykernel_launcher",
    "-f",
    "{connection_file}"
   ],
   "display_name": "Python 3 (ipykernel)",
   "env": null,
   "interrupt_mode": "signal",
   "language": "python",
   "metadata": {
    "debugger": true
   },
   "name": "python3"
  },
  "name": "unitary-qaoa.ipynb"
 },
 "nbformat": 4,
 "nbformat_minor": 5
}
