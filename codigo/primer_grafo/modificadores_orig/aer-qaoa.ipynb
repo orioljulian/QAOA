{
 "cells": [
  {
   "cell_type": "code",
   "execution_count": null,
   "id": "29beca22-34aa-4ca7-9d78-d533b8c82ab3",
   "metadata": {
    "collapsed": false
   },
   "outputs": [],
   "source": [
    "# Grafo\n",
    "edges = {(0, 1): 5, (0, 2): 8, (1, 2): 2, (1, 3): 7, (2, 3): 4}\n",
    "num_nodes = 4\n",
    "\n",
    "# Hp = 11*Z0 - 17.5*Z1 - 28*Z2 - 17*Z3 + 11.5*Z4 +\n",
    "#      13.5*(-Z0*Z2 + Z1*Z2 + Z2*Z3 - Z2*Z4 + Z0*Z1 - Z0*Z3 - Z1*Z4)\n",
    "\n",
    "# Coeficientes lineales de Hp (11 * Z0 - 17.5 * Z1...)\n",
    "linear_coefs = [11, -17.5, -28, -17, 11.5]\n",
    "\n",
    "# Coeficientes cuadráticos Ej: {(2, 3): 13.5} -> 13.5 * Z2 * Z3\n",
    "quadra_coefs = {(0, 1): 13.5, (0, 2): -13.5, (0, 3): -13.5, (1, 2): 13.5,\n",
    "                (1, 4): -13.5, (2, 3): 13.5, (2, 4): -13.5}\n",
    "\n",
    "# edges = {(0, 1): q_0,\n",
    "#          (0, 2): q_1,\n",
    "#          (1, 2): q_2,\n",
    "#          (1, 3): q_3,\n",
    "#          (2, 3): q_4}"
   ]
  },
  {
   "cell_type": "code",
   "execution_count": null,
   "id": "d6fb29f3-f360-4e3e-9dd9-bc9316a0b174",
   "metadata": {
    "collapsed": false
   },
   "outputs": [],
   "source": [
    "import networkx as nx\n",
    "import matplotlib.pyplot as plt\n",
    "\n",
    "# Imprime un grafo dirigido pesado\n",
    "# Entrada:\n",
    "#     graph_nodes: Lista de nodos del grafo\n",
    "#     graph_edges: Diccionario {vértice: peso} donde vértice es (n1, n2)\n",
    "#     layout:      Para especificar la posición de los nodos\n",
    "def print_graph(graph_nodes, graph_edges, layout=None):\n",
    "    G = nx.DiGraph()\n",
    "\n",
    "    # Nodes\n",
    "    G.add_nodes_from(graph_nodes)\n",
    "\n",
    "    # Edges\n",
    "    for pair, weight in graph_edges.items():\n",
    "        G.add_edge(pair[0], pair[1], weight=weight)\n",
    "\n",
    "    # Print graph\n",
    "    if layout is None:\n",
    "        layout = nx.spring_layout(G)\n",
    "\n",
    "    plt.figure(3, figsize=(6, 2))\n",
    "    nx.draw(G, layout, with_labels=True, node_size=600)\n",
    "    edge_labels = nx.get_edge_attributes(G, \"weight\")\n",
    "    nx.draw_networkx_edge_labels(G, pos=layout, edge_labels=edge_labels)\n",
    "    #plt.savefig(\"../../latex/img/primer_grafo/primer_grafo.png\")\n",
    "\n",
    "print_graph(range(num_nodes), edges, layout=print_graph_layout)"
   ]
  },
  {
   "cell_type": "code",
   "execution_count": null,
   "id": "c1ff912c-d66d-4e5d-8b42-63ffdfa3d01e",
   "metadata": {
    "collapsed": false
   },
   "outputs": [],
   "source": [
    "# Función de coste binaria con valores {0, 1}\n",
    "cost_function = \"\\\n",
    "5*x_01 + 8*x_02 + 2*x_12 + 7*x_13 + 4*x_23 + \\\n",
    "27*(x_01 + x_02 - 1)**2 + \\\n",
    "27*(x_01 - x_12 - x_13)**2 + \\\n",
    "27*(x_02 + x_12 - x_23)**2\"\n",
    "\n",
    "# Evalúa una solución concreta según la función de coste para la versión QUBO\n",
    "# Entrada:\n",
    "#     - bits: Cadena con los valores de los qubits medidos\n",
    "#             Orden: q_4 q_3 q_2 q_1 q_0\n",
    "def eval_cost_function(bits):\n",
    "    assert len(edges) == len(bits), \"Error in cost_function: Length of bits\"\n",
    "\n",
    "    inv_bits = bits[::-1]  # Los qubits están en orden inverso\n",
    "\n",
    "    param_dict = {}\n",
    "    # Asignación entre x_ij -> q_n\n",
    "    # Establecido por el orden de edges. Ej: x_12 -> q_2 (esto es, qubit nº2)\n",
    "    for n, (i, j) in enumerate(edges):\n",
    "        param_dict[f\"x_{i}{j}\"] = int(inv_bits[n])\n",
    "\n",
    "    return eval(cost_function, param_dict)"
   ]
  },
  {
   "cell_type": "code",
   "execution_count": null,
   "id": "a3bd00e9-551f-47ed-8369-299aa57f0532",
   "metadata": {
    "collapsed": false
   },
   "outputs": [],
   "source": [
    "# Show min of the cost function\n",
    "import itertools\n",
    "\n",
    "results = {}\n",
    "for z in itertools.product([\"0\", \"1\"], repeat=len(edges)):\n",
    "    z = ''.join(z)\n",
    "    results[z] = eval_cost_function(z)\n",
    "\n",
    "results = {k: v for k, v in sorted(results.items(), key=lambda x: x[1])}\n",
    "for k in results:\n",
    "    print(f\"{k}: {results[k]}\")"
   ]
  },
  {
   "cell_type": "code",
   "execution_count": null,
   "id": "33ecd1ac-289e-4d78-a1aa-9d1988c1a4c8",
   "metadata": {
    "collapsed": false
   },
   "outputs": [],
   "source": [
    "from qiskit import QuantumCircuit\n",
    "\n",
    "def generate_qaoa_circuit(theta):\n",
    "    assert len(theta) % 2 == 0, \"Error in parameters (Beta, Gamma)\"\n",
    "\n",
    "    nqubits = len(edges)  # Tantos qubits como aristas tenga el grafo\n",
    "    circuit = QuantumCircuit(nqubits)\n",
    "\n",
    "    layers = int(len(theta) / 2)\n",
    "    beta = theta[:layers]\n",
    "    gamma = theta[layers:]\n",
    "\n",
    "    # |v0>\n",
    "    for i in range(nqubits):\n",
    "        circuit.h(i)\n",
    "\n",
    "    for p in range(layers):\n",
    "        circuit.barrier()\n",
    "\n",
    "        # Hp\n",
    "        for q_idx, coef in enumerate(linear_coefs):\n",
    "            circuit.rz(coef * 2 * gamma[p], q_idx)\n",
    "        for q_idxs, coef in quadra_coefs.items():\n",
    "            circuit.rzz(coef * 2 * gamma[p], q_idxs[0], q_idxs[1])\n",
    "\n",
    "        circuit.barrier()\n",
    "\n",
    "        # Hm\n",
    "        for q_idx in range(nqubits):\n",
    "            circuit.rx(beta[p] * 2, q_idx)\n",
    "\n",
    "    circuit.measure_all()\n",
    "    return circuit"
   ]
  },
  {
   "cell_type": "code",
   "execution_count": null,
   "id": "244d37db-99e8-4b2d-ab35-ed2254b65da0",
   "metadata": {
    "collapsed": false
   },
   "outputs": [],
   "source": [
    "def compute_expectation(counts):\n",
    "    media = 0\n",
    "    len_count = 0\n",
    "    for bits, count in counts.items():\n",
    "        cost = eval_cost_function(bits)\n",
    "        media += cost * count\n",
    "        len_count += count\n",
    "\n",
    "    return media/len_count"
   ]
  },
  {
   "cell_type": "code",
   "execution_count": null,
   "id": "708167f8-9ec2-420e-895d-246326fa178f",
   "metadata": {
    "collapsed": false
   },
   "outputs": [],
   "source": [
    "# Simulador\n",
    "from qiskit import Aer\n",
    "from scipy.optimize import minimize\n",
    "\n",
    "backend = Aer.get_backend('aer_simulator')\n",
    "shots = 1024\n",
    "\n",
    "def execute_circuit(theta):\n",
    "    qc = generate_qaoa_circuit(theta)\n",
    "    counts = backend.run(qc, shots=shots).result().get_counts()\n",
    "    return compute_expectation(counts)\n",
    "\n",
    "num_layers = 1\n",
    "theta_res = minimize(execute_circuit, [1.0, 1.0] * num_layers, method = \"COBYLA\")\n",
    "theta_res"
   ]
  },
  {
   "cell_type": "code",
   "execution_count": null,
   "id": "6474ef88-d613-4cbd-b171-7b19cb29440e",
   "metadata": {
    "collapsed": false
   },
   "outputs": [],
   "source": [
    "from qiskit.visualization import plot_histogram\n",
    "backend = Aer.get_backend('aer_simulator')\n",
    "shots = 1024\n",
    "\n",
    "qc = generate_qaoa_circuit(theta_res.x)\n",
    "counts = backend.run(qc, shots=shots).result().get_counts()\n",
    "#plot_histogram(normalized_counts, figsize=(13, 6.83),\n",
    "#               filename=\"../../latex/resultados/img/primer_grafo/sin_restriccion_extra/primer_paper_aer_resultado.png\")\n",
    "normalized_counts = {key: val / shots for (key, val) in counts.items()}\n",
    "plot_histogram(normalized_counts, figsize=(13, 6.83))"
   ]
  },
  {
   "cell_type": "code",
   "execution_count": null,
   "id": "9f3a0847-9ef1-47b3-ad4b-f824ddd1efbe",
   "metadata": {
    "collapsed": false
   },
   "outputs": [],
   "source": [
    "# Gamma function\n",
    "import numpy as np\n",
    "import matplotlib.pyplot as plt\n",
    "\n",
    "def gamma_function():\n",
    "    x = np.linspace(0.3, 1.5, 120)\n",
    "    y = []\n",
    "    beta = 1.0\n",
    "    for gamma in x:\n",
    "        y.append(execute_circuit([beta, gamma]))\n",
    "\n",
    "    plt.plot(x, y)\n",
    "    # plt.savefig(\"../../latex/resultados/img/primer_grafo/sin_restriccion_extra/primer_paper_p_27_gamma_fun.png\")\n",
    "    plt.show()\n",
    "\n",
    "gamma_function()"
   ]
  },
  {
   "cell_type": "code",
   "execution_count": null,
   "id": "08388aba-b78f-44da-bcea-02d0e78b88b8",
   "metadata": {
    "collapsed": false
   },
   "outputs": [],
   "source": [
    "# 3D Gamma function\n",
    "import numpy as np\n",
    "import matplotlib.pyplot as plt\n",
    "from matplotlib import cm\n",
    "import itertools\n",
    "\n",
    "def gamma_function_3d():\n",
    "    beta = np.linspace(0.3, 1.5, 120)\n",
    "    gamma = np.linspace(0.3, 1.5, 120)\n",
    "    z = np.zeros([len(gamma), len(beta)])\n",
    "    beta, gamma = np.meshgrid(beta, gamma)\n",
    "\n",
    "    for i in range(z.shape[0]):\n",
    "        for j in range(z.shape[1]):\n",
    "            z[i][j] = execute_circuit([beta[i][j], gamma[i][j]])\n",
    "\n",
    "    fig = plt.figure()\n",
    "    axis = plt.axes(projection='3d')\n",
    "    figure = axis.plot_surface(gamma, beta, z, cmap=cm.coolwarm, linewidth=0, antialiased=False)\n",
    "    fig.colorbar(figure, shrink=0.5, aspect=5)\n",
    "    # plt.savefig(\"../../latex/resultados/img/primer_grafo/sin_restriccion_extra/primer_paper_p_27_gamma_fun.png\")\n",
    "    plt.show()\n",
    "\n",
    "gamma_function_3d()"
   ]
  },
  {
   "cell_type": "code",
   "execution_count": null,
   "id": "ca2ce1e6-df23-43e4-a02d-5be00db6ab2b",
   "metadata": {
    "collapsed": false
   },
   "outputs": [],
   "source": [
    "# Statistics\n",
    "def max_global_statistics(num_layers=1, num_generations=100):\n",
    "    max_statistics = {}\n",
    "    global_statistics = {}\n",
    "    for iteration in range(0, num_generations):\n",
    "        theta_res = minimize(execute_circuit, [1.0, 1.0] * num_layers, method = \"COBYLA\")\n",
    "        qc = generate_qaoa_circuit(theta_res.x)\n",
    "        counts = backend.run(qc, shots=shots).result().get_counts()\n",
    "\n",
    "        # Max statistics\n",
    "        max_path = max(counts, key=counts.get)\n",
    "        if max_path not in max_statistics:\n",
    "            max_statistics[max_path] = 0\n",
    "        max_statistics[max_path] += 1\n",
    "\n",
    "        # Global statistics\n",
    "        for (path, num_appearances) in counts.items():\n",
    "            if path not in global_statistics:\n",
    "                global_statistics[path] = 0\n",
    "            global_statistics[path] += num_appearances\n",
    "\n",
    "    for path in global_statistics:\n",
    "        global_statistics[path] = global_statistics[path] / shots / num_generations  # Normalize\n",
    "\n",
    "    for path in max_statistics:\n",
    "        max_statistics[path] = max_statistics[path] / num_generations  # Normalize\n",
    "\n",
    "    max_statistics = sorted(max_statistics.items(), key=lambda x: x[1], reverse=True)\n",
    "    global_statistics = sorted(global_statistics.items(), key=lambda x: x[1], reverse=True)\n",
    "    return max_statistics, global_statistics\n",
    "\n",
    "\n",
    "interval_num_layers = (4, 5)\n",
    "for p in range(interval_num_layers[0], interval_num_layers[1] + 1):\n",
    "    max_st, global_st = max_global_statistics(num_layers=p, num_generations=100)\n",
    "    print(f\"Max statistics (p = {p}): \", str(max_st))\n",
    "    print(f\"Global statistics (p = {p}): \", str(global_st))\n",
    "    print()"
   ]
  },
  {
   "cell_type": "code",
   "execution_count": null,
   "id": "a2b46387-5418-4906-941c-1e3bc75c6c98",
   "metadata": {
    "collapsed": false
   },
   "outputs": [],
   "source": [
    "# Max statistics (p = 1):  [('00000', 0.747), ('10001', 0.121), ('00010', 0.054), ('01001', 0.038), ('10000', 0.01), ('10010', 0.008), ('11011', 0.006), ('10101', 0.005), ('01011', 0.003), ('00001', 0.003), ('01000', 0.002), ('10011', 0.001), ('11001', 0.001), ('11000', 0.001)]\n",
    "# Global statistics (p = 1):  [('00000', 0.2606376953125), ('00010', 0.14180078125), ('00001', 0.1273720703125), ('00011', 0.0846796875), ('10001', 0.064578125), ('10101', 0.0404716796875), ('01000', 0.0364150390625), ('00100', 0.0328359375), ('00110', 0.0301103515625), ('10000', 0.0295146484375), ('01001', 0.0180283203125), ('00101', 0.0179658203125), ('10010', 0.012953125), ('00111', 0.0123505859375), ('01010', 0.012310546875), ('11000', 0.008453125), ('01011', 0.0076533203125), ('01100', 0.0066494140625), ('10011', 0.0064658203125), ('10100', 0.0063330078125), ('11001', 0.00612109375), ('11101', 0.0058369140625), ('10111', 0.005314453125), ('01101', 0.0049912109375), ('01110', 0.0043125), ('11011', 0.003833984375), ('10110', 0.00343359375), ('11010', 0.00278515625), ('01111', 0.002380859375), ('11100', 0.001890625), ('11111', 0.0010205078125), ('11110', 0.0005)]\n",
    "\n",
    "# Max statistics (p = 2):  [('01001', 0.381), ('10101', 0.092), ('10010', 0.087), ('00000', 0.071), ('11010', 0.065), ('10000', 0.056), ('00001', 0.046), ('10001', 0.035), ('11001', 0.03), ('00010', 0.024), ('00101', 0.017), ('11011', 0.017), ('01000', 0.016), ('01101', 0.014), ('11101', 0.012), ('10111', 0.006), ('01010', 0.006), ('10110', 0.005), ('10011', 0.005), ('00011', 0.004), ('10100', 0.003), ('11000', 0.003), ('01011', 0.002), ('00100', 0.002), ('11110', 0.001)]\n",
    "# Global statistics (p = 2):  [('01001', 0.1703583984375), ('00001', 0.0641953125), ('00000', 0.0621162109375), ('10101', 0.058279296875), ('11001', 0.0532158203125), ('10010', 0.05028515625), ('10000', 0.0404052734375), ('10001', 0.0390205078125), ('01011', 0.037263671875), ('01000', 0.0371845703125), ('00010', 0.033548828125), ('11010', 0.0316279296875), ('00101', 0.028376953125), ('01101', 0.0270654296875), ('11101', 0.02637890625), ('11011', 0.023724609375), ('10100', 0.022974609375), ('10011', 0.02228515625), ('01010', 0.021111328125), ('11000', 0.019705078125), ('00011', 0.01921484375), ('00100', 0.019060546875), ('10111', 0.0172333984375), ('10110', 0.016107421875), ('01111', 0.01019140625), ('11111', 0.008515625), ('00111', 0.0079072265625), ('11100', 0.007673828125), ('01100', 0.0075322265625), ('00110', 0.0074814453125), ('11110', 0.0050400390625), ('01110', 0.0049189453125)]\n",
    "\n",
    "# Max statistics (p = 3):  [('10101', 0.548), ('00001', 0.187), ('00000', 0.117), ('11010', 0.055), ('11101', 0.036), ('11001', 0.022), ('10110', 0.007), ('00010', 0.007), ('10010', 0.004), ('01101', 0.004), ('01001', 0.003), ('00101', 0.003), ('11011', 0.001), ('10000', 0.001), ('00100', 0.001), ('01000', 0.001), ('01011', 0.001), ('10100', 0.001), ('01010', 0.001)]\n",
    "# Global statistics (p = 3):  [('10101', 0.1298017578125), ('00000', 0.07260546875), ('00001', 0.0687490234375), ('10010', 0.0623427734375), ('01101', 0.0592236328125), ('11101', 0.04654296875), ('11010', 0.044693359375), ('01001', 0.042392578125), ('10100', 0.03910546875), ('10001', 0.034166015625), ('10000', 0.0335458984375), ('10111', 0.0329287109375), ('11000', 0.030796875), ('01000', 0.029337890625), ('00100', 0.0247646484375), ('11001', 0.02325), ('00010', 0.0220693359375), ('00101', 0.0205537109375), ('10110', 0.0202529296875), ('01011', 0.0193388671875), ('00011', 0.017576171875), ('11111', 0.016662109375), ('11100', 0.0159130859375), ('01010', 0.014), ('01100', 0.0133046875), ('10011', 0.01310546875), ('11110', 0.0130478515625), ('11011', 0.009587890625), ('01111', 0.009138671875), ('00110', 0.00854296875), ('01110', 0.006533203125), ('00111', 0.0061259765625)]\n",
    "\n",
    "# Max statistics (p = 4):  [('10010', 0.17), ('01001', 0.153), ('00000', 0.144), ('10101', 0.111), ('00001', 0.066), ('10000', 0.05), ('10100', 0.042), ('01010', 0.04), ('01000', 0.036), ('00010', 0.027), ('11101', 0.024), ('00101', 0.022), ('11001', 0.019), ('11010', 0.019), ('11011', 0.015), ('10001', 0.012), ('10111', 0.011), ('10011', 0.011), ('01101', 0.008), ('01011', 0.007), ('10110', 0.005), ('00100', 0.004), ('11000', 0.002), ('00011', 0.002)]\n",
    "# Global statistics (p = 4):  [('01001', 0.0788369140625), ('10010', 0.0786611328125), ('10101', 0.070044921875), ('00000', 0.0672861328125), ('00001', 0.051326171875), ('10000', 0.04697265625), ('00101', 0.0406728515625), ('10100', 0.03939453125), ('01000', 0.0382978515625), ('00010', 0.0353203125), ('11101', 0.0344697265625), ('10001', 0.0335712890625), ('01010', 0.0335712890625), ('11001', 0.033396484375), ('01101', 0.02933984375), ('11011', 0.027583984375), ('11010', 0.026521484375), ('10111', 0.025197265625), ('10110', 0.0229921875), ('01011', 0.022595703125), ('00011', 0.02115625), ('10011', 0.020666015625), ('00100', 0.0204560546875), ('11000', 0.018044921875), ('11111', 0.014021484375), ('11100', 0.0111767578125), ('00111', 0.01075), ('00110', 0.01062109375), ('11110', 0.0104404296875), ('01111', 0.0096396484375), ('01100', 0.0096171875), ('01110', 0.007357421875)]\n",
    "\n",
    "# Max statistics (p = 5):  [('10000', 0.208), ('01001', 0.203), ('00101', 0.136), ('00001', 0.135), ('10010', 0.075), ('00010', 0.074), ('10101', 0.06), ('10100', 0.058), ('11011', 0.011), ('10001', 0.011), ('00000', 0.007), ('11001', 0.006), ('11101', 0.004), ('10110', 0.004), ('11010', 0.003), ('01011', 0.001), ('01101', 0.001), ('01010', 0.001), ('10111', 0.001), ('00100', 0.001)]\n",
    "# Global statistics (p = 5):  [('00001', 0.1075478515625), ('01001', 0.101423828125), ('00101', 0.085876953125), ('10101', 0.057087890625), ('10100', 0.0532041015625), ('00010', 0.0529443359375), ('10000', 0.0518603515625), ('10010', 0.050685546875), ('11001', 0.0419404296875), ('11011', 0.0388642578125), ('10001', 0.0336865234375), ('00000', 0.028517578125), ('11101', 0.02641796875), ('01011', 0.02351171875), ('11010', 0.0232548828125), ('10110', 0.020583984375), ('01000', 0.0200751953125), ('00100', 0.01990234375), ('10111', 0.0195654296875), ('01101', 0.0187412109375), ('11100', 0.0171962890625), ('11000', 0.0151875), ('01010', 0.0150224609375), ('00011', 0.0118291015625), ('01111', 0.011712890625), ('10011', 0.0113076171875), ('00111', 0.011126953125), ('01110', 0.007884765625), ('01100', 0.0066611328125), ('11111', 0.0058154296875), ('00110', 0.0057666015625), ('11110', 0.004796875)]\n"
   ]
  },
  {
   "cell_type": "code",
   "execution_count": null,
   "id": "11e6a064-2266-4f02-83b7-d6df99f30aed",
   "metadata": {
    "collapsed": false
   },
   "outputs": [],
   "source": [
    "!dunstify -t $((30* 1000*60)) --urgency=critical \"Ejecución completada\""
   ]
  }
 ],
 "metadata": {
  "kernelspec": {
   "argv": [
    "python",
    "-m",
    "ipykernel_launcher",
    "-f",
    "{connection_file}"
   ],
   "display_name": "Python 3 (ipykernel)",
   "env": null,
   "interrupt_mode": "signal",
   "language": "python",
   "metadata": {
    "debugger": true
   },
   "name": "python3"
  },
  "name": "aer-qaoa.ipynb"
 },
 "nbformat": 4,
 "nbformat_minor": 5
}
